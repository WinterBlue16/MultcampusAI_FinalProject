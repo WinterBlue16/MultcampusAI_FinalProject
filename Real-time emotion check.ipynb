{
 "cells": [
  {
   "cell_type": "code",
   "execution_count": 1,
   "metadata": {},
   "outputs": [
    {
     "name": "stderr",
     "output_type": "stream",
     "text": [
      "Using TensorFlow backend.\n"
     ]
    }
   ],
   "source": [
    "import warnings\n",
    "import cv2\n",
    "import os\n",
    "import copy\n",
    "from sklearn.externals import joblib\n",
    "import numpy as np\n",
    "from keras.models import load_model"
   ]
  },
  {
   "cell_type": "code",
   "execution_count": 2,
   "metadata": {},
   "outputs": [
    {
     "name": "stdout",
     "output_type": "stream",
     "text": [
      "Collecting keras\n",
      "  Using cached https://files.pythonhosted.org/packages/ad/fd/6bfe87920d7f4fd475acd28500a42482b6b84479832bdc0fe9e589a60ceb/Keras-2.3.1-py2.py3-none-any.whl\n",
      "Requirement already satisfied: scipy>=0.14 in c:\\users\\user\\anaconda3\\lib\\site-packages (from keras) (1.2.1)\n",
      "Requirement already satisfied: h5py in c:\\users\\user\\anaconda3\\lib\\site-packages (from keras) (2.9.0)\n",
      "Requirement already satisfied: six>=1.9.0 in c:\\users\\user\\anaconda3\\lib\\site-packages (from keras) (1.12.0)\n",
      "Requirement already satisfied: keras-applications>=1.0.6 in c:\\users\\user\\anaconda3\\lib\\site-packages (from keras) (1.0.8)\n",
      "Requirement already satisfied: keras-preprocessing>=1.0.5 in c:\\users\\user\\anaconda3\\lib\\site-packages (from keras) (1.1.0)\n",
      "Requirement already satisfied: numpy>=1.9.1 in c:\\users\\user\\anaconda3\\lib\\site-packages (from keras) (1.16.2)\n",
      "Requirement already satisfied: pyyaml in c:\\users\\user\\anaconda3\\lib\\site-packages (from keras) (5.1)\n",
      "Installing collected packages: keras\n",
      "Successfully installed keras-2.3.1\n"
     ]
    }
   ],
   "source": [
    "# !pip install keras"
   ]
  },
  {
   "cell_type": "code",
   "execution_count": 2,
   "metadata": {},
   "outputs": [
    {
     "name": "stdout",
     "output_type": "stream",
     "text": [
      "WARNING:tensorflow:From C:\\Users\\user\\Anaconda3\\lib\\site-packages\\tensorflow\\python\\ops\\resource_variable_ops.py:435: colocate_with (from tensorflow.python.framework.ops) is deprecated and will be removed in a future version.\n",
      "Instructions for updating:\n",
      "Colocations handled automatically by placer.\n",
      "WARNING:tensorflow:From C:\\Users\\user\\Anaconda3\\lib\\site-packages\\tensorflow\\python\\ops\\math_ops.py:3066: to_int32 (from tensorflow.python.ops.math_ops) is deprecated and will be removed in a future version.\n",
      "Instructions for updating:\n",
      "Use tf.cast instead.\n",
      "[[8.9090242e-04 2.2164768e-05 9.9908698e-01]]\n",
      "[[1.6459096e-03 6.4024738e-05 9.9829000e-01]]\n",
      "[[1.0685845e-03 2.5438221e-05 9.9890602e-01]]\n",
      "[[1.4259417e-03 3.8388564e-05 9.9853563e-01]]\n",
      "[[3.7499517e-03 5.7505502e-05 9.9619257e-01]]\n",
      "[[4.5537362e-03 6.3853600e-05 9.9538237e-01]]\n",
      "[[2.3017020e-03 8.9338806e-05 9.9760890e-01]]\n",
      "[[3.7251352e-04 1.4161176e-04 9.9948585e-01]]\n",
      "[[5.0405655e-02 5.8944213e-05 9.4953543e-01]]\n",
      "[[1.4559329e-04 5.0414860e-04 9.9935025e-01]]\n",
      "[[3.1436485e-04 1.7640301e-03 9.9792165e-01]]\n",
      "[[1.0374445e-04 2.4684452e-04 9.9964941e-01]]\n",
      "[[6.7252025e-05 2.7234526e-04 9.9966037e-01]]\n",
      "[[1.9174113e-04 3.5947212e-04 9.9944884e-01]]\n",
      "[[5.9579343e-05 6.2180217e-04 9.9931860e-01]]\n",
      "[[1.7822198e-04 4.0911484e-04 9.9941266e-01]]\n",
      "[[2.56587169e-03 1.00869205e-04 9.97333288e-01]]\n",
      "[[1.2848605e-03 7.7142562e-05 9.9863797e-01]]\n",
      "[[1.2610600e-04 1.8834256e-05 9.9985504e-01]]\n",
      "[[2.1900370e-04 1.9202380e-05 9.9976176e-01]]\n",
      "[[1.9107695e-03 2.7279521e-04 9.9781644e-01]]\n",
      "[[5.7161500e-04 4.3843418e-05 9.9938452e-01]]\n",
      "[[3.0901376e-03 1.4468309e-04 9.9676514e-01]]\n",
      "[[4.2806342e-03 1.0882334e-04 9.9561054e-01]]\n",
      "[[4.7269505e-03 1.9656870e-04 9.9507648e-01]]\n",
      "[[2.8694645e-03 1.2892754e-05 9.9711764e-01]]\n",
      "[[2.6899558e-03 9.4163341e-05 9.9721587e-01]]\n",
      "[[2.3877083e-03 4.6141267e-06 9.9760771e-01]]\n",
      "[[3.2332987e-03 1.0751663e-04 9.9665916e-01]]\n",
      "[[7.9621803e-03 5.5304995e-06 9.9203229e-01]]\n",
      "[[2.9666927e-03 9.6864969e-05 9.9693644e-01]]\n",
      "[[3.6580570e-03 4.5576835e-06 9.9633741e-01]]\n",
      "[[2.0691094e-03 7.3431016e-05 9.9785739e-01]]\n",
      "[[2.0718412e-03 6.6183049e-05 9.9786204e-01]]\n",
      "[[3.8257623e-03 1.0802013e-04 9.9606627e-01]]\n",
      "[[8.4199077e-03 5.0691342e-06 9.9157506e-01]]\n",
      "[[1.0826157e-02 7.1069073e-05 9.8910272e-01]]\n",
      "[[1.034500e-02 9.067840e-05 9.895643e-01]]\n",
      "[[1.15816295e-02 1.24431201e-04 9.88293886e-01]]\n",
      "[[3.8619675e-03 8.6449698e-05 9.9605161e-01]]\n",
      "[[1.901345e-02 5.328564e-05 9.809333e-01]]\n",
      "[[1.8948341e-03 5.0794326e-05 9.9805439e-01]]\n",
      "[[9.217081e-03 5.800552e-05 9.907250e-01]]\n",
      "[[1.0915192e-02 1.9579575e-05 9.8906517e-01]]\n",
      "[[3.3036852e-03 2.1042158e-06 9.9669421e-01]]\n",
      "[[4.6653464e-03 8.7807093e-05 9.9524683e-01]]\n",
      "[[4.9831308e-03 1.3268358e-05 9.9500364e-01]]\n",
      "[[9.6688024e-04 1.3553409e-05 9.9901950e-01]]\n",
      "[[8.3615184e-03 7.6923876e-05 9.9156159e-01]]\n",
      "[[8.1718368e-03 6.8887406e-05 9.9175924e-01]]\n",
      "[[6.9131171e-03 7.4616422e-05 9.9301225e-01]]\n",
      "[[5.6654019e-03 9.2878065e-05 9.9424171e-01]]\n",
      "[[7.8450888e-03 1.5048920e-04 9.9200445e-01]]\n",
      "[[8.23615398e-03 1.00474106e-04 9.91663337e-01]]\n",
      "[[1.1282642e-02 9.3681274e-06 9.8870802e-01]]\n",
      "[[8.7117637e-03 1.1663983e-04 9.9117154e-01]]\n",
      "[[2.0375240e-03 2.9568387e-06 9.9795949e-01]]\n",
      "[[2.6558510e-03 4.0788731e-05 9.9730337e-01]]\n",
      "[[1.3263460e-03 2.4003226e-05 9.9864966e-01]]\n",
      "[[7.3174136e-03 8.2997620e-05 9.9259961e-01]]\n",
      "[[7.0075337e-03 1.0170394e-04 9.9289072e-01]]\n"
     ]
    }
   ],
   "source": [
    "model = load_model('cnn0515(imagegenerator, 200, haar cascade).h5')\n",
    "cascade_file = 'haarcascade_frontface.xml'\n",
    "cascade = cv2.CascadeClassifier(cascade_file)\n",
    "\n",
    "capture = cv2.VideoCapture(0)\n",
    "capture.set(cv2.CAP_PROP_FRAME_WIDTH, 640)\n",
    "capture.set(cv2.CAP_PROP_FRAME_HEIGHT, 480)\n",
    "frame_count = 0\n",
    "\n",
    "while True:\n",
    "    ret, frame = capture.read()\n",
    "    frame2 = copy.copy(frame)\n",
    "    frame_count += 1\n",
    "    \n",
    "    gray = cv2.cvtColor(frame, cv2.COLOR_BGR2GRAY)\n",
    "    face_list = cascade.detectMultiScale(gray)\n",
    "\n",
    "    if len(face_list) == 0:\n",
    "        quit()\n",
    "\n",
    "    for (x,y,w,h) in face_list:\n",
    "        roi = frame[y:y+h, x:x+w]\n",
    "        roi = roi.astype('float32')/255\n",
    "        imagex = cv2.resize(roi, (200, 200))\n",
    "        #print(imagex.shape)\n",
    "        image_data = imagex.reshape(1, 200, 200, 3)\n",
    "\n",
    "        color = (255, 0, 0)\n",
    "\n",
    "        pred_y = model.predict(image_data) # --- (*4)\n",
    "        print(pred_y)\n",
    "\n",
    "        if np.argmax(pred_y) == 0:\n",
    "                cv2.rectangle(frame, (x, y), (x+w, y+h), color, thickness=4)\n",
    "                cv2.putText(frame,'Neutral',(x,y-20),cv2.FONT_ITALIC, 0.5, (255,255,255))  \n",
    "\n",
    "        elif np.argmax(pred_y) == 1:  \n",
    "                cv2.rectangle(frame, (x, y), (x+w, y+h), color, thickness=4)\n",
    "                cv2.putText(frame,'Positive',(x,y-20),cv2.FONT_ITALIC, 0.5, (255,255,255))  \n",
    "        else:\n",
    "            np.argmax(pred_y) == 2\n",
    "            cv2.rectangle(frame, (x, y), (x+w, y+h), color, thickness=4)\n",
    "            cv2.putText(frame,'Negative',(x,y-20),cv2.FONT_ITALIC, 0.5, (255,255,255))          \n",
    "\n",
    "    cv2.imshow(\"VideoFrame\", frame) # 윈도우 창에 이미지 띄움\n",
    "    if cv2.waitKey(1) > 0:       # (time) 은 time 마다 키 입력상태 받아옴\n",
    "        break   \n",
    "\n",
    "capture.release()                # 받아온 메모리 해제\n",
    "cv2.destroyAllWindows() "
   ]
  },
  {
   "cell_type": "code",
   "execution_count": null,
   "metadata": {},
   "outputs": [],
   "source": []
  }
 ],
 "metadata": {
  "kernelspec": {
   "display_name": "Python 3",
   "language": "python",
   "name": "python3"
  },
  "language_info": {
   "codemirror_mode": {
    "name": "ipython",
    "version": 3
   },
   "file_extension": ".py",
   "mimetype": "text/x-python",
   "name": "python",
   "nbconvert_exporter": "python",
   "pygments_lexer": "ipython3",
   "version": "3.7.3"
  }
 },
 "nbformat": 4,
 "nbformat_minor": 2
}
