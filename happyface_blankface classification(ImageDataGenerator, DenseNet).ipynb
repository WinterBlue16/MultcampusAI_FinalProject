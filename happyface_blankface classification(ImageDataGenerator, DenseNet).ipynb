{
 "cells": [
  {
   "cell_type": "code",
   "execution_count": 3,
   "metadata": {},
   "outputs": [
    {
     "name": "stdout",
     "output_type": "stream",
     "text": [
      "WARNING:tensorflow:From C:\\Users\\User\\Anaconda3\\lib\\site-packages\\keras\\optimizers.py:790: The name tf.train.Optimizer is deprecated. Please use tf.compat.v1.train.Optimizer instead.\n",
      "\n",
      "WARNING:tensorflow:From C:\\Users\\User\\Anaconda3\\lib\\site-packages\\tensorflow\\python\\ops\\nn_impl.py:180: add_dispatch_support.<locals>.wrapper (from tensorflow.python.ops.array_ops) is deprecated and will be removed in a future version.\n",
      "Instructions for updating:\n",
      "Use tf.where in 2.0, which has the same broadcast rule as np.where\n"
     ]
    }
   ],
   "source": [
    "# DenseNet\n",
    "from keras.applications import DenseNet121\n",
    "from keras.layers import Dense, Input, Activation, Flatten\n",
    "from keras.models import Model\n",
    "from keras.callbacks import EarlyStopping\n",
    "from keras import optimizers\n",
    "from keras.preprocessing.image import ImageDataGenerator\n",
    "from keras.layers.normalization import BatchNormalization\n",
    "\n",
    "\n",
    "input = Input(shape=(100, 100, 3))\n",
    "model = DenseNet121(input_tensor=input, include_top=False, weights=None)\n",
    "x = model.output\n",
    "x = Dense(1, activation='sigmoid')(x)\n",
    "model = Model(model.input, x)\n",
    "\n",
    "model.compile(loss='binary_crossentropy',optimizer='Adam',metrics=['accuracy'])\n",
    "\n",
    "# model.summary()"
   ]
  },
  {
   "cell_type": "code",
   "execution_count": 4,
   "metadata": {},
   "outputs": [],
   "source": [
    "from keras.preprocessing.image import ImageDataGenerator"
   ]
  },
  {
   "cell_type": "code",
   "execution_count": null,
   "metadata": {
    "scrolled": true
   },
   "outputs": [
    {
     "name": "stdout",
     "output_type": "stream",
     "text": [
      "Found 1600 images belonging to 2 classes.\n",
      "Found 1600 images belonging to 2 classes.\n",
      "Epoch 1/30\n",
      "30/30 [==============================] - 178s 6s/step - loss: 6.2786 - acc: 0.5000 - val_loss: 7.6523 - val_acc: 0.5200\n",
      "Epoch 2/30\n",
      "30/30 [==============================] - 82s 3s/step - loss: 7.4398 - acc: 0.5333 - val_loss: 7.9712 - val_acc: 0.5000\n",
      "Epoch 3/30\n",
      "30/30 [==============================] - 100s 3s/step - loss: 8.5026 - acc: 0.4667 - val_loss: 8.2900 - val_acc: 0.4800\n",
      "Epoch 4/30\n",
      "30/30 [==============================] - 102s 3s/step - loss: 7.4398 - acc: 0.5333 - val_loss: 8.6089 - val_acc: 0.4600\n",
      "Epoch 5/30\n",
      "30/30 [==============================] - 98s 3s/step - loss: 6.3770 - acc: 0.6000 - val_loss: 8.9277 - val_acc: 0.4400\n",
      "Epoch 6/30\n",
      "30/30 [==============================] - 102s 3s/step - loss: 6.9084 - acc: 0.5667 - val_loss: 9.2466 - val_acc: 0.4200\n",
      "Epoch 7/30\n",
      "30/30 [==============================] - 100s 3s/step - loss: 7.4398 - acc: 0.5333 - val_loss: 7.9712 - val_acc: 0.5000\n",
      "Epoch 8/30\n",
      "28/30 [===========================>..] - ETA: 4s - loss: 7.9712 - acc: 0.5000"
     ]
    }
   ],
   "source": [
    "train_data = ImageDataGenerator(rescale=1./255, \n",
    "                                shear_range=0.2,\n",
    "                                zoom_range=0.2,\n",
    "                                horizontal_flip=True)\n",
    "test_data = ImageDataGenerator(rescale=1./255)\n",
    "train_set = train_data.flow_from_directory('C:/Users/User/Desktop/dataset/train',\n",
    "                                           target_size=(100,100),\n",
    "                                           batch_size=1,\n",
    "                                           class_mode='binary')\n",
    "\n",
    "test_set = test_data.flow_from_directory('C:/Users/User/Desktop/dataset/train',\n",
    "                                           target_size=(100,100),\n",
    "                                           batch_size=1,\n",
    "                                           class_mode='binary')\n",
    "\n",
    "model.fit_generator(train_set,\n",
    "                    steps_per_epoch=30,\n",
    "                    epochs=30,\n",
    "                    validation_data=test_set,\n",
    "                   validation_steps=50)"
   ]
  },
  {
   "cell_type": "code",
   "execution_count": 15,
   "metadata": {},
   "outputs": [
    {
     "ename": "NameError",
     "evalue": "name 'accuracy' is not defined",
     "output_type": "error",
     "traceback": [
      "\u001b[1;31m---------------------------------------------------------------------------\u001b[0m",
      "\u001b[1;31mNameError\u001b[0m                                 Traceback (most recent call last)",
      "\u001b[1;32m<ipython-input-15-cb91a36c862b>\u001b[0m in \u001b[0;36m<module>\u001b[1;34m\u001b[0m\n\u001b[0;32m      1\u001b[0m \u001b[0moutput\u001b[0m \u001b[1;33m=\u001b[0m \u001b[0mmodel\u001b[0m\u001b[1;33m.\u001b[0m\u001b[0mpredict_generator\u001b[0m\u001b[1;33m(\u001b[0m\u001b[0mtest_set\u001b[0m\u001b[1;33m,\u001b[0m \u001b[0msteps\u001b[0m\u001b[1;33m=\u001b[0m\u001b[1;36m5\u001b[0m\u001b[1;33m)\u001b[0m\u001b[1;33m\u001b[0m\u001b[1;33m\u001b[0m\u001b[0m\n\u001b[1;32m----> 2\u001b[1;33m \u001b[0mprint\u001b[0m\u001b[1;33m(\u001b[0m\u001b[0maccuracy\u001b[0m\u001b[1;33m)\u001b[0m\u001b[1;33m\u001b[0m\u001b[1;33m\u001b[0m\u001b[0m\n\u001b[0m",
      "\u001b[1;31mNameError\u001b[0m: name 'accuracy' is not defined"
     ]
    }
   ],
   "source": [
    "output = model.predict_generator(test_set, steps=5)"
   ]
  },
  {
   "cell_type": "code",
   "execution_count": null,
   "metadata": {},
   "outputs": [],
   "source": []
  }
 ],
 "metadata": {
  "kernelspec": {
   "display_name": "Python 3",
   "language": "python",
   "name": "python3"
  },
  "language_info": {
   "codemirror_mode": {
    "name": "ipython",
    "version": 3
   },
   "file_extension": ".py",
   "mimetype": "text/x-python",
   "name": "python",
   "nbconvert_exporter": "python",
   "pygments_lexer": "ipython3",
   "version": "3.7.3"
  }
 },
 "nbformat": 4,
 "nbformat_minor": 2
}
