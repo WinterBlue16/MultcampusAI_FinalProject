{
 "cells": [
  {
   "cell_type": "code",
   "execution_count": 8,
   "metadata": {},
   "outputs": [
    {
     "name": "stderr",
     "output_type": "stream",
     "text": [
      "C:\\Users\\User\\Anaconda3\\lib\\site-packages\\keras_applications\\resnet50.py:265: UserWarning: The output shape of `ResNet50(include_top=False)` has been changed since Keras 2.2.0.\n",
      "  warnings.warn('The output shape of `ResNet50(include_top=False)` '\n"
     ]
    }
   ],
   "source": [
    "# ResNet\n",
    "from keras.applications import ResNet50\n",
    "from keras.layers import Dense, Flatten\n",
    "from keras.models import Model\n",
    "from keras.preprocessing.image import ImageDataGenerator\n",
    "from keras.layers.normalization import BatchNormalization\n",
    "\n",
    "\n",
    "input = Input(shape=(100, 100, 3))\n",
    "model = ResNet50(input_tensor=input, include_top=False, weights=None)\n",
    "x = model.output\n",
    "x = Dense(1, activation='sigmoid')(x)\n",
    "model = Model(model.input, x)\n",
    "\n",
    "model.compile(loss='binary_crossentropy',optimizer='Adam',metrics=['accuracy'])\n",
    "\n",
    "# model.summary()"
   ]
  },
  {
   "cell_type": "code",
   "execution_count": null,
   "metadata": {},
   "outputs": [],
   "source": [
    "from keras.preprocessing.image import ImageDataGenerator"
   ]
  },
  {
   "cell_type": "code",
   "execution_count": 5,
   "metadata": {
    "scrolled": true
   },
   "outputs": [
    {
     "name": "stdout",
     "output_type": "stream",
     "text": [
      "Found 1600 images belonging to 2 classes.\n",
      "Found 1600 images belonging to 2 classes.\n",
      "Epoch 1/30\n",
      "30/30 [==============================] - 178s 6s/step - loss: 6.2786 - acc: 0.5000 - val_loss: 7.6523 - val_acc: 0.5200\n",
      "Epoch 2/30\n",
      "30/30 [==============================] - 82s 3s/step - loss: 7.4398 - acc: 0.5333 - val_loss: 7.9712 - val_acc: 0.5000\n",
      "Epoch 3/30\n",
      "30/30 [==============================] - 100s 3s/step - loss: 8.5026 - acc: 0.4667 - val_loss: 8.2900 - val_acc: 0.4800\n",
      "Epoch 4/30\n",
      "30/30 [==============================] - 102s 3s/step - loss: 7.4398 - acc: 0.5333 - val_loss: 8.6089 - val_acc: 0.4600\n",
      "Epoch 5/30\n",
      "30/30 [==============================] - 98s 3s/step - loss: 6.3770 - acc: 0.6000 - val_loss: 8.9277 - val_acc: 0.4400\n",
      "Epoch 6/30\n",
      "30/30 [==============================] - 102s 3s/step - loss: 6.9084 - acc: 0.5667 - val_loss: 9.2466 - val_acc: 0.4200\n",
      "Epoch 7/30\n",
      "30/30 [==============================] - 100s 3s/step - loss: 7.4398 - acc: 0.5333 - val_loss: 7.9712 - val_acc: 0.5000\n",
      "Epoch 8/30\n",
      "30/30 [==============================] - 110s 4s/step - loss: 7.9712 - acc: 0.5000 - val_loss: 6.0581 - val_acc: 0.6200\n",
      "Epoch 9/30\n",
      "30/30 [==============================] - 114s 4s/step - loss: 8.5026 - acc: 0.4667 - val_loss: 7.0146 - val_acc: 0.5600\n",
      "Epoch 10/30\n",
      "30/30 [==============================] - 117s 4s/step - loss: 6.3770 - acc: 0.6000 - val_loss: 5.7393 - val_acc: 0.6400\n",
      "Epoch 11/30\n",
      "30/30 [==============================] - 125s 4s/step - loss: 8.5026 - acc: 0.4667 - val_loss: 9.8843 - val_acc: 0.3800\n",
      "Epoch 12/30\n",
      "30/30 [==============================] - 119s 4s/step - loss: 7.4398 - acc: 0.5333 - val_loss: 9.8843 - val_acc: 0.3800\n",
      "Epoch 13/30\n",
      "30/30 [==============================] - 140s 5s/step - loss: 9.5654 - acc: 0.4000 - val_loss: 7.6523 - val_acc: 0.5200\n",
      "Epoch 14/30\n",
      "30/30 [==============================] - 134s 4s/step - loss: 6.3770 - acc: 0.6000 - val_loss: 7.9712 - val_acc: 0.5000\n",
      "Epoch 15/30\n",
      "30/30 [==============================] - 116s 4s/step - loss: 7.9712 - acc: 0.5000 - val_loss: 7.9712 - val_acc: 0.5000\n",
      "Epoch 16/30\n",
      "30/30 [==============================] - 113s 4s/step - loss: 7.9712 - acc: 0.5000 - val_loss: 6.6958 - val_acc: 0.5800\n",
      "Epoch 17/30\n",
      "30/30 [==============================] - 119s 4s/step - loss: 6.3770 - acc: 0.6000 - val_loss: 7.3335 - val_acc: 0.5400\n",
      "Epoch 18/30\n",
      "30/30 [==============================] - 119s 4s/step - loss: 7.9712 - acc: 0.5000 - val_loss: 7.9712 - val_acc: 0.5000\n",
      "Epoch 19/30\n",
      "30/30 [==============================] - 101s 3s/step - loss: 7.9712 - acc: 0.5000 - val_loss: 8.2900 - val_acc: 0.4800\n",
      "Epoch 20/30\n",
      "30/30 [==============================] - 100s 3s/step - loss: 7.9712 - acc: 0.5000 - val_loss: 7.3335 - val_acc: 0.5400\n",
      "Epoch 21/30\n",
      "30/30 [==============================] - 104s 3s/step - loss: 7.4398 - acc: 0.5333 - val_loss: 7.6523 - val_acc: 0.5200\n",
      "Epoch 22/30\n",
      "30/30 [==============================] - 104s 3s/step - loss: 8.5026 - acc: 0.4667 - val_loss: 8.6089 - val_acc: 0.4600\n",
      "Epoch 23/30\n",
      "30/30 [==============================] - 90s 3s/step - loss: 9.5654 - acc: 0.4000 - val_loss: 8.9277 - val_acc: 0.4400\n",
      "Epoch 24/30\n",
      "30/30 [==============================] - 77s 3s/step - loss: 9.0340 - acc: 0.4333 - val_loss: 6.6958 - val_acc: 0.5800\n",
      "Epoch 25/30\n",
      "30/30 [==============================] - 77s 3s/step - loss: 8.5026 - acc: 0.4667 - val_loss: 8.2900 - val_acc: 0.4800\n",
      "Epoch 26/30\n",
      "30/30 [==============================] - 77s 3s/step - loss: 7.4398 - acc: 0.5333 - val_loss: 8.2900 - val_acc: 0.4800\n",
      "Epoch 27/30\n",
      "30/30 [==============================] - 87s 3s/step - loss: 7.4398 - acc: 0.5333 - val_loss: 8.6089 - val_acc: 0.4600\n",
      "Epoch 28/30\n",
      "30/30 [==============================] - 84s 3s/step - loss: 8.5026 - acc: 0.4667 - val_loss: 7.0146 - val_acc: 0.5600\n",
      "Epoch 29/30\n",
      "30/30 [==============================] - 77s 3s/step - loss: 10.0968 - acc: 0.3667 - val_loss: 7.9712 - val_acc: 0.5000\n",
      "Epoch 30/30\n",
      "30/30 [==============================] - 76s 3s/step - loss: 6.9084 - acc: 0.5667 - val_loss: 7.0146 - val_acc: 0.5600\n"
     ]
    },
    {
     "data": {
      "text/plain": [
       "<keras.callbacks.History at 0x1e187e490b8>"
      ]
     },
     "execution_count": 5,
     "metadata": {},
     "output_type": "execute_result"
    }
   ],
   "source": [
    "train_data = ImageDataGenerator(rescale=1./255, \n",
    "                                shear_range=0.2,\n",
    "                                zoom_range=0.2,\n",
    "                                horizontal_flip=True)\n",
    "test_data = ImageDataGenerator(rescale=1./255)\n",
    "train_set = train_data.flow_from_directory('C:/Users/User/Desktop/dataset/train',\n",
    "                                           target_size=(100,100),\n",
    "                                           batch_size=1,\n",
    "                                           class_mode='binary')\n",
    "\n",
    "test_set = test_data.flow_from_directory('C:/Users/User/Desktop/dataset/train',\n",
    "                                           target_size=(100,100),\n",
    "                                           batch_size=1,\n",
    "                                           class_mode='binary')\n",
    "\n",
    "model.fit_generator(train_set,\n",
    "                    steps_per_epoch=30,\n",
    "                    epochs=30,\n",
    "                    validation_data=test_set,\n",
    "                   validation_steps=50)"
   ]
  },
  {
   "cell_type": "code",
   "execution_count": 6,
   "metadata": {},
   "outputs": [],
   "source": [
    "output = model.predict_generator(test_set, steps=5)"
   ]
  },
  {
   "cell_type": "code",
   "execution_count": null,
   "metadata": {},
   "outputs": [],
   "source": []
  }
 ],
 "metadata": {
  "kernelspec": {
   "display_name": "Python 3",
   "language": "python",
   "name": "python3"
  },
  "language_info": {
   "codemirror_mode": {
    "name": "ipython",
    "version": 3
   },
   "file_extension": ".py",
   "mimetype": "text/x-python",
   "name": "python",
   "nbconvert_exporter": "python",
   "pygments_lexer": "ipython3",
   "version": "3.7.3"
  }
 },
 "nbformat": 4,
 "nbformat_minor": 2
}
