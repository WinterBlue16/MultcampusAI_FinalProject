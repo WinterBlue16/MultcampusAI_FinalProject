{
 "cells": [
  {
   "cell_type": "code",
   "execution_count": 2,
   "metadata": {},
   "outputs": [],
   "source": [
    "# !unzip -uq \"dataset_imageprocessing.zip\" -d \"dataset_imageprocessing\""
   ]
  },
  {
   "cell_type": "code",
   "execution_count": 2,
   "metadata": {},
   "outputs": [
    {
     "name": "stderr",
     "output_type": "stream",
     "text": [
      "Using TensorFlow backend.\n",
      "/home/ubuntu/anaconda3/envs/amazonei_tensorflow_p36/lib/python3.6/site-packages/tensorflow/python/framework/dtypes.py:516: FutureWarning: Passing (type, 1) or '1type' as a synonym of type is deprecated; in a future version of numpy, it will be understood as (type, (1,)) / '(1,)type'.\n",
      "  _np_qint8 = np.dtype([(\"qint8\", np.int8, 1)])\n",
      "/home/ubuntu/anaconda3/envs/amazonei_tensorflow_p36/lib/python3.6/site-packages/tensorflow/python/framework/dtypes.py:517: FutureWarning: Passing (type, 1) or '1type' as a synonym of type is deprecated; in a future version of numpy, it will be understood as (type, (1,)) / '(1,)type'.\n",
      "  _np_quint8 = np.dtype([(\"quint8\", np.uint8, 1)])\n",
      "/home/ubuntu/anaconda3/envs/amazonei_tensorflow_p36/lib/python3.6/site-packages/tensorflow/python/framework/dtypes.py:518: FutureWarning: Passing (type, 1) or '1type' as a synonym of type is deprecated; in a future version of numpy, it will be understood as (type, (1,)) / '(1,)type'.\n",
      "  _np_qint16 = np.dtype([(\"qint16\", np.int16, 1)])\n",
      "/home/ubuntu/anaconda3/envs/amazonei_tensorflow_p36/lib/python3.6/site-packages/tensorflow/python/framework/dtypes.py:519: FutureWarning: Passing (type, 1) or '1type' as a synonym of type is deprecated; in a future version of numpy, it will be understood as (type, (1,)) / '(1,)type'.\n",
      "  _np_quint16 = np.dtype([(\"quint16\", np.uint16, 1)])\n",
      "/home/ubuntu/anaconda3/envs/amazonei_tensorflow_p36/lib/python3.6/site-packages/tensorflow/python/framework/dtypes.py:520: FutureWarning: Passing (type, 1) or '1type' as a synonym of type is deprecated; in a future version of numpy, it will be understood as (type, (1,)) / '(1,)type'.\n",
      "  _np_qint32 = np.dtype([(\"qint32\", np.int32, 1)])\n",
      "/home/ubuntu/anaconda3/envs/amazonei_tensorflow_p36/lib/python3.6/site-packages/tensorflow/python/framework/dtypes.py:525: FutureWarning: Passing (type, 1) or '1type' as a synonym of type is deprecated; in a future version of numpy, it will be understood as (type, (1,)) / '(1,)type'.\n",
      "  np_resource = np.dtype([(\"resource\", np.ubyte, 1)])\n",
      "/home/ubuntu/anaconda3/envs/amazonei_tensorflow_p36/lib/python3.6/site-packages/tensorboard/compat/tensorflow_stub/dtypes.py:541: FutureWarning: Passing (type, 1) or '1type' as a synonym of type is deprecated; in a future version of numpy, it will be understood as (type, (1,)) / '(1,)type'.\n",
      "  _np_qint8 = np.dtype([(\"qint8\", np.int8, 1)])\n",
      "/home/ubuntu/anaconda3/envs/amazonei_tensorflow_p36/lib/python3.6/site-packages/tensorboard/compat/tensorflow_stub/dtypes.py:542: FutureWarning: Passing (type, 1) or '1type' as a synonym of type is deprecated; in a future version of numpy, it will be understood as (type, (1,)) / '(1,)type'.\n",
      "  _np_quint8 = np.dtype([(\"quint8\", np.uint8, 1)])\n",
      "/home/ubuntu/anaconda3/envs/amazonei_tensorflow_p36/lib/python3.6/site-packages/tensorboard/compat/tensorflow_stub/dtypes.py:543: FutureWarning: Passing (type, 1) or '1type' as a synonym of type is deprecated; in a future version of numpy, it will be understood as (type, (1,)) / '(1,)type'.\n",
      "  _np_qint16 = np.dtype([(\"qint16\", np.int16, 1)])\n",
      "/home/ubuntu/anaconda3/envs/amazonei_tensorflow_p36/lib/python3.6/site-packages/tensorboard/compat/tensorflow_stub/dtypes.py:544: FutureWarning: Passing (type, 1) or '1type' as a synonym of type is deprecated; in a future version of numpy, it will be understood as (type, (1,)) / '(1,)type'.\n",
      "  _np_quint16 = np.dtype([(\"quint16\", np.uint16, 1)])\n",
      "/home/ubuntu/anaconda3/envs/amazonei_tensorflow_p36/lib/python3.6/site-packages/tensorboard/compat/tensorflow_stub/dtypes.py:545: FutureWarning: Passing (type, 1) or '1type' as a synonym of type is deprecated; in a future version of numpy, it will be understood as (type, (1,)) / '(1,)type'.\n",
      "  _np_qint32 = np.dtype([(\"qint32\", np.int32, 1)])\n",
      "/home/ubuntu/anaconda3/envs/amazonei_tensorflow_p36/lib/python3.6/site-packages/tensorboard/compat/tensorflow_stub/dtypes.py:550: FutureWarning: Passing (type, 1) or '1type' as a synonym of type is deprecated; in a future version of numpy, it will be understood as (type, (1,)) / '(1,)type'.\n",
      "  np_resource = np.dtype([(\"resource\", np.ubyte, 1)])\n"
     ]
    }
   ],
   "source": [
    "from keras.models import Sequential, load_model\n",
    "from keras.layers.core import Flatten, Dense, Dropout\n",
    "from keras.layers import Reshape, Permute, Activation, Input, merge\n",
    "from keras.layers.convolutional import Convolution2D, MaxPooling2D, ZeroPadding2D\n",
    "from keras.optimizers import Adam\n",
    "from keras.utils import np_utils\n",
    "from keras.preprocessing.image import ImageDataGenerator\n",
    "\n",
    "import sys\n",
    "import os\n",
    "import glob\n",
    "import cv2, numpy as np"
   ]
  },
  {
   "cell_type": "code",
   "execution_count": 4,
   "metadata": {},
   "outputs": [],
   "source": [
    "import tensorflow as tf\n",
    "\n",
    "config = tf.ConfigProto()\n",
    "config.gpu_options.allow_growth = True\n",
    "sessions = tf. Session(config=config)"
   ]
  },
  {
   "cell_type": "code",
   "execution_count": 5,
   "metadata": {},
   "outputs": [
    {
     "name": "stdout",
     "output_type": "stream",
     "text": [
      "WARNING:tensorflow:From /home/ubuntu/anaconda3/envs/amazonei_tensorflow_p36/lib/python3.6/site-packages/keras/backend/tensorflow_backend.py:4070: The name tf.nn.max_pool is deprecated. Please use tf.nn.max_pool2d instead.\n",
      "\n",
      "WARNING:tensorflow:From /home/ubuntu/anaconda3/envs/amazonei_tensorflow_p36/lib/python3.6/site-packages/keras/backend/tensorflow_backend.py:422: The name tf.global_variables is deprecated. Please use tf.compat.v1.global_variables instead.\n",
      "\n"
     ]
    }
   ],
   "source": [
    "# model load\n",
    "model = load_model('./save/cnn0520(imagegenerator, 400).h5')"
   ]
  },
  {
   "cell_type": "code",
   "execution_count": 8,
   "metadata": {},
   "outputs": [
    {
     "name": "stdout",
     "output_type": "stream",
     "text": [
      "{'E01': 0, 'E02': 1, 'E03': 2}\n"
     ]
    }
   ],
   "source": [
    "# print(test_set.class_indices)"
   ]
  },
  {
   "cell_type": "code",
   "execution_count": 6,
   "metadata": {},
   "outputs": [
    {
     "name": "stdout",
     "output_type": "stream",
     "text": [
      "Found 8640 images belonging to 3 classes.\n"
     ]
    }
   ],
   "source": [
    "pred_datagen = ImageDataGenerator(rescale=1./255)\n",
    "\n",
    "pred_set = pred_datagen.flow_from_directory('dataset_pred/', \n",
    "                                              target_size=(400, 400),\n",
    "                                              class_mode='categorical',\n",
    "                                              shuffle = False)"
   ]
  },
  {
   "cell_type": "code",
   "execution_count": 59,
   "metadata": {},
   "outputs": [
    {
     "data": {
      "text/plain": [
       "(8640, 3)"
      ]
     },
     "execution_count": 59,
     "metadata": {},
     "output_type": "execute_result"
    }
   ],
   "source": [
    "pred.shape"
   ]
  },
  {
   "cell_type": "code",
   "execution_count": 61,
   "metadata": {
    "scrolled": true
   },
   "outputs": [
    {
     "name": "stdout",
     "output_type": "stream",
     "text": [
      "200001001100011110010110122011101101011000100110012110201111001000100011120110000100210011021201001011000120000101111111000111110001110000000110101000111021010121011121000101001010010021100101111112211110110011011110111000000211110211010111110101100110011001111101201011101101001000001112111011011001100100010110110110010010001100101010112001011010010122000000101112100112101121010011111101120101111111011001110001101100010001110011111120100010000101001001011211010121011000110110111211110010011110100100101011211200000001000101021011001101000000101112101001001011110010010000110001010111110101120200111001000000011001011100110000211110110001101200110101102010100100111011000000101101010100001200111110021100101100010000010011201001110000001010000201010111010000110001100001101002111010110010000111111101100101001000211201001101101000000000101110001100122101100101011201121010111111000100010000010001210101100101011000011000210111010101111101110011001011011111111111001101010100000111010010110201001010021010000100101100001100111010011110111210111001010000020112111111110110000001101111100000101100110011000120100010021211111111010010000111110201112010010111100011011121101101110011000012011021110100000010100221100000110111101011011111101111111101121200110000010111010001010000110200110000100011100000210000000210112112010121001100200220111111110101111112101110111001000010102000102110011211111011002100101010111102110111012002100101011112111011101011001011000110101010011012220111110001011100001111001101000100100001102000010000010100011100120102010110100100100000011101011001101000101210201100101100001101010001100001001100110000010011111100001200020011010000110010111011100011000001000111001100111101100101010000010011000100011100021010000011112110111121111110111200002101111012000111000011110101120110010112012112111010111210101110111000110001011100100100010110111111100011111111010120100010002110010110111011101001010111010111100000011100112110011110100100101112001110101100102111011110101101111100001101120110010101001110101000001100010111011010101101002101110100100100110100010000001111111101212111111120011111210102001010111112010100111001100011010101001110012001011000110201100200100101200000100111010211110020211101101102010012100110012102010110101011011110111110011010101101110111110101121120002011112100120111101001110110101011011001011111010111021100001101100010100120101100011100011111000010110020001111101011010021101100100001000111000010001111100001001100101101010111001011002110101100010000101010111010001011011000111000100011011111020011100001101112001212120100021211101020221011101112110001101001101000110011001010001111101201110011101001201110111101010010000111000111020111100111112011011100110110101101001012000101112012100120000100010110100110010001010010001000110110120000101101000011100102101001102101110101111001100011100011010111211010100101010000001111110111010111111011010010211011112121111001102011100001111101010110101100111112111101011110202111010011111011111011101101110021101111000120110011011011111101011111112000110101120012111011101111010110111111121111111101101011100211111111110111110011010100111111111101011111010011111020101110111111101111111122100211210110110110100011011111111200011112111112011110111111211101011110111011110111111111111001111011110010111110111111011111011121100111011121011211120101211110111100011111111000011100011110111100111001001111121001110110111111011110011011211101111101110111111101101101111001210111011100100111111000111111011110001111110100211001111101112100011110110111011100111000001110111011101011211011111111111110101111011101101011111111111011001110011001001111101111111101110010211111011011111110011111110111111011000101011111121001011010101100121011110001010111111111111110101011100000021111110100102111001101110001120001111110211110001110011111110101111110111110102111111001100101112001111110110111000101111121111111100110001111101101111111001011000101111111111110211011010101111110111101111211110010101111111021010111210111211001111110100111011110121110101121111011010120111111110111111010101110111110011211010110111110110111011100101110212101011011110000110211111101111101110112101111110111211101000101110120010010111111111110110011100111101201111101110101110111111101111111111010110110101111101001010111111111001001110101020110111111110111110002110110110111001101110111111101110110101011011111111021001111121001110021111111120010111021111011111111101111110110021101101110110111101110112211100111111111210101111111011011121001101010101100111022002111101100000111010100011200111011211121111111112111111111101101111111111011001001011111111111110101112101201111101111111011011111111101100110110110100111111110101111111110101011100101111102121001111011001112111011010111101211000111211100011111111111111121101201111110111101111101110011121111111001111010110011101111011100121010111111011100010111111111100100012111011101110011101111101001011011111001101101101101100101110111120111001111110111001001111111101010120101012011111110110111011010011111211002111111111011011111001101011111011111010210110011101100010011121112010111011101010011100110101111111111011111102100100111111011101011111111001111110111101111111101001111111111100102111111121111100111011111011110111111110110101111101001111101111121100111011110111102110111011111211111011011211111111111111001100111211111011111110011110011111111011111111001101121110111011111111110111111011101001101001111011020111100110111111010001111121101110111111101100001101110011110110001111111111110110011110111011111011110111100100111111111112111210111111101111111111110010110121111011110122101110011010102101100110110101121110110011111011110111101100001210111101110211210111110101001011101001010120011110100001111110011111110111111011000110011101122001111100201001022000012120001011110010021002112110111101012111012110102122200211011022110110020001010100121100102000001100110221221100220111010001121021120110110210011222101112001011110010101111212021211110110110000110221110010121020112100200211000122121021102210020011211000012201210102101102220112012000221112101011211010212000002021021001101102101110221022002011110201102121210210101101101010000111000120110000011100000010110011012200020100000110010100002001011000000100211111002201120121122012110201221222120021202000101000112101100101120101100201101002002002001002210211210101100001010121010012102111100121101121001100002011200110122010000211020021212010010000121101020100210111221110001201111001211112010220001111000210022000120120111211012001201101121121010221211112202012102100012211001010201121201201120000010101000021010211001010221100001001210010112221100102010000220110120011001002010001012122120012010002000211111110121001000120111021000010002211101100112001011110100011000222200201022010122012112122001002000012110020022121000201211221011012000010001211010022011101100122022001001112010201100100212110000021000021111200010210001221100200210120101221120200000102102211011010110001011020210101111100200100022110110010201120101112111001101111010102000202120122100120010111211010100102101020001211100010211010001110010101222001021001211111002210102010011100002000101111100002100220101200100011002202022110222012101102021120220220211022000010001102120101101221011020211212220220101210201002120102011001110210110021100020200120121201102120000101101012021001100100202102110110102120110001001101121010100010210110110111112010100002200111210000110121012020100101101102111112200110110022200010010112112021011001110100000011010110102101111012000000211021100102000012210101002102111120100121001110202000100110110010010100001211100202100001111201101122000220120110101011010001112011111101100212001110112212201102120211111002101112000000101012010012202111210001002011210121000101100010011102201012201201002000011212210011200012000202101001001012000212120102001012220202110100021221012101200221102200110202100102010001011100201000010012012010020200120101210000100111211001201111120020011012122002201102100221110202120020022101110211010201001101001001200120110212011001112202121000202100002021202101201110101202221101200010120011200012010101220020002010002012010120211210022200111100111001211122021010201100200200110020010012210010011011010010020021122011100010021002021120101212220000021222101211212112200010101011101112000021101200100120020101111000000002020000001012200002101101120202011101000101021210100000021000112022110021020111102000000100211001211102111100001020222102102111111122010010020100210110020111200001110001112101112111211111102100111021020110012020012110020002110200100101100012011011202012000022211210100001200120100101112212002200021100011101101000000121"
     ]
    }
   ],
   "source": [
    "for i in range(8640):\n",
    "    print(np.argmax(pred[i]), end='')"
   ]
  },
  {
   "cell_type": "code",
   "execution_count": 12,
   "metadata": {},
   "outputs": [
    {
     "name": "stdout",
     "output_type": "stream",
     "text": [
      "predict 완료\n",
      "argmax 결과 산출 완료\n",
      "비교할 정답값 변수 지정 완료\n"
     ]
    }
   ],
   "source": [
    "# model 검증\n",
    "from sklearn.metrics import classification_report\n",
    "\n",
    "pred = model.predict_generator(pred_set)\n",
    "print('predict 완료')\n",
    "\n",
    "val_preds = np.argmax(pred, axis=-1)\n",
    "print('argmax 결과 산출 완료')\n",
    "\n",
    "val_trues = pred_set.classes\n",
    "print('비교할 정답값 변수 지정 완료')"
   ]
  },
  {
   "cell_type": "code",
   "execution_count": 13,
   "metadata": {},
   "outputs": [
    {
     "name": "stdout",
     "output_type": "stream",
     "text": [
      "              precision    recall  f1-score   support\n",
      "\n",
      "           0       0.81      0.91      0.86      2880\n",
      "           1       0.99      0.77      0.86      2880\n",
      "           2       0.90      0.99      0.94      2880\n",
      "\n",
      "   micro avg       0.89      0.89      0.89      8640\n",
      "   macro avg       0.90      0.89      0.89      8640\n",
      "weighted avg       0.90      0.89      0.89      8640\n",
      "\n"
     ]
    }
   ],
   "source": [
    "print(classification_report(val_trues,val_preds))\n",
    "# print('score 측정 완료')"
   ]
  },
  {
   "cell_type": "code",
   "execution_count": null,
   "metadata": {},
   "outputs": [],
   "source": [
    "# 커널 죽음 문제 발생\n",
    "# pred = model.predict_generator(pred_set1)\n",
    "\n",
    "\n",
    "# val_preds = np.argmax(pred_set1, axis=-1)\n",
    "# val_trues = pred_set1.classes\n",
    "# cm = metrics.confusion_matrix(val_trues, val_preds)\n",
    "\n",
    "\n",
    "# labels = pred_set1.class_indices.keys()\n",
    "# precisions, recall, f1_score, _ = metrics.precision_recall_fscore_support(val_trues, val_preds, labels=labels)"
   ]
  },
  {
   "cell_type": "code",
   "execution_count": 9,
   "metadata": {},
   "outputs": [
    {
     "ename": "NameError",
     "evalue": "name 'pred' is not defined",
     "output_type": "error",
     "traceback": [
      "\u001b[0;31m---------------------------------------------------------------------------\u001b[0m",
      "\u001b[0;31mNameError\u001b[0m                                 Traceback (most recent call last)",
      "\u001b[0;32m<ipython-input-9-2b14311c36d5>\u001b[0m in \u001b[0;36m<module>\u001b[0;34m()\u001b[0m\n\u001b[1;32m      2\u001b[0m \u001b[0mco\u001b[0m\u001b[0;34m=\u001b[0m\u001b[0;36m0\u001b[0m\u001b[0;34m\u001b[0m\u001b[0m\n\u001b[1;32m      3\u001b[0m \u001b[0;32mfor\u001b[0m \u001b[0mi\u001b[0m \u001b[0;32min\u001b[0m \u001b[0mrange\u001b[0m\u001b[0;34m(\u001b[0m\u001b[0;36m2880\u001b[0m\u001b[0;34m)\u001b[0m\u001b[0;34m:\u001b[0m\u001b[0;34m\u001b[0m\u001b[0m\n\u001b[0;32m----> 4\u001b[0;31m     \u001b[0mresult\u001b[0m \u001b[0;34m=\u001b[0m \u001b[0mnp\u001b[0m\u001b[0;34m.\u001b[0m\u001b[0margmax\u001b[0m\u001b[0;34m(\u001b[0m\u001b[0mpred\u001b[0m\u001b[0;34m[\u001b[0m\u001b[0mi\u001b[0m\u001b[0;34m]\u001b[0m\u001b[0;34m)\u001b[0m\u001b[0;34m\u001b[0m\u001b[0m\n\u001b[0m\u001b[1;32m      5\u001b[0m \u001b[0;31m#     print(result, end='')\u001b[0m\u001b[0;34m\u001b[0m\u001b[0;34m\u001b[0m\u001b[0m\n\u001b[1;32m      6\u001b[0m     \u001b[0;32mif\u001b[0m \u001b[0mresult\u001b[0m\u001b[0;34m==\u001b[0m\u001b[0;36m0\u001b[0m\u001b[0;34m:\u001b[0m\u001b[0;34m\u001b[0m\u001b[0m\n",
      "\u001b[0;31mNameError\u001b[0m: name 'pred' is not defined"
     ]
    }
   ],
   "source": [
    "# 무표정\n",
    "co=0\n",
    "for i in range(2880):\n",
    "    result = np.argmax(pred[i])\n",
    "#     print(result, end='')\n",
    "    if result==0:\n",
    "        co+=1\n",
    "        \n",
    "print('\\n','Neutral accuracy :', \"%.2f\" % (co/2880.))\n",
    "\n",
    "# 기쁨\n",
    "co=0\n",
    "for i in range(2880, 5760):\n",
    "    result = np.argmax(pred[i])\n",
    "#     print(result, end='')\n",
    "    if result==1:\n",
    "        co+=1\n",
    "        \n",
    "print('\\n','Positive accuracy :', \"%.2f\" % (co/2880.))\n",
    "\n",
    "\n",
    "# 찡그림\n",
    "co=0\n",
    "for i in range(5760,8640):\n",
    "    result = np.argmax(pred[i])\n",
    "#     print(result, end='')\n",
    "    if result==2:\n",
    "        co+=1\n",
    "        \n",
    "print('\\n','Negative accuracy :', \"%.2f\" % (co/2880.))\n",
    "\n",
    "# transfer learning(mobileNetV2)\n",
    "#  Neutral accuracy : 0.45\n",
    "#  Positive accuracy : 0.69\n",
    "#  Negative accuracy : 0.20\n",
    "\n",
    "# transfer learning(mobileNetV2)\n",
    "#  Neutral accuracy : 0.21\n",
    "#  Positive accuracy : 0.82\n",
    "#  Negative accuracy : 0.65\n",
    "\n",
    "# CNN model\n",
    "#  Neutral accuracy : 0.99\n",
    "#  Positive accuracy : 0.79\n",
    "#  Negative accuracy : 0.98"
   ]
  },
  {
   "cell_type": "code",
   "execution_count": 8,
   "metadata": {},
   "outputs": [
    {
     "name": "stdout",
     "output_type": "stream",
     "text": [
      "모델 저장이 완료되었습니다.\n"
     ]
    }
   ],
   "source": [
    "model.save('./save/cnn0520(imagegenerator, 400).h5')\n",
    "print('모델 저장이 완료되었습니다.')"
   ]
  },
  {
   "cell_type": "code",
   "execution_count": 74,
   "metadata": {},
   "outputs": [
    {
     "name": "stdout",
     "output_type": "stream",
     "text": [
      "모델 저장이 완료되었습니다.\n"
     ]
    }
   ],
   "source": [
    "model.save('./save/transferlearning(imagegenerator, 400)-2.h5')\n",
    "print('모델 저장이 완료되었습니다.')"
   ]
  },
  {
   "cell_type": "code",
   "execution_count": null,
   "metadata": {},
   "outputs": [],
   "source": []
  }
 ],
 "metadata": {
  "kernelspec": {
   "display_name": "Python [conda env:amazonei_tensorflow_p36]",
   "language": "python",
   "name": "conda-env-amazonei_tensorflow_p36-py"
  },
  "language_info": {
   "codemirror_mode": {
    "name": "ipython",
    "version": 3
   },
   "file_extension": ".py",
   "mimetype": "text/x-python",
   "name": "python",
   "nbconvert_exporter": "python",
   "pygments_lexer": "ipython3",
   "version": "3.6.5"
  }
 },
 "nbformat": 4,
 "nbformat_minor": 2
}
