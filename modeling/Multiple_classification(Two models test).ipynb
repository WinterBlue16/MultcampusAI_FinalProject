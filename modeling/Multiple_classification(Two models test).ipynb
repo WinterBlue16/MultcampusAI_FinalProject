{
 "cells": [
  {
   "cell_type": "code",
   "execution_count": 1,
   "metadata": {
    "colab": {},
    "colab_type": "code",
    "id": "J9PWadNLDx9t"
   },
   "outputs": [],
   "source": [
    "# !unzip -uq \"testset_pn.zip\" -d \"testset_pn/\""
   ]
  },
  {
   "cell_type": "code",
   "execution_count": 1,
   "metadata": {
    "colab": {},
    "colab_type": "code",
    "id": "o2QLiM-BKD5l"
   },
   "outputs": [
    {
     "name": "stderr",
     "output_type": "stream",
     "text": [
      "/home/ubuntu/anaconda3/envs/amazonei_tensorflow_p36/lib/python3.6/site-packages/tensorflow/python/framework/dtypes.py:516: FutureWarning: Passing (type, 1) or '1type' as a synonym of type is deprecated; in a future version of numpy, it will be understood as (type, (1,)) / '(1,)type'.\n",
      "  _np_qint8 = np.dtype([(\"qint8\", np.int8, 1)])\n",
      "/home/ubuntu/anaconda3/envs/amazonei_tensorflow_p36/lib/python3.6/site-packages/tensorflow/python/framework/dtypes.py:517: FutureWarning: Passing (type, 1) or '1type' as a synonym of type is deprecated; in a future version of numpy, it will be understood as (type, (1,)) / '(1,)type'.\n",
      "  _np_quint8 = np.dtype([(\"quint8\", np.uint8, 1)])\n",
      "/home/ubuntu/anaconda3/envs/amazonei_tensorflow_p36/lib/python3.6/site-packages/tensorflow/python/framework/dtypes.py:518: FutureWarning: Passing (type, 1) or '1type' as a synonym of type is deprecated; in a future version of numpy, it will be understood as (type, (1,)) / '(1,)type'.\n",
      "  _np_qint16 = np.dtype([(\"qint16\", np.int16, 1)])\n",
      "/home/ubuntu/anaconda3/envs/amazonei_tensorflow_p36/lib/python3.6/site-packages/tensorflow/python/framework/dtypes.py:519: FutureWarning: Passing (type, 1) or '1type' as a synonym of type is deprecated; in a future version of numpy, it will be understood as (type, (1,)) / '(1,)type'.\n",
      "  _np_quint16 = np.dtype([(\"quint16\", np.uint16, 1)])\n",
      "/home/ubuntu/anaconda3/envs/amazonei_tensorflow_p36/lib/python3.6/site-packages/tensorflow/python/framework/dtypes.py:520: FutureWarning: Passing (type, 1) or '1type' as a synonym of type is deprecated; in a future version of numpy, it will be understood as (type, (1,)) / '(1,)type'.\n",
      "  _np_qint32 = np.dtype([(\"qint32\", np.int32, 1)])\n",
      "/home/ubuntu/anaconda3/envs/amazonei_tensorflow_p36/lib/python3.6/site-packages/tensorflow/python/framework/dtypes.py:525: FutureWarning: Passing (type, 1) or '1type' as a synonym of type is deprecated; in a future version of numpy, it will be understood as (type, (1,)) / '(1,)type'.\n",
      "  np_resource = np.dtype([(\"resource\", np.ubyte, 1)])\n",
      "/home/ubuntu/anaconda3/envs/amazonei_tensorflow_p36/lib/python3.6/site-packages/tensorboard/compat/tensorflow_stub/dtypes.py:541: FutureWarning: Passing (type, 1) or '1type' as a synonym of type is deprecated; in a future version of numpy, it will be understood as (type, (1,)) / '(1,)type'.\n",
      "  _np_qint8 = np.dtype([(\"qint8\", np.int8, 1)])\n",
      "/home/ubuntu/anaconda3/envs/amazonei_tensorflow_p36/lib/python3.6/site-packages/tensorboard/compat/tensorflow_stub/dtypes.py:542: FutureWarning: Passing (type, 1) or '1type' as a synonym of type is deprecated; in a future version of numpy, it will be understood as (type, (1,)) / '(1,)type'.\n",
      "  _np_quint8 = np.dtype([(\"quint8\", np.uint8, 1)])\n",
      "/home/ubuntu/anaconda3/envs/amazonei_tensorflow_p36/lib/python3.6/site-packages/tensorboard/compat/tensorflow_stub/dtypes.py:543: FutureWarning: Passing (type, 1) or '1type' as a synonym of type is deprecated; in a future version of numpy, it will be understood as (type, (1,)) / '(1,)type'.\n",
      "  _np_qint16 = np.dtype([(\"qint16\", np.int16, 1)])\n",
      "/home/ubuntu/anaconda3/envs/amazonei_tensorflow_p36/lib/python3.6/site-packages/tensorboard/compat/tensorflow_stub/dtypes.py:544: FutureWarning: Passing (type, 1) or '1type' as a synonym of type is deprecated; in a future version of numpy, it will be understood as (type, (1,)) / '(1,)type'.\n",
      "  _np_quint16 = np.dtype([(\"quint16\", np.uint16, 1)])\n",
      "/home/ubuntu/anaconda3/envs/amazonei_tensorflow_p36/lib/python3.6/site-packages/tensorboard/compat/tensorflow_stub/dtypes.py:545: FutureWarning: Passing (type, 1) or '1type' as a synonym of type is deprecated; in a future version of numpy, it will be understood as (type, (1,)) / '(1,)type'.\n",
      "  _np_qint32 = np.dtype([(\"qint32\", np.int32, 1)])\n",
      "/home/ubuntu/anaconda3/envs/amazonei_tensorflow_p36/lib/python3.6/site-packages/tensorboard/compat/tensorflow_stub/dtypes.py:550: FutureWarning: Passing (type, 1) or '1type' as a synonym of type is deprecated; in a future version of numpy, it will be understood as (type, (1,)) / '(1,)type'.\n",
      "  np_resource = np.dtype([(\"resource\", np.ubyte, 1)])\n",
      "Using TensorFlow backend.\n"
     ]
    }
   ],
   "source": [
    "import sys\n",
    "import tensorflow as tf\n",
    "import keras\n",
    "from keras.models import Sequential\n",
    "from keras.layers import Dense, Dropout, Flatten,  GlobalAveragePooling2D\n",
    "from keras.layers.convolutional import Conv2D, MaxPooling2D\n",
    "import numpy as np\n",
    "import matplotlib.pyplot as plt\n",
    "\n",
    "import cv2\n",
    "import os\n",
    "import glob"
   ]
  },
  {
   "cell_type": "code",
   "execution_count": 2,
   "metadata": {
    "colab": {
     "base_uri": "https://localhost:8080/",
     "height": 71
    },
    "colab_type": "code",
    "id": "P_hgSH91KYAv",
    "outputId": "dfc72cfe-bad7-4efb-c464-fde15abd5205"
   },
   "outputs": [
    {
     "name": "stdout",
     "output_type": "stream",
     "text": [
      "positive에 저장된 파일의 개수:5861\n",
      "no positive에 저장된 파일의 개수:5800\n",
      "negative에 저장된 파일의 개수:5857\n",
      "no negative에 저장된 파일의 개수:5800\n"
     ]
    }
   ],
   "source": [
    "path_positve='testset_pn/positive' # 기쁨\n",
    "path_nopositive='testset_pn/non-positive' # 기쁨 아님\n",
    "\n",
    "path_negative='testset_pn/negative' # 찡그림\n",
    "path_nonegative='testset_pn/non-negative' # 찡그림 아님\n",
    "\n",
    "\n",
    "la=len(os.listdir(path_positve))\n",
    "lb=len(os.listdir(path_nopositive))\n",
    "\n",
    "lc=len(os.listdir(path_negative))\n",
    "ld=len(os.listdir(path_nonegative))\n",
    "# lc=len(os.listdir(path_unkno)) \n",
    "\n",
    "print('positive에 저장된 파일의 개수:'+str(la))\n",
    "print('no positive에 저장된 파일의 개수:'+str(lb))\n",
    "print('negative에 저장된 파일의 개수:'+str(lc))\n",
    "print('no negative에 저장된 파일의 개수:'+str(ld))"
   ]
  },
  {
   "cell_type": "code",
   "execution_count": 3,
   "metadata": {
    "colab": {},
    "colab_type": "code",
    "id": "nMQmzc5pLH65"
   },
   "outputs": [],
   "source": [
    "xsize=100\n",
    "ysize=100"
   ]
  },
  {
   "cell_type": "code",
   "execution_count": 4,
   "metadata": {
    "colab": {},
    "colab_type": "code",
    "id": "n09d4btxLtti"
   },
   "outputs": [],
   "source": [
    "x=[]\n",
    "y=[]\n",
    "\n",
    "from keras.preprocessing import image\n",
    "import numpy as np\n",
    "\n",
    "def read_dir(path, label):\n",
    "    \n",
    "    files = glob.glob(path + \"/*.jpg\")\n",
    "    if bool(files) == False:\n",
    "        files = glob.glob(path + \"/*.png\") \n",
    "     \n",
    "    for f in files:\n",
    "\n",
    "        try:\n",
    "            img = image.load_img(f, target_size=(xsize,ysize))\n",
    "            img_tr= image.img_to_array(img)        \n",
    "            img_tr /= 255.\n",
    "            \n",
    "            y.append(label)\n",
    "            x.append(img_tr)\n",
    "        except:\n",
    "            pass"
   ]
  },
  {
   "cell_type": "code",
   "execution_count": 5,
   "metadata": {
    "colab": {},
    "colab_type": "code",
    "id": "KL-ucbH1L5Wc"
   },
   "outputs": [],
   "source": [
    "# 기쁨 판정 모델\n",
    "# read_dir(path_positve, 1) \n",
    "# read_dir(path_nopositive, 0) \n",
    "\n",
    "# 찡그림 판정 모델\n",
    "read_dir(path_negative, 1) \n",
    "read_dir(path_nonegative, 0) "
   ]
  },
  {
   "cell_type": "code",
   "execution_count": 6,
   "metadata": {
    "colab": {},
    "colab_type": "code",
    "id": "4gi6jWhsMKbU"
   },
   "outputs": [],
   "source": [
    "x=np.array(x)\n",
    "y=np.array(y)"
   ]
  },
  {
   "cell_type": "code",
   "execution_count": 7,
   "metadata": {
    "colab": {},
    "colab_type": "code",
    "id": "XdV3CnMvM21M"
   },
   "outputs": [
    {
     "name": "stdout",
     "output_type": "stream",
     "text": [
      "(11657, 100, 100, 3)\n"
     ]
    }
   ],
   "source": [
    "print(x.shape)"
   ]
  },
  {
   "cell_type": "code",
   "execution_count": 8,
   "metadata": {
    "colab": {},
    "colab_type": "code",
    "id": "_beqHoaCMQ6J"
   },
   "outputs": [],
   "source": [
    "from sklearn.model_selection import train_test_split\n",
    "x_train, x_test, y_train, y_test = train_test_split(x, y, test_size=0.2, stratify=y)\n",
    "\n",
    "input_shape = (xsize,ysize, 3)\n",
    "\n",
    "# batch_size = 32\n",
    "# num_classes = 2\n",
    "# epochs = 15"
   ]
  },
  {
   "cell_type": "code",
   "execution_count": 9,
   "metadata": {
    "colab": {},
    "colab_type": "code",
    "id": "Co6u22N1MpmJ"
   },
   "outputs": [
    {
     "name": "stdout",
     "output_type": "stream",
     "text": [
      "(2332, 100, 100, 3)\n",
      "(2332,)\n"
     ]
    }
   ],
   "source": [
    "print(x_test.shape)\n",
    "print(y_test.shape)"
   ]
  },
  {
   "cell_type": "code",
   "execution_count": 10,
   "metadata": {
    "colab": {},
    "colab_type": "code",
    "id": "Yau5rgOQOz9s"
   },
   "outputs": [],
   "source": [
    "y_train = keras.utils.to_categorical(y_train)\n",
    "y_test = keras.utils.to_categorical(y_test)"
   ]
  },
  {
   "cell_type": "code",
   "execution_count": null,
   "metadata": {
    "colab": {
     "base_uri": "https://localhost:8080/",
     "height": 613
    },
    "colab_type": "code",
    "id": "poHl5czmPBL1",
    "outputId": "b28aab06-35a6-414c-8d4b-92a2f8b88129"
   },
   "outputs": [
    {
     "name": "stderr",
     "output_type": "stream",
     "text": [
      "/home/ubuntu/anaconda3/envs/amazonei_tensorflow_p36/lib/python3.6/site-packages/keras_applications/mobilenet_v2.py:294: UserWarning: `input_shape` is undefined or non-square, or `rows` is not in [96, 128, 160, 192, 224]. Weights for input shape (224, 224) will be loaded as the default.\n",
      "  warnings.warn('`input_shape` is undefined or non-square, '\n"
     ]
    }
   ],
   "source": [
    "# 공통 모델\n",
    "from keras.models import Sequential, Model\n",
    "from keras.layers import Dense, Conv2D, MaxPooling2D, Flatten, Dropout\n",
    "from keras.applications.mobilenet_v2 import MobileNetV2  \n",
    "from keras.applications.mobilenet import MobileNet\n",
    "\n",
    "input_shape = (100, 100, 3)\n",
    "# base_model = MobileNetV2(weights='imagenet', include_top=False, input_shape=input_shape)\n",
    "base_model = MobileNetV2(weights='imagenet', include_top=False, input_shape=input_shape)\n",
    "# base_model.trainable=False\n",
    "x = Flatten()(base_model.output)\n",
    "dropout = Dropout(0.6)(x)\n",
    "output = Dense(2, activation='softmax', name='predictions')(dropout)\n",
    "model2 = Model(inputs=base_model.input, output=output)\n",
    "\n",
    "model2.compile(loss='categorical_crossentropy',optimizer='Adam',metrics=['accuracy'])\n",
    "\n",
    "model2.summary()"
   ]
  },
  {
   "cell_type": "code",
   "execution_count": null,
   "metadata": {
    "colab": {
     "base_uri": "https://localhost:8080/",
     "height": 793
    },
    "colab_type": "code",
    "id": "uJTed-KsPQ2r",
    "outputId": "86121350-c920-4a08-924e-8e4577ec58be",
    "scrolled": true
   },
   "outputs": [],
   "source": [
    "history = model2.fit(x_train, y_train, validation_split=0.5, \n",
    "          epochs=30, batch_size=256, verbose=1)\n",
    "\n",
    "acc = model2.evaluate(x_test, y_test)\n",
    "print(acc)"
   ]
  },
  {
   "cell_type": "code",
   "execution_count": null,
   "metadata": {},
   "outputs": [],
   "source": [
    "import matplotlib.pyplot as plt\n",
    "\n",
    "plt.plot(history.history['loss'])\n",
    "plt.plot(history.history['val_loss'])\n",
    "plt.plot(history.history['accuracy'])\n",
    "plt.plot(history.history['val_accuracy'])\n",
    "plt.title('loss, acc')\n",
    "plt.xlabel('epoch')\n",
    "plt.ylabel('loss, acc')\n",
    "plt.legend(['train loss', 'test loss', 'train acc', 'test acc'])\n",
    "plt.show()"
   ]
  },
  {
   "cell_type": "code",
   "execution_count": null,
   "metadata": {},
   "outputs": [],
   "source": [
    "# model.save('save/MobileNetV2(positive).h5')\n",
    "# print('모델 저장이 완료되었습니다')"
   ]
  },
  {
   "cell_type": "code",
   "execution_count": null,
   "metadata": {},
   "outputs": [],
   "source": [
    "# !unzip -uq \"roi_1.zip\" -d \"dataset_pred/\""
   ]
  },
  {
   "cell_type": "code",
   "execution_count": null,
   "metadata": {
    "colab": {},
    "colab_type": "code",
    "id": "nVddSc6nQeND"
   },
   "outputs": [],
   "source": [
    "test_path = \"dataset_pred/E01\" # 무표정\n",
    "test_path2 = \"dataset_pred/E02\" # 기쁨 \n",
    "test_path3 = \"dataset_pred/E03\" # 찡그림\n",
    "\n",
    "X=[]\n",
    "\n",
    "def read_dir1(path):\n",
    "    \n",
    "    files = glob.glob(path + \"/*.jpg\")\n",
    "    if bool(files) == False:\n",
    "        files = glob.glob(path + \"/*.png\") \n",
    "     \n",
    "    for f in files:\n",
    "\n",
    "        try:\n",
    "            img = image.load_img(f, target_size=(xsize,ysize))\n",
    "            img_tr= image.img_to_array(img)        \n",
    "            img_tr /= 255.\n",
    "            X.append(img_tr)\n",
    "        except:\n",
    "            pass"
   ]
  },
  {
   "cell_type": "code",
   "execution_count": null,
   "metadata": {
    "colab": {
     "base_uri": "https://localhost:8080/",
     "height": 1000
    },
    "colab_type": "code",
    "id": "-uzScQd3be-h",
    "outputId": "9ae320d9-f05f-4c17-b8c4-491918f53210",
    "scrolled": true
   },
   "outputs": [],
   "source": [
    "# test set(무표정)\n",
    "read_dir1(test_path)\n",
    "X = np.array(X)\n",
    "pred = model.predict(X)\n",
    "\n",
    "# 예측(test set 무표정)\n",
    "co=0\n",
    "for i in range(2880):\n",
    "    print(np.argmax(pred[i]),end='')\n",
    "    tmp=np.argmax(pred[i])\n",
    "    \n",
    "    if tmp == 0:\n",
    "        co+=1\n",
    "\n",
    "print('\\n', \"%.2f\" % (co/2880.))"
   ]
  },
  {
   "cell_type": "code",
   "execution_count": null,
   "metadata": {
    "colab": {},
    "colab_type": "code",
    "id": "L7whqfq-fHpt"
   },
   "outputs": [],
   "source": [
    "# test set(기쁨)\n",
    "read_dir1(test_path2)\n",
    "X = np.array(X)\n",
    "pred = model.predict(X)\n",
    "\n",
    "# 예측(test set 기쁨)\n",
    "co=0\n",
    "for i in range(2880):\n",
    "    print(np.argmax(pred[i]),end='')\n",
    "    tmp=np.argmax(pred[i])\n",
    "    \n",
    "    if tmp == 0:\n",
    "        co+=1\n",
    "\n",
    "print('\\n', \"%.2f\" % (co/2880.))"
   ]
  },
  {
   "cell_type": "code",
   "execution_count": null,
   "metadata": {},
   "outputs": [],
   "source": [
    "# test set(찡그림)\n",
    "read_dir1(test_path3)\n",
    "X = np.array(X)\n",
    "pred = model.predict(X)\n",
    "\n",
    "# 예측(test set 찡그림)\n",
    "co=0\n",
    "for i in range(2880):\n",
    "    print(np.argmax(pred[i]),end='')\n",
    "    tmp=np.argmax(pred[i])\n",
    "    \n",
    "    if tmp == 1:\n",
    "        co+=1\n",
    "\n",
    "print('\\n', \"%.2f\" % (co/2880.))"
   ]
  },
  {
   "cell_type": "code",
   "execution_count": null,
   "metadata": {},
   "outputs": [],
   "source": [
    "# E02 데이터셋 정제 후 \n",
    "\n",
    "# acc : 무표정(0 %), 기쁨(58 %), 찡그림(41 %)"
   ]
  }
 ],
 "metadata": {
  "accelerator": "GPU",
  "colab": {
   "collapsed_sections": [],
   "name": "Multiple classification(DenseNet, FULL)2",
   "provenance": [],
   "toc_visible": true
  },
  "kernelspec": {
   "display_name": "Python [conda env:amazonei_tensorflow_p36]",
   "language": "python",
   "name": "conda-env-amazonei_tensorflow_p36-py"
  },
  "language_info": {
   "codemirror_mode": {
    "name": "ipython",
    "version": 3
   },
   "file_extension": ".py",
   "mimetype": "text/x-python",
   "name": "python",
   "nbconvert_exporter": "python",
   "pygments_lexer": "ipython3",
   "version": "3.6.5"
  }
 },
 "nbformat": 4,
 "nbformat_minor": 1
}
