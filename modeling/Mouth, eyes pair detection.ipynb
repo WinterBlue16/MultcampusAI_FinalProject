{
 "cells": [
  {
   "cell_type": "markdown",
   "metadata": {},
   "source": [
    "# 얼굴에서 입 검출하기\n",
    "> 얼굴을 검출할 때처럼 haar cascade를 사용한다. "
   ]
  },
  {
   "cell_type": "code",
   "execution_count": 105,
   "metadata": {},
   "outputs": [
    {
     "name": "stdout",
     "output_type": "stream",
     "text": [
      "Collecting visual-logging\n",
      "  Downloading https://files.pythonhosted.org/packages/87/a0/7a0af2b4221cc76d9a23db620f8b99dd8803ecbb0442c3d09efd90f96331/visual-logging-1.0.tar.gz\n",
      "Building wheels for collected packages: visual-logging\n",
      "  Building wheel for visual-logging (setup.py): started\n",
      "  Building wheel for visual-logging (setup.py): finished with status 'done'\n",
      "  Stored in directory: C:\\Users\\user\\AppData\\Local\\pip\\Cache\\wheels\\a4\\b3\\b6\\5aa791652042e96702ab7f7a4b7eadc70ffcc776d48668388d\n",
      "Successfully built visual-logging\n",
      "Installing collected packages: visual-logging\n",
      "Successfully installed visual-logging-1.0\n"
     ]
    }
   ],
   "source": [
    "# !pip install visual-logging"
   ]
  },
  {
   "cell_type": "code",
   "execution_count": 1,
   "metadata": {},
   "outputs": [],
   "source": [
    "# 라이브러리 불러오기\n",
    "import cv2\n",
    "import numpy as np\n",
    "from matplotlib import pyplot as plt\n",
    "import sys"
   ]
  },
  {
   "cell_type": "code",
   "execution_count": 127,
   "metadata": {},
   "outputs": [
    {
     "name": "stdout",
     "output_type": "stream",
     "text": [
      "False\n"
     ]
    }
   ],
   "source": [
    "# 되는 list 실험해보기\n",
    "cascade_list = ['C:/Users/user/Desktop/data/haarcascade_eye.xml',\n",
    "                \"C:/Users/user/Desktop/data/haarcascade_eye_tree_eyeglasses.xml\",\n",
    "                \"C:/Users/user/Desktop/data/haarcascade_frontalface_alt.xml\",\n",
    "                \"C:/Users/user/Desktop/data/haarcascade_frontalface_alt_tree.xml\",\n",
    "                \"C:/Users/user/Desktop/data/haarcascade_frontalface_alt2.xml\",\n",
    "                \"C:/Users/user/Desktop/data/haarcascade_frontalface_default.xml\",\n",
    "                \"C:/Users/user/Desktop/data/haarcascade_lefteye_2splits.xml\",\n",
    "                \"C:/Users/user/Desktop/data/haarcascade_mcs_lefteye.xml\",\n",
    "                \"C:/Users/user/Desktop/data/haarcascade_mcs_nose.xml\",\n",
    "                \"C:/Users/user/Desktop/data/haarcascade_mcs_righteye.xml\",\n",
    "                \"C:/Users/user/Desktop/data/haarcascade_profileface.xml\",\n",
    "                \"C:/Users/user/Desktop/data/haarcascade_righteye_2splits.xml\",\n",
    "                \"C:/Users/user/Desktop/data/hogcascade_cars_sideview.xml\"\n",
    "               ]\n",
    "\n",
    "\n",
    "example_cascade = cv2.CascadeClassifier()\n",
    "print(example_cascade.load(\"/cv_data/haarcascade_eye.xml\"))"
   ]
  },
  {
   "cell_type": "code",
   "execution_count": 4,
   "metadata": {},
   "outputs": [
    {
     "name": "stdout",
     "output_type": "stream",
     "text": [
      "로드 완료\n",
      "<CascadeClassifier 00000207E27F6870>\n"
     ]
    }
   ],
   "source": [
    "eye_cascade = cv2.CascadeClassifier(\"C:/Users/user/Downloads/cv_data/haarcascade_eye.xml\")\n",
    "print('로드 완료')\n",
    "print(eye_cascade)"
   ]
  },
  {
   "cell_type": "code",
   "execution_count": 36,
   "metadata": {},
   "outputs": [
    {
     "name": "stdout",
     "output_type": "stream",
     "text": [
      "[[156  78  46  46]\n",
      " [ 58  76  53  53]]\n",
      "(156, 78, 46, 46)\n",
      "[[156  78  46  46]\n",
      " [ 58  76  53  53]]\n",
      "(58, 76, 53, 53)\n"
     ]
    }
   ],
   "source": [
    "img = cv2.imread(\"C:/Users/user/Desktop/roi/train/E01/200.jpg\")\n",
    "faces = eye_cascade.detectMultiScale(img)\n",
    "\n",
    "color = (255, 0, 0)\n",
    "for (x,y,w,h) in faces:\n",
    "    print(faces)\n",
    "    print((x, y, w, h))    \n",
    "#     cv2.rectangle(img, (31,38), (196,110), color, thickness=4) # 오른쪽 눈부터 좌표 검출\n",
    "    cv2.rectangle(img, (faces[1][0]-10, faces[1][1]-30), (faces[0][0]+faces[0][2]+20, faces[0][1]+faces[0][3]), color,4)\n",
    "\n",
    "    roi = img[y:y+h, x:x+w]\n",
    "#     cv2.rectangle(img, (x, y), (x+w, y+h), color, thickness=2)\n",
    "    \n",
    "cv2.imshow('img',img)\n",
    "cv2.waitKey(0)\n",
    "cv2.destroyAllWindows()"
   ]
  },
  {
   "cell_type": "code",
   "execution_count": 194,
   "metadata": {
    "scrolled": true
   },
   "outputs": [
    {
     "name": "stdout",
     "output_type": "stream",
     "text": [
      "실행 완료 1\n",
      "실행 완료 2\n",
      "실행 완료 3\n"
     ]
    }
   ],
   "source": [
    "cap = cv2.VideoCapture(0)\n",
    "ds_factor = 0.5\n",
    "\n",
    "ret, frame = cap.read()\n",
    "print('실행 완료 1')\n",
    "frame = cv2.resize(frame, None, fx=ds_factor, fy=ds_factor, interpolation=cv2.INTER_AREA)\n",
    "print('실행 완료 2')\n",
    "gray = cv2.cvtColor(frame, cv2.COLOR_BGR2GRAY)\n",
    "print('실행 완료 3')"
   ]
  },
  {
   "cell_type": "code",
   "execution_count": 5,
   "metadata": {},
   "outputs": [
    {
     "data": {
      "text/plain": [
       "array([[145, 143, 143, ..., 168, 169, 165],\n",
       "       [144, 144, 145, ..., 168, 168, 168],\n",
       "       [144, 145, 145, ..., 167, 167, 168],\n",
       "       ...,\n",
       "       [ 23,  23,  21, ..., 100,  99,  99],\n",
       "       [ 25,  25,  21, ...,  97,  99,  99],\n",
       "       [ 24,  22,  20, ...,  94,  95,  99]], dtype=uint8)"
      ]
     },
     "execution_count": 5,
     "metadata": {},
     "output_type": "execute_result"
    }
   ],
   "source": [
    "\n",
    "mouth_rects = mouth_cascade.detectMultiScale(gray, 1.7, 11)\n",
    "print('실행 완료')\n",
    "for (x,y,w,h) in mouth_rects:\n",
    "    y = int(y-0.15*h)\n",
    "    cv2.rectangle(frame, (x,y), (x+w, y+h), (0, 255, 0), 3)\n",
    "    break\n"
   ]
  },
  {
   "cell_type": "code",
   "execution_count": 3,
   "metadata": {},
   "outputs": [
    {
     "name": "stdout",
     "output_type": "stream",
     "text": [
      "로드 완료\n",
      "실행 완료 1\n",
      "실행 완료 2\n",
      "실행 완료 3\n"
     ]
    },
    {
     "ename": "error",
     "evalue": "OpenCV(4.2.0) C:\\projects\\opencv-python\\opencv\\modules\\objdetect\\src\\cascadedetect.cpp:1689: error: (-215:Assertion failed) !empty() in function 'cv::CascadeClassifier::detectMultiScale'\n",
     "output_type": "error",
     "traceback": [
      "\u001b[1;31m---------------------------------------------------------------------------\u001b[0m",
      "\u001b[1;31merror\u001b[0m                                     Traceback (most recent call last)",
      "\u001b[1;32m<ipython-input-3-dc99946cf92d>\u001b[0m in \u001b[0;36m<module>\u001b[1;34m\u001b[0m\n\u001b[0;32m     17\u001b[0m     \u001b[0mprint\u001b[0m\u001b[1;33m(\u001b[0m\u001b[1;34m'실행 완료 3'\u001b[0m\u001b[1;33m)\u001b[0m\u001b[1;33m\u001b[0m\u001b[1;33m\u001b[0m\u001b[0m\n\u001b[0;32m     18\u001b[0m \u001b[1;33m\u001b[0m\u001b[0m\n\u001b[1;32m---> 19\u001b[1;33m     \u001b[0mmouth_rects\u001b[0m \u001b[1;33m=\u001b[0m \u001b[0mmouth_cascade\u001b[0m\u001b[1;33m.\u001b[0m\u001b[0mdetectMultiScale\u001b[0m\u001b[1;33m(\u001b[0m\u001b[0mgray\u001b[0m\u001b[1;33m,\u001b[0m \u001b[1;36m1.7\u001b[0m\u001b[1;33m,\u001b[0m \u001b[1;36m11\u001b[0m\u001b[1;33m)\u001b[0m\u001b[1;33m\u001b[0m\u001b[1;33m\u001b[0m\u001b[0m\n\u001b[0m\u001b[0;32m     20\u001b[0m     \u001b[0mprint\u001b[0m\u001b[1;33m(\u001b[0m\u001b[1;34m'실행 완료'\u001b[0m\u001b[1;33m)\u001b[0m\u001b[1;33m\u001b[0m\u001b[1;33m\u001b[0m\u001b[0m\n\u001b[0;32m     21\u001b[0m     \u001b[1;32mfor\u001b[0m \u001b[1;33m(\u001b[0m\u001b[0mx\u001b[0m\u001b[1;33m,\u001b[0m\u001b[0my\u001b[0m\u001b[1;33m,\u001b[0m\u001b[0mw\u001b[0m\u001b[1;33m,\u001b[0m\u001b[0mh\u001b[0m\u001b[1;33m)\u001b[0m \u001b[1;32min\u001b[0m \u001b[0mmouth_rects\u001b[0m\u001b[1;33m:\u001b[0m\u001b[1;33m\u001b[0m\u001b[1;33m\u001b[0m\u001b[0m\n",
      "\u001b[1;31merror\u001b[0m: OpenCV(4.2.0) C:\\projects\\opencv-python\\opencv\\modules\\objdetect\\src\\cascadedetect.cpp:1689: error: (-215:Assertion failed) !empty() in function 'cv::CascadeClassifier::detectMultiScale'\n"
     ]
    }
   ],
   "source": [
    "cascade_path = \"/haarcascade_mcs_mouth.xml\"\n",
    "cascade_path2 = 'haarcascade_mcs_eyepair_big.xml' #./data/haarcascade_mcs_eyepair_big.xml\n",
    "cascade_path3 = 'haarcascade_mcs_eyepair_small.xml' # ./data/haarcascade_mcs_eyepair_small.xml\n",
    " \n",
    "mouth_cascade = cv2.CascadeClassifier(cascade_path)\n",
    "print('로드 완료')\n",
    "\n",
    "cap = cv2.VideoCapture(0)\n",
    "ds_factor = 0.5\n",
    "\n",
    "while True:\n",
    "    ret, frame = cap.read()\n",
    "    print('실행 완료 1')\n",
    "    frame = cv2.resize(frame, None, fx=ds_factor, fy=ds_factor, interpolation=cv2.INTER_AREA)\n",
    "    print('실행 완료 2')\n",
    "    gray = cv2.cvtColor(frame, cv2.COLOR_BGR2GRAY)\n",
    "    print('실행 완료 3')\n",
    "    \n",
    "    mouth_rects = mouth_cascade.detectMultiScale(gray, 1.7, 11)\n",
    "    print('실행 완료')\n",
    "    for (x,y,w,h) in mouth_rects:\n",
    "        y = int(y-0.15*h)\n",
    "        cv2.rectangle(frame, (x,y), (x+w, y+h), (0, 255, 0), 3)\n",
    "        break\n",
    "        \n",
    "    cv2.imshow('Mouth Detector', frame)\n",
    "    \n",
    "    c = cv2.waitKey(1)\n",
    "    if c == 27:\n",
    "        break\n",
    "        \n",
    "    cap.release()\n",
    "    cv2.destroyAllWindows()"
   ]
  },
  {
   "cell_type": "code",
   "execution_count": null,
   "metadata": {},
   "outputs": [],
   "source": []
  }
 ],
 "metadata": {
  "kernelspec": {
   "display_name": "Python 3",
   "language": "python",
   "name": "python3"
  },
  "language_info": {
   "codemirror_mode": {
    "name": "ipython",
    "version": 3
   },
   "file_extension": ".py",
   "mimetype": "text/x-python",
   "name": "python",
   "nbconvert_exporter": "python",
   "pygments_lexer": "ipython3",
   "version": "3.7.3"
  }
 },
 "nbformat": 4,
 "nbformat_minor": 2
}
