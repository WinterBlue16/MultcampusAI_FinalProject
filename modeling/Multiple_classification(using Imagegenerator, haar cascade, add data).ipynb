{
 "cells": [
  {
   "cell_type": "code",
   "execution_count": 10,
   "metadata": {},
   "outputs": [],
   "source": [
    "# 데이터셋 압축 풀기\n",
    "# !unzip -uq \"roi_500.zip\" # 폴더 이름 roi"
   ]
  },
  {
   "cell_type": "code",
   "execution_count": 1,
   "metadata": {
    "scrolled": true
   },
   "outputs": [
    {
     "name": "stderr",
     "output_type": "stream",
     "text": [
      "Using TensorFlow backend.\n",
      "/home/ubuntu/anaconda3/envs/amazonei_tensorflow_p36/lib/python3.6/site-packages/tensorflow/python/framework/dtypes.py:516: FutureWarning: Passing (type, 1) or '1type' as a synonym of type is deprecated; in a future version of numpy, it will be understood as (type, (1,)) / '(1,)type'.\n",
      "  _np_qint8 = np.dtype([(\"qint8\", np.int8, 1)])\n",
      "/home/ubuntu/anaconda3/envs/amazonei_tensorflow_p36/lib/python3.6/site-packages/tensorflow/python/framework/dtypes.py:517: FutureWarning: Passing (type, 1) or '1type' as a synonym of type is deprecated; in a future version of numpy, it will be understood as (type, (1,)) / '(1,)type'.\n",
      "  _np_quint8 = np.dtype([(\"quint8\", np.uint8, 1)])\n",
      "/home/ubuntu/anaconda3/envs/amazonei_tensorflow_p36/lib/python3.6/site-packages/tensorflow/python/framework/dtypes.py:518: FutureWarning: Passing (type, 1) or '1type' as a synonym of type is deprecated; in a future version of numpy, it will be understood as (type, (1,)) / '(1,)type'.\n",
      "  _np_qint16 = np.dtype([(\"qint16\", np.int16, 1)])\n",
      "/home/ubuntu/anaconda3/envs/amazonei_tensorflow_p36/lib/python3.6/site-packages/tensorflow/python/framework/dtypes.py:519: FutureWarning: Passing (type, 1) or '1type' as a synonym of type is deprecated; in a future version of numpy, it will be understood as (type, (1,)) / '(1,)type'.\n",
      "  _np_quint16 = np.dtype([(\"quint16\", np.uint16, 1)])\n",
      "/home/ubuntu/anaconda3/envs/amazonei_tensorflow_p36/lib/python3.6/site-packages/tensorflow/python/framework/dtypes.py:520: FutureWarning: Passing (type, 1) or '1type' as a synonym of type is deprecated; in a future version of numpy, it will be understood as (type, (1,)) / '(1,)type'.\n",
      "  _np_qint32 = np.dtype([(\"qint32\", np.int32, 1)])\n",
      "/home/ubuntu/anaconda3/envs/amazonei_tensorflow_p36/lib/python3.6/site-packages/tensorflow/python/framework/dtypes.py:525: FutureWarning: Passing (type, 1) or '1type' as a synonym of type is deprecated; in a future version of numpy, it will be understood as (type, (1,)) / '(1,)type'.\n",
      "  np_resource = np.dtype([(\"resource\", np.ubyte, 1)])\n",
      "/home/ubuntu/anaconda3/envs/amazonei_tensorflow_p36/lib/python3.6/site-packages/tensorboard/compat/tensorflow_stub/dtypes.py:541: FutureWarning: Passing (type, 1) or '1type' as a synonym of type is deprecated; in a future version of numpy, it will be understood as (type, (1,)) / '(1,)type'.\n",
      "  _np_qint8 = np.dtype([(\"qint8\", np.int8, 1)])\n",
      "/home/ubuntu/anaconda3/envs/amazonei_tensorflow_p36/lib/python3.6/site-packages/tensorboard/compat/tensorflow_stub/dtypes.py:542: FutureWarning: Passing (type, 1) or '1type' as a synonym of type is deprecated; in a future version of numpy, it will be understood as (type, (1,)) / '(1,)type'.\n",
      "  _np_quint8 = np.dtype([(\"quint8\", np.uint8, 1)])\n",
      "/home/ubuntu/anaconda3/envs/amazonei_tensorflow_p36/lib/python3.6/site-packages/tensorboard/compat/tensorflow_stub/dtypes.py:543: FutureWarning: Passing (type, 1) or '1type' as a synonym of type is deprecated; in a future version of numpy, it will be understood as (type, (1,)) / '(1,)type'.\n",
      "  _np_qint16 = np.dtype([(\"qint16\", np.int16, 1)])\n",
      "/home/ubuntu/anaconda3/envs/amazonei_tensorflow_p36/lib/python3.6/site-packages/tensorboard/compat/tensorflow_stub/dtypes.py:544: FutureWarning: Passing (type, 1) or '1type' as a synonym of type is deprecated; in a future version of numpy, it will be understood as (type, (1,)) / '(1,)type'.\n",
      "  _np_quint16 = np.dtype([(\"quint16\", np.uint16, 1)])\n",
      "/home/ubuntu/anaconda3/envs/amazonei_tensorflow_p36/lib/python3.6/site-packages/tensorboard/compat/tensorflow_stub/dtypes.py:545: FutureWarning: Passing (type, 1) or '1type' as a synonym of type is deprecated; in a future version of numpy, it will be understood as (type, (1,)) / '(1,)type'.\n",
      "  _np_qint32 = np.dtype([(\"qint32\", np.int32, 1)])\n",
      "/home/ubuntu/anaconda3/envs/amazonei_tensorflow_p36/lib/python3.6/site-packages/tensorboard/compat/tensorflow_stub/dtypes.py:550: FutureWarning: Passing (type, 1) or '1type' as a synonym of type is deprecated; in a future version of numpy, it will be understood as (type, (1,)) / '(1,)type'.\n",
      "  np_resource = np.dtype([(\"resource\", np.ubyte, 1)])\n"
     ]
    }
   ],
   "source": [
    "# 라이브러리 불러오기\n",
    "\n",
    "from keras.models import Sequential\n",
    "from keras.layers.core import Flatten, Dense, Dropout\n",
    "from keras.layers import Reshape, Permute, Activation, Input, merge\n",
    "from keras.layers.convolutional import Convolution2D, MaxPooling2D, ZeroPadding2D\n",
    "from keras.optimizers import Adam\n",
    "from keras.utils import np_utils\n",
    "from keras.preprocessing.image import ImageDataGenerator\n",
    "\n",
    "import sys\n",
    "import os\n",
    "import glob\n",
    "import cv2, numpy as np"
   ]
  },
  {
   "cell_type": "code",
   "execution_count": 2,
   "metadata": {},
   "outputs": [],
   "source": [
    "import tensorflow as tf\n",
    "\n",
    "config = tf.ConfigProto()\n",
    "config.gpu_options.allow_growth = True\n",
    "sessions = tf. Session(config=config)"
   ]
  },
  {
   "cell_type": "code",
   "execution_count": 3,
   "metadata": {
    "scrolled": true
   },
   "outputs": [
    {
     "name": "stdout",
     "output_type": "stream",
     "text": [
      "WARNING:tensorflow:From /home/ubuntu/anaconda3/envs/amazonei_tensorflow_p36/lib/python3.6/site-packages/keras/backend/tensorflow_backend.py:4070: The name tf.nn.max_pool is deprecated. Please use tf.nn.max_pool2d instead.\n",
      "\n",
      "Model: \"sequential_1\"\n",
      "_________________________________________________________________\n",
      "Layer (type)                 Output Shape              Param #   \n",
      "=================================================================\n",
      "conv2d_1 (Conv2D)            (None, 250, 250, 64)      1792      \n",
      "_________________________________________________________________\n",
      "batch_normalization_1 (Batch (None, 250, 250, 64)      256       \n",
      "_________________________________________________________________\n",
      "activation_1 (Activation)    (None, 250, 250, 64)      0         \n",
      "_________________________________________________________________\n",
      "max_pooling2d_1 (MaxPooling2 (None, 125, 125, 64)      0         \n",
      "_________________________________________________________________\n",
      "dropout_1 (Dropout)          (None, 125, 125, 64)      0         \n",
      "_________________________________________________________________\n",
      "conv2d_2 (Conv2D)            (None, 125, 125, 128)     204928    \n",
      "_________________________________________________________________\n",
      "batch_normalization_2 (Batch (None, 125, 125, 128)     512       \n",
      "_________________________________________________________________\n",
      "activation_2 (Activation)    (None, 125, 125, 128)     0         \n",
      "_________________________________________________________________\n",
      "max_pooling2d_2 (MaxPooling2 (None, 62, 62, 128)       0         \n",
      "_________________________________________________________________\n",
      "dropout_2 (Dropout)          (None, 62, 62, 128)       0         \n",
      "_________________________________________________________________\n",
      "conv2d_3 (Conv2D)            (None, 62, 62, 512)       590336    \n",
      "_________________________________________________________________\n",
      "batch_normalization_3 (Batch (None, 62, 62, 512)       2048      \n",
      "_________________________________________________________________\n",
      "activation_3 (Activation)    (None, 62, 62, 512)       0         \n",
      "_________________________________________________________________\n",
      "max_pooling2d_3 (MaxPooling2 (None, 31, 31, 512)       0         \n",
      "_________________________________________________________________\n",
      "dropout_3 (Dropout)          (None, 31, 31, 512)       0         \n",
      "_________________________________________________________________\n",
      "conv2d_4 (Conv2D)            (None, 31, 31, 512)       2359808   \n",
      "_________________________________________________________________\n",
      "batch_normalization_4 (Batch (None, 31, 31, 512)       2048      \n",
      "_________________________________________________________________\n",
      "activation_4 (Activation)    (None, 31, 31, 512)       0         \n",
      "_________________________________________________________________\n",
      "max_pooling2d_4 (MaxPooling2 (None, 15, 15, 512)       0         \n",
      "_________________________________________________________________\n",
      "dropout_4 (Dropout)          (None, 15, 15, 512)       0         \n",
      "_________________________________________________________________\n",
      "flatten_1 (Flatten)          (None, 115200)            0         \n",
      "_________________________________________________________________\n",
      "dense_1 (Dense)              (None, 512)               58982912  \n",
      "_________________________________________________________________\n",
      "batch_normalization_5 (Batch (None, 512)               2048      \n",
      "_________________________________________________________________\n",
      "activation_5 (Activation)    (None, 512)               0         \n",
      "_________________________________________________________________\n",
      "dropout_5 (Dropout)          (None, 512)               0         \n",
      "_________________________________________________________________\n",
      "dense_2 (Dense)              (None, 512)               262656    \n",
      "_________________________________________________________________\n",
      "batch_normalization_6 (Batch (None, 512)               2048      \n",
      "_________________________________________________________________\n",
      "activation_6 (Activation)    (None, 512)               0         \n",
      "_________________________________________________________________\n",
      "dropout_6 (Dropout)          (None, 512)               0         \n",
      "_________________________________________________________________\n",
      "dense_3 (Dense)              (None, 3)                 1539      \n",
      "=================================================================\n",
      "Total params: 62,412,931\n",
      "Trainable params: 62,408,451\n",
      "Non-trainable params: 4,480\n",
      "_________________________________________________________________\n"
     ]
    }
   ],
   "source": [
    "\n",
    "# CNN model\n",
    "# cnn2\n",
    "\n",
    "from keras.layers import Dense, Input, Dropout, GlobalAveragePooling2D, Flatten, Conv2D, BatchNormalization, Activation, MaxPooling2D\n",
    "from keras.models import Model, Sequential\n",
    "from keras.optimizers import Adam\n",
    "\n",
    "# number of possible label values\n",
    "nb_classes = 3\n",
    "\n",
    "# Initialising the CNN\n",
    "model = Sequential()\n",
    "\n",
    "# 1 - Convolution\n",
    "model.add(Conv2D(64,(3,3), padding='same', input_shape=(250, 250, 3)))\n",
    "model.add(BatchNormalization())\n",
    "model.add(Activation('relu'))\n",
    "model.add(MaxPooling2D(pool_size=(2, 2)))\n",
    "model.add(Dropout(0.25))\n",
    "\n",
    "# 2nd Convolution layer\n",
    "model.add(Conv2D(128,(5,5), padding='same'))\n",
    "model.add(BatchNormalization())\n",
    "model.add(Activation('relu'))\n",
    "model.add(MaxPooling2D(pool_size=(2, 2)))\n",
    "model.add(Dropout(0.25))\n",
    "\n",
    "# 3rd Convolution layer\n",
    "model.add(Conv2D(512,(3,3), padding='same'))\n",
    "model.add(BatchNormalization())\n",
    "model.add(Activation('relu'))\n",
    "model.add(MaxPooling2D(pool_size=(2, 2)))\n",
    "model.add(Dropout(0.25))\n",
    "\n",
    "# 4th Convolution layer\n",
    "model.add(Conv2D(512,(3,3), padding='same'))\n",
    "model.add(BatchNormalization())\n",
    "model.add(Activation('relu'))\n",
    "model.add(MaxPooling2D(pool_size=(2, 2)))\n",
    "model.add(Dropout(0.25))\n",
    "\n",
    "# Flattening\n",
    "model.add(Flatten())\n",
    "\n",
    "# Fully connected layer 1st layer\n",
    "model.add(Dense(512))\n",
    "model.add(BatchNormalization())\n",
    "model.add(Activation('relu'))\n",
    "model.add(Dropout(0.25))\n",
    "\n",
    "# Fully connected layer 2nd layer\n",
    "model.add(Dense(512))\n",
    "model.add(BatchNormalization())\n",
    "model.add(Activation('relu'))\n",
    "model.add(Dropout(0.25))\n",
    "\n",
    "model.add(Dense(nb_classes, activation='softmax'))\n",
    "\n",
    "opt = Adam(lr=0.0001)\n",
    "model.compile(optimizer=opt, loss='categorical_crossentropy', metrics=['accuracy'])\n",
    "\n",
    "model.summary()"
   ]
  },
  {
   "cell_type": "code",
   "execution_count": 4,
   "metadata": {
    "scrolled": true
   },
   "outputs": [
    {
     "name": "stdout",
     "output_type": "stream",
     "text": [
      "Found 34075 images belonging to 3 classes.\n",
      "Found 3806 images belonging to 3 classes.\n",
      "Found 4205 images belonging to 3 classes.\n",
      "WARNING:tensorflow:From /home/ubuntu/anaconda3/envs/amazonei_tensorflow_p36/lib/python3.6/site-packages/keras/backend/tensorflow_backend.py:422: The name tf.global_variables is deprecated. Please use tf.compat.v1.global_variables instead.\n",
      "\n",
      "Epoch 1/30\n",
      "128/128 [==============================] - 65s 508ms/step - loss: 0.7524 - accuracy: 0.6812 - val_loss: 1.3557 - val_accuracy: 0.2864\n",
      "Epoch 2/30\n",
      "128/128 [==============================] - 58s 453ms/step - loss: 0.3879 - accuracy: 0.8511 - val_loss: 1.9351 - val_accuracy: 0.2864\n",
      "Epoch 3/30\n",
      "128/128 [==============================] - 63s 496ms/step - loss: 0.2942 - accuracy: 0.8932 - val_loss: 2.0865 - val_accuracy: 0.3805\n",
      "Epoch 4/30\n",
      "128/128 [==============================] - 61s 476ms/step - loss: 0.2338 - accuracy: 0.9160 - val_loss: 1.4903 - val_accuracy: 0.6637\n",
      "Epoch 5/30\n",
      "128/128 [==============================] - 61s 476ms/step - loss: 0.2077 - accuracy: 0.9270 - val_loss: 0.4839 - val_accuracy: 0.8647\n",
      "Epoch 6/30\n",
      "128/128 [==============================] - 60s 472ms/step - loss: 0.1954 - accuracy: 0.9277 - val_loss: 0.3068 - val_accuracy: 0.8592\n",
      "Epoch 7/30\n",
      "128/128 [==============================] - 60s 470ms/step - loss: 0.1717 - accuracy: 0.9375 - val_loss: 0.1166 - val_accuracy: 0.9270\n",
      "Epoch 8/30\n",
      "128/128 [==============================] - 60s 469ms/step - loss: 0.1708 - accuracy: 0.9392 - val_loss: 0.0525 - val_accuracy: 0.9259\n",
      "Epoch 9/30\n",
      "128/128 [==============================] - 60s 471ms/step - loss: 0.1476 - accuracy: 0.9475 - val_loss: 0.1821 - val_accuracy: 0.9319\n",
      "Epoch 10/30\n",
      "128/128 [==============================] - 60s 469ms/step - loss: 0.1343 - accuracy: 0.9497 - val_loss: 0.1128 - val_accuracy: 0.9459\n",
      "Epoch 11/30\n",
      "128/128 [==============================] - 60s 470ms/step - loss: 0.1207 - accuracy: 0.9558 - val_loss: 0.4200 - val_accuracy: 0.9580\n",
      "Epoch 12/30\n",
      "128/128 [==============================] - 60s 469ms/step - loss: 0.1148 - accuracy: 0.9580 - val_loss: 0.2536 - val_accuracy: 0.8791\n",
      "Epoch 13/30\n",
      "128/128 [==============================] - 60s 469ms/step - loss: 0.1052 - accuracy: 0.9614 - val_loss: 0.0686 - val_accuracy: 0.9598\n",
      "Epoch 14/30\n",
      "128/128 [==============================] - 60s 470ms/step - loss: 0.1103 - accuracy: 0.9607 - val_loss: 0.1022 - val_accuracy: 0.9682\n",
      "Epoch 15/30\n",
      "128/128 [==============================] - 60s 469ms/step - loss: 0.0919 - accuracy: 0.9709 - val_loss: 0.0250 - val_accuracy: 0.9698\n",
      "Epoch 16/30\n",
      "128/128 [==============================] - 60s 470ms/step - loss: 0.0985 - accuracy: 0.9665 - val_loss: 0.0773 - val_accuracy: 0.9603\n",
      "Epoch 17/30\n",
      "128/128 [==============================] - 60s 470ms/step - loss: 0.0887 - accuracy: 0.9716 - val_loss: 0.2408 - val_accuracy: 0.9666\n",
      "Epoch 18/30\n",
      "128/128 [==============================] - 60s 470ms/step - loss: 0.0834 - accuracy: 0.9717 - val_loss: 0.0129 - val_accuracy: 0.9735\n",
      "Epoch 19/30\n",
      "128/128 [==============================] - 60s 470ms/step - loss: 0.0825 - accuracy: 0.9727 - val_loss: 0.2033 - val_accuracy: 0.9622\n",
      "Epoch 20/30\n",
      "128/128 [==============================] - 60s 470ms/step - loss: 0.0788 - accuracy: 0.9739 - val_loss: 0.0292 - val_accuracy: 0.9695\n",
      "Epoch 21/30\n",
      "128/128 [==============================] - 60s 469ms/step - loss: 0.0757 - accuracy: 0.9707 - val_loss: 0.1142 - val_accuracy: 0.9543\n",
      "Epoch 22/30\n",
      "128/128 [==============================] - 60s 471ms/step - loss: 0.0933 - accuracy: 0.9656 - val_loss: 0.3108 - val_accuracy: 0.9585\n",
      "Epoch 23/30\n",
      "128/128 [==============================] - 60s 471ms/step - loss: 0.0875 - accuracy: 0.9700 - val_loss: 0.0095 - val_accuracy: 0.9782\n",
      "Epoch 24/30\n",
      "128/128 [==============================] - 60s 471ms/step - loss: 0.0885 - accuracy: 0.9668 - val_loss: 0.0209 - val_accuracy: 0.9708\n",
      "Epoch 25/30\n",
      "128/128 [==============================] - 60s 471ms/step - loss: 0.0655 - accuracy: 0.9780 - val_loss: 0.0858 - val_accuracy: 0.9840\n",
      "Epoch 26/30\n",
      "128/128 [==============================] - 60s 470ms/step - loss: 0.0650 - accuracy: 0.9790 - val_loss: 0.0172 - val_accuracy: 0.9816\n",
      "Epoch 27/30\n",
      "128/128 [==============================] - 60s 469ms/step - loss: 0.0640 - accuracy: 0.9753 - val_loss: 0.1044 - val_accuracy: 0.9785\n",
      "Epoch 28/30\n",
      "128/128 [==============================] - 60s 470ms/step - loss: 0.0555 - accuracy: 0.9814 - val_loss: 0.0840 - val_accuracy: 0.9743\n",
      "Epoch 29/30\n",
      "128/128 [==============================] - 60s 469ms/step - loss: 0.0481 - accuracy: 0.9834 - val_loss: 0.0139 - val_accuracy: 0.9840\n",
      "Epoch 30/30\n",
      "128/128 [==============================] - 60s 470ms/step - loss: 0.0680 - accuracy: 0.9773 - val_loss: 0.0105 - val_accuracy: 0.9827\n"
     ]
    }
   ],
   "source": [
    "# ImagedataGenerator 불러오기\n",
    "train_datagen = ImageDataGenerator(rescale=1./255)\n",
    "val_datagen = ImageDataGenerator(rescale=1./255)\n",
    "test_datagen = ImageDataGenerator(rescale=1./255)\n",
    "\n",
    "# train data load \n",
    "train_set = train_datagen.flow_from_directory('roi/train/',\n",
    "                                              target_size=(250, 250),  \n",
    "                                              class_mode='categorical', \n",
    "                                              batch_size=32)\n",
    "\n",
    "# val data load \n",
    "val_set = val_datagen.flow_from_directory('roi/val/', \n",
    "                                            target_size=(250, 250), \n",
    "                                            class_mode='categorical', \n",
    "                                            batch_size=32) \n",
    "\n",
    "# test data load\n",
    "test_set = test_datagen.flow_from_directory('roi/test/',\n",
    "                                           target_size=(250, 250),\n",
    "                                           class_mode='categorical',\n",
    "                                           batch_size=32,\n",
    "                                           shuffle=False)\n",
    "\n",
    "# fit model\n",
    "history = model.fit_generator(train_set,\n",
    "                              epochs = 30,\n",
    "                              steps_per_epoch=128,\n",
    "                             validation_data = val_set)"
   ]
  },
  {
   "cell_type": "code",
   "execution_count": 8,
   "metadata": {},
   "outputs": [
    {
     "name": "stdout",
     "output_type": "stream",
     "text": [
      "{'E01': 0, 'E02': 1, 'E03': 2}\n"
     ]
    }
   ],
   "source": [
    "print(test_set.class_indices)"
   ]
  },
  {
   "cell_type": "code",
   "execution_count": 6,
   "metadata": {},
   "outputs": [
    {
     "data": {
      "image/png": "[encoded data removed]",
      "text/plain": [
       "<Figure size 432x288 with 1 Axes>"
      ]
     },
     "metadata": {},
     "output_type": "display_data"
    }
   ],
   "source": [
    "import matplotlib.pyplot as plt\n",
    "\n",
    "plt.plot(history.history['loss'])\n",
    "plt.plot(history.history['val_loss'])\n",
    "plt.plot(history.history['accuracy'])\n",
    "plt.plot(history.history['val_accuracy'])\n",
    "plt.title('loss, acc')\n",
    "plt.xlabel('epoch')\n",
    "plt.ylabel('loss, acc')\n",
    "plt.legend(['train loss', 'test loss', 'train acc', 'test acc'])\n",
    "plt.show()"
   ]
  },
  {
   "cell_type": "code",
   "execution_count": 7,
   "metadata": {},
   "outputs": [
    {
     "name": "stdout",
     "output_type": "stream",
     "text": [
      "              precision    recall  f1-score   support\n",
      "\n",
      "           0       0.96      0.99      0.98      1771\n",
      "           1       0.99      0.96      0.97      1344\n",
      "           2       0.99      0.98      0.98      1090\n",
      "\n",
      "   micro avg       0.98      0.98      0.98      4205\n",
      "   macro avg       0.98      0.98      0.98      4205\n",
      "weighted avg       0.98      0.98      0.98      4205\n",
      "\n"
     ]
    }
   ],
   "source": [
    "# model 검증\n",
    "from sklearn.metrics import classification_report\n",
    "\n",
    "pred = model.predict_generator(test_set)\n",
    "\n",
    "val_preds = np.argmax(pred, axis=-1)\n",
    "val_trues = test_set.classes\n",
    "\n",
    "print(classification_report(val_trues,val_preds))"
   ]
  },
  {
   "cell_type": "code",
   "execution_count": null,
   "metadata": {},
   "outputs": [],
   "source": [
    "pred = model.predict_generator(pred_set)\n",
    "\n",
    "\n",
    "val_preds = np.argmax(pred, axis=-1)\n",
    "val_trues = pred_set.classes\n",
    "cm = metrics.confusion_matrix(val_trues, val_preds)\n",
    "\n",
    "\n",
    "labels = pred_set1.class_indices.keys()\n",
    "precisions, recall, f1_score, _ = metrics.precision_recall_fscore_support(val_trues, val_preds, labels=labels)"
   ]
  },
  {
   "cell_type": "code",
   "execution_count": 8,
   "metadata": {},
   "outputs": [
    {
     "name": "stdout",
     "output_type": "stream",
     "text": [
      "모델 저장이 완료되었습니다.\n"
     ]
    }
   ],
   "source": [
    "model.save('./save/cnn0525(imagegenerator, 250, haar cascade).h5')\n",
    "print('모델 저장이 완료되었습니다.')"
   ]
  },
  {
   "cell_type": "code",
   "execution_count": null,
   "metadata": {},
   "outputs": [],
   "source": []
  }
 ],
 "metadata": {
  "kernelspec": {
   "display_name": "Python [conda env:amazonei_tensorflow_p36]",
   "language": "python",
   "name": "conda-env-amazonei_tensorflow_p36-py"
  },
  "language_info": {
   "codemirror_mode": {
    "name": "ipython",
    "version": 3
   },
   "file_extension": ".py",
   "mimetype": "text/x-python",
   "name": "python",
   "nbconvert_exporter": "python",
   "pygments_lexer": "ipython3",
   "version": "3.6.5"
  }
 },
 "nbformat": 4,
 "nbformat_minor": 2
}
