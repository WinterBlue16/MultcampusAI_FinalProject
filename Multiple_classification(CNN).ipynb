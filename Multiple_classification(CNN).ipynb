{
  "nbformat": 4,
  "nbformat_minor": 0,
  "metadata": {
    "colab": {
      "name": "Multiple classification(CNN)",
      "provenance": [],
      "collapsed_sections": [],
      "toc_visible": true,
      "mount_file_id": "1rPNvWdD8kw-MOP7Jjqaws7TxLPCi4QMc",
      "authorship_tag": "ABX9TyO9nd+tHlSFkcjL+GwP6+nP",
      "include_colab_link": true
    },
    "kernelspec": {
      "name": "python3",
      "display_name": "Python 3"
    },
    "accelerator": "GPU"
  },
  "cells": [
    {
      "cell_type": "markdown",
      "metadata": {
        "id": "view-in-github",
        "colab_type": "text"
      },
      "source": [
        "<a href=\"https://colab.research.google.com/github/WinterBlue16/MultcampusAI_FinalProject/blob/master/Multiple_classification(CNN).ipynb\" target=\"_parent\"><img src=\"https://colab.research.google.com/assets/colab-badge.svg\" alt=\"Open In Colab\"/></a>"
      ]
    },
    {
      "cell_type": "code",
      "metadata": {
        "id": "J9PWadNLDx9t",
        "colab_type": "code",
        "colab": {}
      },
      "source": [
        "!unzip -uq \"/content/drive/My Drive/roi_sample/roi_set.zip\" -d \"/content/drive/My Drive/roi_sample\""
      ],
      "execution_count": 0,
      "outputs": []
    },
    {
      "cell_type": "code",
      "metadata": {
        "id": "o2QLiM-BKD5l",
        "colab_type": "code",
        "colab": {}
      },
      "source": [
        "import sys\n",
        "import tensorflow as tf\n",
        "import keras\n",
        "from keras.models import Sequential\n",
        "from keras.layers import Dense, Dropout, Flatten,  GlobalAveragePooling2D\n",
        "from keras.layers.convolutional import Conv2D, MaxPooling2D\n",
        "import numpy as np\n",
        "\n",
        "import cv2\n",
        "import os\n",
        "import glob"
      ],
      "execution_count": 0,
      "outputs": []
    },
    {
      "cell_type": "code",
      "metadata": {
        "id": "P_hgSH91KYAv",
        "colab_type": "code",
        "outputId": "9fdd40cf-33c6-4991-f17c-3899bda457ac",
        "colab": {
          "base_uri": "https://localhost:8080/",
          "height": 71
        }
      },
      "source": [
        "path_plus='/content/drive/My Drive/roi_sample/e01'\n",
        "path_zero='/content/drive/My Drive/roi_sample/e02'\n",
        "path_minus='/content/drive/My Drive/roi_sample/e03'\n",
        "# path_unkno='image/unknown'\n",
        "\n",
        "la=len(os.listdir(path_zero))\n",
        "lb=len(os.listdir(path_plus))\n",
        "lc=len(os.listdir(path_minus))\n",
        "# lc=len(os.listdir(path_unkno)) \n",
        "\n",
        "print('zero 경로에 저장된 파일의 개수:'+str(la))\n",
        "print('plue 경로에 저장된 파일의 개수:'+str(lb))\n",
        "print('minus 경로에 저장된 파일의 개수:'+str(lc))"
      ],
      "execution_count": 0,
      "outputs": [
        {
          "output_type": "stream",
          "text": [
            "plus 경로에 저장된 파일의 개수:500\n",
            "zero 경로에 저장된 파일의 개수:500\n",
            "minus 경로에 저장된 파일의 개수:500\n"
          ],
          "name": "stdout"
        }
      ]
    },
    {
      "cell_type": "code",
      "metadata": {
        "id": "nMQmzc5pLH65",
        "colab_type": "code",
        "colab": {}
      },
      "source": [
        "xsize=200\n",
        "ysize=200"
      ],
      "execution_count": 0,
      "outputs": []
    },
    {
      "cell_type": "code",
      "metadata": {
        "id": "n09d4btxLtti",
        "colab_type": "code",
        "colab": {}
      },
      "source": [
        "x=[]\n",
        "y=[]\n",
        "\n",
        "from keras.preprocessing import image\n",
        "import numpy as np\n",
        "\n",
        "def read_dir(path, label):\n",
        "    \n",
        "    files = glob.glob(path + \"/*.jpg\")\n",
        "    if bool(files) == False:\n",
        "        files = glob.glob(path + \"/*.png\") \n",
        "     \n",
        "    for f in files:\n",
        "\n",
        "        try:\n",
        "            img = image.load_img(f, target_size=(xsize,ysize))\n",
        "            img_tr= image.img_to_array(img)        \n",
        "            img_tr /= 255.\n",
        "            \n",
        "            y.append(label)\n",
        "            x.append(img_tr)\n",
        "        except:\n",
        "            pass"
      ],
      "execution_count": 0,
      "outputs": []
    },
    {
      "cell_type": "code",
      "metadata": {
        "id": "KL-ucbH1L5Wc",
        "colab_type": "code",
        "colab": {}
      },
      "source": [
        "read_dir(path_plus, 0) #'plus emotion')\n",
        "read_dir(path_zero, 1) #'zero emotion')\n",
        "read_dir(path_minus, 2) #'minus emotion')"
      ],
      "execution_count": 0,
      "outputs": []
    },
    {
      "cell_type": "code",
      "metadata": {
        "id": "4gi6jWhsMKbU",
        "colab_type": "code",
        "colab": {}
      },
      "source": [
        "x=np.array(x)\n",
        "y=np.array(y)"
      ],
      "execution_count": 0,
      "outputs": []
    },
    {
      "cell_type": "code",
      "metadata": {
        "id": "XdV3CnMvM21M",
        "colab_type": "code",
        "outputId": "bbac240d-fcfc-4d93-cab1-7c91c9f41eae",
        "colab": {
          "base_uri": "https://localhost:8080/",
          "height": 35
        }
      },
      "source": [
        "print(x.shape)"
      ],
      "execution_count": 0,
      "outputs": [
        {
          "output_type": "stream",
          "text": [
            "(1500, 200, 200, 3)\n"
          ],
          "name": "stdout"
        }
      ]
    },
    {
      "cell_type": "code",
      "metadata": {
        "id": "_beqHoaCMQ6J",
        "colab_type": "code",
        "colab": {}
      },
      "source": [
        "from sklearn.model_selection import train_test_split\n",
        "x_train, x_test, y_train, y_test = train_test_split(x, y, test_size=0.1)\n",
        "\n",
        "input_shape = (xsize,ysize, 3)\n",
        "\n",
        "batch_size = 32\n",
        "num_classes = 2\n",
        "epochs = 15"
      ],
      "execution_count": 0,
      "outputs": []
    },
    {
      "cell_type": "code",
      "metadata": {
        "id": "Co6u22N1MpmJ",
        "colab_type": "code",
        "outputId": "b2f1fdb3-bd44-495f-8128-954b6e7bcc4d",
        "colab": {
          "base_uri": "https://localhost:8080/",
          "height": 53
        }
      },
      "source": [
        "print(x_test.shape)\n",
        "print(y_test.shape)"
      ],
      "execution_count": 0,
      "outputs": [
        {
          "output_type": "stream",
          "text": [
            "(150, 200, 200, 3)\n",
            "(150,)\n"
          ],
          "name": "stdout"
        }
      ]
    },
    {
      "cell_type": "code",
      "metadata": {
        "id": "Yau5rgOQOz9s",
        "colab_type": "code",
        "colab": {}
      },
      "source": [
        "y_train = keras.utils.to_categorical(y_train)\n",
        "y_test = keras.utils.to_categorical(y_test)"
      ],
      "execution_count": 0,
      "outputs": []
    },
    {
      "cell_type": "code",
      "metadata": {
        "id": "poHl5czmPBL1",
        "colab_type": "code",
        "outputId": "94c3c528-df64-4440-bb15-f92e2a6e4857",
        "colab": {
          "base_uri": "https://localhost:8080/",
          "height": 377
        }
      },
      "source": [
        "from keras.models import Sequential, Model\n",
        "from keras.layers import Dense, Conv2D, MaxPooling2D, Flatten\n",
        "\n",
        "model = Sequential()\n",
        "model.add(Conv2D(32, (2, 2), padding='same', \n",
        "                 input_shape=(200, 200, 3), strides=2, activation='relu')) # stride가 이미지 크기와 맞아떨어지지 않을 경우 맞는 부분만 계산(ex> (5, 5) => (2, 2))\n",
        "model.add(Conv2D(128, (2, 2), activation='relu')) # Kernel의 크기는 input의 크기보다 작아야 한다!(같으면 안됨)\n",
        "model.add(MaxPooling2D(2, 2))# MaxPooling은 최댓값이 겹치지 않도록(중요) stride를 알아서 조절해 데이터를 축소한다!(통상적으로 절반 ex> (6, 6) => (3, 3))\n",
        "model.add(Flatten())\n",
        "model.add(Dense(128, activation='relu'))\n",
        "model.add(Dense(3, activation='softmax'))\n",
        "\n",
        "\n",
        "model.compile(loss='categorical_crossentropy',optimizer='Adam',metrics=['accuracy'])\n",
        "\n",
        "model.summary()"
      ],
      "execution_count": 0,
      "outputs": [
        {
          "output_type": "stream",
          "text": [
            "Model: \"sequential_3\"\n",
            "_________________________________________________________________\n",
            "Layer (type)                 Output Shape              Param #   \n",
            "=================================================================\n",
            "conv2d_5 (Conv2D)            (None, 100, 100, 32)      416       \n",
            "_________________________________________________________________\n",
            "conv2d_6 (Conv2D)            (None, 99, 99, 128)       16512     \n",
            "_________________________________________________________________\n",
            "max_pooling2d_3 (MaxPooling2 (None, 49, 49, 128)       0         \n",
            "_________________________________________________________________\n",
            "flatten_3 (Flatten)          (None, 307328)            0         \n",
            "_________________________________________________________________\n",
            "dense_5 (Dense)              (None, 128)               39338112  \n",
            "_________________________________________________________________\n",
            "dense_6 (Dense)              (None, 3)                 387       \n",
            "=================================================================\n",
            "Total params: 39,355,427\n",
            "Trainable params: 39,355,427\n",
            "Non-trainable params: 0\n",
            "_________________________________________________________________\n"
          ],
          "name": "stdout"
        }
      ]
    },
    {
      "cell_type": "code",
      "metadata": {
        "id": "uJTed-KsPQ2r",
        "colab_type": "code",
        "outputId": "a507fabb-32ff-4093-8a4c-45b4554d5638",
        "colab": {
          "base_uri": "https://localhost:8080/",
          "height": 431
        }
      },
      "source": [
        "model.fit(x_train, y_train, validation_split=0.2, \n",
        "          epochs=10, batch_size=10, verbose=1)\n",
        "\n",
        "acc = model.evaluate(x_test, y_test)\n",
        "print(acc)"
      ],
      "execution_count": 0,
      "outputs": [
        {
          "output_type": "stream",
          "text": [
            "Train on 1080 samples, validate on 270 samples\n",
            "Epoch 1/10\n",
            "1080/1080 [==============================] - 5s 4ms/step - loss: 2.4522e-04 - acc: 1.0000 - val_loss: 0.1643 - val_acc: 0.9556\n",
            "Epoch 2/10\n",
            "1080/1080 [==============================] - 5s 4ms/step - loss: 1.5543e-04 - acc: 1.0000 - val_loss: 0.1678 - val_acc: 0.9519\n",
            "Epoch 3/10\n",
            "1080/1080 [==============================] - 5s 4ms/step - loss: 1.0764e-04 - acc: 1.0000 - val_loss: 0.1581 - val_acc: 0.9519\n",
            "Epoch 4/10\n",
            "1080/1080 [==============================] - 5s 4ms/step - loss: 7.2885e-05 - acc: 1.0000 - val_loss: 0.1762 - val_acc: 0.9556\n",
            "Epoch 5/10\n",
            "1080/1080 [==============================] - 5s 4ms/step - loss: 5.1504e-05 - acc: 1.0000 - val_loss: 0.1667 - val_acc: 0.9519\n",
            "Epoch 6/10\n",
            "1080/1080 [==============================] - 5s 4ms/step - loss: 3.7274e-05 - acc: 1.0000 - val_loss: 0.1731 - val_acc: 0.9519\n",
            "Epoch 7/10\n",
            "1080/1080 [==============================] - 5s 4ms/step - loss: 2.6572e-05 - acc: 1.0000 - val_loss: 0.1644 - val_acc: 0.9519\n",
            "Epoch 8/10\n",
            "1080/1080 [==============================] - 5s 4ms/step - loss: 2.0949e-05 - acc: 1.0000 - val_loss: 0.1752 - val_acc: 0.9556\n",
            "Epoch 9/10\n",
            "1080/1080 [==============================] - 5s 4ms/step - loss: 1.5654e-05 - acc: 1.0000 - val_loss: 0.1646 - val_acc: 0.9519\n",
            "Epoch 10/10\n",
            "1080/1080 [==============================] - 5s 4ms/step - loss: 1.2959e-05 - acc: 1.0000 - val_loss: 0.1818 - val_acc: 0.9556\n",
            "150/150 [==============================] - 0s 498us/step\n",
            "[0.13780301918586096, 0.9533333309491475]\n"
          ],
          "name": "stdout"
        }
      ]
    },
    {
      "cell_type": "code",
      "metadata": {
        "id": "nVddSc6nQeND",
        "colab_type": "code",
        "colab": {}
      },
      "source": [
        "test_path = \"/content/drive/My Drive/Colab Notebooks/test_set\" # 기쁨만 모인 test set\n",
        "test_path2 = \"/content/drive/My Drive/Colab Notebooks/test_set2\" # 무표정만 모인 test set \n",
        "\n",
        "X=[]\n",
        "\n",
        "def read_dir1(path):\n",
        "    \n",
        "    files = glob.glob(path + \"/*.jpg\")\n",
        "    if bool(files) == False:\n",
        "        files = glob.glob(path + \"/*.png\") \n",
        "     \n",
        "    for f in files:\n",
        "\n",
        "        try:\n",
        "            img = image.load_img(f, target_size=(xsize,ysize))\n",
        "            img_tr= image.img_to_array(img)        \n",
        "            img_tr /= 255.\n",
        "            X.append(img_tr)\n",
        "        except:\n",
        "          pass"
      ],
      "execution_count": 0,
      "outputs": []
    },
    {
      "cell_type": "code",
      "metadata": {
        "id": "yCoCuPi-hBcP",
        "colab_type": "code",
        "colab": {}
      },
      "source": [
        "# test set 기쁨\n",
        "read_dir1(test_path)\n",
        "X = np.array(X)\n",
        "pred = model.predict(X)"
      ],
      "execution_count": 0,
      "outputs": []
    },
    {
      "cell_type": "code",
      "metadata": {
        "id": "uR-tx3RDhIG7",
        "colab_type": "code",
        "colab": {}
      },
      "source": [
        "# test set(무표정)\n",
        "read_dir1(test_path2)\n",
        "X = np.array(X)\n",
        "pred = model.predict(X)"
      ],
      "execution_count": 0,
      "outputs": []
    },
    {
      "cell_type": "code",
      "metadata": {
        "id": "FjjDei0ehOWV",
        "colab_type": "code",
        "colab": {}
      },
      "source": [
        "# 예측(test set 기쁨)\n",
        "co=0\n",
        "for i in range(100):\n",
        "  print(np.argmax(pred[i]),end=' ')\n",
        "  tmp=np.argmax(pred[i])\n",
        "\n",
        "  if tmp == 1:\n",
        "    co+=1\n",
        "\n",
        "print('\\n',co/100.)"
      ],
      "execution_count": 0,
      "outputs": []
    },
    {
      "cell_type": "code",
      "metadata": {
        "id": "OUjtc8sVhVRP",
        "colab_type": "code",
        "colab": {}
      },
      "source": [
        "# 예측(test set 무표정)\n",
        "co=0\n",
        "for i in range(100):\n",
        "  print(np.argmax(pred[i]),end=' ')\n",
        "  tmp=np.argmax(pred[i])\n",
        "\n",
        "  if tmp == 0:\n",
        "    co+=1\n",
        "\n",
        "print('\\n',co/100.)"
      ],
      "execution_count": 0,
      "outputs": []
    }
  ]
}