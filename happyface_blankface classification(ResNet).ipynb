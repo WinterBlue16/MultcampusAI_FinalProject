{
 "cells": [
  {
   "cell_type": "code",
   "execution_count": 5,
   "metadata": {},
   "outputs": [
    {
     "name": "stdout",
     "output_type": "stream",
     "text": [
      "WARNING:tensorflow:From C:\\Users\\User\\Anaconda3\\lib\\site-packages\\keras\\backend\\tensorflow_backend.py:4185: The name tf.truncated_normal is deprecated. Please use tf.random.truncated_normal instead.\n",
      "\n",
      "WARNING:tensorflow:From C:\\Users\\User\\Anaconda3\\lib\\site-packages\\keras\\backend\\tensorflow_backend.py:174: The name tf.get_default_session is deprecated. Please use tf.compat.v1.get_default_session instead.\n",
      "\n",
      "WARNING:tensorflow:From C:\\Users\\User\\Anaconda3\\lib\\site-packages\\keras\\backend\\tensorflow_backend.py:181: The name tf.ConfigProto is deprecated. Please use tf.compat.v1.ConfigProto instead.\n",
      "\n",
      "WARNING:tensorflow:From C:\\Users\\User\\Anaconda3\\lib\\site-packages\\keras\\backend\\tensorflow_backend.py:1834: The name tf.nn.fused_batch_norm is deprecated. Please use tf.compat.v1.nn.fused_batch_norm instead.\n",
      "\n",
      "WARNING:tensorflow:From C:\\Users\\User\\Anaconda3\\lib\\site-packages\\keras\\backend\\tensorflow_backend.py:3976: The name tf.nn.max_pool is deprecated. Please use tf.nn.max_pool2d instead.\n",
      "\n",
      "WARNING:tensorflow:From C:\\Users\\User\\Anaconda3\\lib\\site-packages\\keras\\optimizers.py:790: The name tf.train.Optimizer is deprecated. Please use tf.compat.v1.train.Optimizer instead.\n",
      "\n",
      "WARNING:tensorflow:From C:\\Users\\User\\Anaconda3\\lib\\site-packages\\tensorflow\\python\\ops\\nn_impl.py:180: add_dispatch_support.<locals>.wrapper (from tensorflow.python.ops.array_ops) is deprecated and will be removed in a future version.\n",
      "Instructions for updating:\n",
      "Use tf.where in 2.0, which has the same broadcast rule as np.where\n"
     ]
    }
   ],
   "source": [
    "# ResNet\n",
    "from keras.applications import ResNet50\n",
    "from keras.layers import Dense, Input, Activation\n",
    "from keras.models import Model\n",
    "from keras.callbacks import EarlyStopping\n",
    "from keras import optimizers\n",
    "from keras.preprocessing.image import ImageDataGenerator\n",
    "from keras.layers.normalization import BatchNormalization\n",
    "\n",
    "\n",
    "input = Input(shape=(100, 100, 3))\n",
    "model = ResNet50(input_tensor=input, include_top=False, weights=None, pooling='max')\n",
    " \n",
    "x = model.output\n",
    "x = Dense(256)(x)\n",
    "x = Activation('relu')(x)\n",
    "x = Dense(128)(x)\n",
    "x = Activation('relu')(x)\n",
    "x = Dense(1, activation='sigmoid')(x)\n",
    "model = Model(model.input, x)\n",
    "\n",
    "model.compile(loss='binary_crossentropy',optimizer='Adam',metrics=['accuracy'])\n",
    "\n",
    "# model.summary()"
   ]
  },
  {
   "cell_type": "code",
   "execution_count": 6,
   "metadata": {},
   "outputs": [],
   "source": [
    "from keras.preprocessing.image import ImageDataGenerator"
   ]
  },
  {
   "cell_type": "code",
   "execution_count": null,
   "metadata": {
    "scrolled": true
   },
   "outputs": [
    {
     "name": "stdout",
     "output_type": "stream",
     "text": [
      "Found 1600 images belonging to 2 classes.\n",
      "Found 1600 images belonging to 2 classes.\n",
      "Epoch 1/30\n",
      "30/30 [==============================] - 266s 9s/step - loss: 0.6919 - acc: 0.7000 - val_loss: 7.0639 - val_acc: 0.5600\n",
      "Epoch 2/30\n",
      "30/30 [==============================] - 175s 6s/step - loss: 0.6939 - acc: 0.4667 - val_loss: 9.0993 - val_acc: 0.4200\n",
      "Epoch 3/30\n",
      "30/30 [==============================] - 170s 6s/step - loss: 0.6947 - acc: 0.4000 - val_loss: 6.7450 - val_acc: 0.5800\n",
      "Epoch 4/30\n",
      "30/30 [==============================] - 155s 5s/step - loss: 0.6940 - acc: 0.4000 - val_loss: 8.1418 - val_acc: 0.4800\n",
      "Epoch 5/30\n",
      "30/30 [==============================] - 133s 4s/step - loss: 0.6931 - acc: 0.5333 - val_loss: 5.8057 - val_acc: 0.6200\n",
      "Epoch 6/30\n",
      "30/30 [==============================] - 98s 3s/step - loss: 0.6935 - acc: 0.4000 - val_loss: 9.3309 - val_acc: 0.4200\n",
      "Epoch 7/30\n",
      "30/30 [==============================] - 109s 4s/step - loss: 0.6932 - acc: 0.3333 - val_loss: 7.3797 - val_acc: 0.5400\n",
      "Epoch 8/30\n",
      "30/30 [==============================] - 149s 5s/step - loss: 0.6933 - acc: 0.4333 - val_loss: 7.0427 - val_acc: 0.5600\n",
      "Epoch 9/30\n",
      "30/30 [==============================] - 165s 6s/step - loss: 0.6931 - acc: 0.5333 - val_loss: 7.3792 - val_acc: 0.5400\n",
      "Epoch 10/30\n",
      "30/30 [==============================] - 113s 4s/step - loss: 0.6918 - acc: 0.7000 - val_loss: 9.6463 - val_acc: 0.4000\n",
      "Epoch 11/30\n",
      "30/30 [==============================] - 97s 3s/step - loss: 0.6937 - acc: 0.4667 - val_loss: 7.7051 - val_acc: 0.5200\n",
      "Epoch 12/30\n",
      "30/30 [==============================] - 94s 3s/step - loss: 0.6928 - acc: 0.5333 - val_loss: 8.0524 - val_acc: 0.4800\n",
      "Epoch 13/30\n",
      "30/30 [==============================] - 97s 3s/step - loss: 0.6938 - acc: 0.4667 - val_loss: 5.4626 - val_acc: 0.6600\n",
      "Epoch 14/30\n",
      "30/30 [==============================] - 96s 3s/step - loss: 0.6904 - acc: 0.6667 - val_loss: 9.6287 - val_acc: 0.4000\n",
      "Epoch 15/30\n",
      "30/30 [==============================] - 82s 3s/step - loss: 0.6925 - acc: 0.5333 - val_loss: 5.7779 - val_acc: 0.6400\n",
      "Epoch 16/30\n",
      "30/30 [==============================] - 81s 3s/step - loss: 0.6916 - acc: 0.5667 - val_loss: 7.3862 - val_acc: 0.5400\n",
      "Epoch 17/30\n",
      "30/30 [==============================] - 82s 3s/step - loss: 0.6934 - acc: 0.5000 - val_loss: 7.3827 - val_acc: 0.5400\n",
      "Epoch 18/30\n",
      "30/30 [==============================] - 89s 3s/step - loss: 0.6916 - acc: 0.5667 - val_loss: 9.3098 - val_acc: 0.4200\n",
      "Epoch 19/30\n",
      "30/30 [==============================] - 89s 3s/step - loss: 0.6944 - acc: 0.4667 - val_loss: 8.0344 - val_acc: 0.5000\n",
      "Epoch 20/30\n",
      "30/30 [==============================] - 77s 3s/step - loss: 0.6943 - acc: 0.4667 - val_loss: 7.3968 - val_acc: 0.5400\n",
      "Epoch 21/30\n",
      "30/30 [==============================] - 103s 3s/step - loss: 0.6942 - acc: 0.4667 - val_loss: 6.4226 - val_acc: 0.6000\n",
      "Epoch 22/30\n",
      "30/30 [==============================] - 113s 4s/step - loss: 0.6942 - acc: 0.4667 - val_loss: 8.6686 - val_acc: 0.4600\n",
      "Epoch 23/30\n",
      "30/30 [==============================] - 99s 3s/step - loss: 0.6960 - acc: 0.3667 - val_loss: 7.7194 - val_acc: 0.5200\n",
      "Epoch 24/30\n",
      "30/30 [==============================] - 95s 3s/step - loss: 0.6910 - acc: 0.6333 - val_loss: 9.5522 - val_acc: 0.3800\n",
      "Epoch 25/30\n",
      "30/30 [==============================] - 83s 3s/step - loss: 0.6920 - acc: 0.5667 - val_loss: 8.3568 - val_acc: 0.4800\n",
      "Epoch 26/30\n",
      "30/30 [==============================] - 78s 3s/step - loss: 0.6917 - acc: 0.5667 - val_loss: 8.3533 - val_acc: 0.4800\n",
      "Epoch 27/30\n",
      "30/30 [==============================] - 84s 3s/step - loss: 0.6904 - acc: 0.6000 - val_loss: 8.6757 - val_acc: 0.4600\n",
      "Epoch 28/30\n",
      "30/30 [==============================] - 84s 3s/step - loss: 0.6976 - acc: 0.3667 - val_loss: 8.3498 - val_acc: 0.4800\n"
     ]
    }
   ],
   "source": [
    "train_data = ImageDataGenerator(rescale=1./255, \n",
    "                                shear_range=0.2,\n",
    "                                zoom_range=0.2,\n",
    "                                horizontal_flip=True)\n",
    "test_data = ImageDataGenerator(rescale=1./255)\n",
    "train_set = train_data.flow_from_directory('C:/Users/User/Desktop/dataset/train',\n",
    "                                           target_size=(100,100),\n",
    "                                           batch_size=1,\n",
    "                                           class_mode='binary')\n",
    "\n",
    "test_set = test_data.flow_from_directory('C:/Users/User/Desktop/dataset/train',\n",
    "                                           target_size=(100,100),\n",
    "                                           batch_size=1,\n",
    "                                           class_mode='binary')\n",
    "\n",
    "model.fit_generator(train_set,\n",
    "                    steps_per_epoch=30,\n",
    "                    epochs=30,\n",
    "                    validation_data=test_set,\n",
    "                   validation_steps=50)"
   ]
  },
  {
   "cell_type": "code",
   "execution_count": 15,
   "metadata": {},
   "outputs": [
    {
     "ename": "NameError",
     "evalue": "name 'accuracy' is not defined",
     "output_type": "error",
     "traceback": [
      "\u001b[1;31m---------------------------------------------------------------------------\u001b[0m",
      "\u001b[1;31mNameError\u001b[0m                                 Traceback (most recent call last)",
      "\u001b[1;32m<ipython-input-15-cb91a36c862b>\u001b[0m in \u001b[0;36m<module>\u001b[1;34m\u001b[0m\n\u001b[0;32m      1\u001b[0m \u001b[0moutput\u001b[0m \u001b[1;33m=\u001b[0m \u001b[0mmodel\u001b[0m\u001b[1;33m.\u001b[0m\u001b[0mpredict_generator\u001b[0m\u001b[1;33m(\u001b[0m\u001b[0mtest_set\u001b[0m\u001b[1;33m,\u001b[0m \u001b[0msteps\u001b[0m\u001b[1;33m=\u001b[0m\u001b[1;36m5\u001b[0m\u001b[1;33m)\u001b[0m\u001b[1;33m\u001b[0m\u001b[1;33m\u001b[0m\u001b[0m\n\u001b[1;32m----> 2\u001b[1;33m \u001b[0mprint\u001b[0m\u001b[1;33m(\u001b[0m\u001b[0maccuracy\u001b[0m\u001b[1;33m)\u001b[0m\u001b[1;33m\u001b[0m\u001b[1;33m\u001b[0m\u001b[0m\n\u001b[0m",
      "\u001b[1;31mNameError\u001b[0m: name 'accuracy' is not defined"
     ]
    }
   ],
   "source": [
    "output = model.predict_generator(test_set, steps=5)"
   ]
  },
  {
   "cell_type": "code",
   "execution_count": null,
   "metadata": {},
   "outputs": [],
   "source": []
  }
 ],
 "metadata": {
  "kernelspec": {
   "display_name": "Python 3",
   "language": "python",
   "name": "python3"
  },
  "language_info": {
   "codemirror_mode": {
    "name": "ipython",
    "version": 3
   },
   "file_extension": ".py",
   "mimetype": "text/x-python",
   "name": "python",
   "nbconvert_exporter": "python",
   "pygments_lexer": "ipython3",
   "version": "3.7.3"
  }
 },
 "nbformat": 4,
 "nbformat_minor": 2
}
