{
 "cells": [
  {
   "cell_type": "code",
   "execution_count": 16,
   "metadata": {},
   "outputs": [],
   "source": [
    "# CNN\n",
    "\n",
    "from keras.models import Sequential, Model\n",
    "from keras.layers import Dense, Conv2D, MaxPooling2D, Flatten\n",
    "\n",
    "model = Sequential()\n",
    "model.add(Conv2D(256, (2, 2), padding='same', \n",
    "                 input_shape=(100, 100, 3),activation='relu')) # stride가 이미지 크기와 맞아떨어지지 않을 경우 맞는 부분만 계산(ex> (5, 5) => (2, 2))\n",
    "model.add(Conv2D(256, (2, 2), activation='relu')) # Kernel의 크기는 input의 크기보다 작아야 한다!(같으면 안됨)\n",
    "model.add(MaxPooling2D(2, 2))# MaxPooling은 최댓값이 겹치지 않도록(중요) stride를 알아서 조절해 데이터를 축소한다!(통상적으로 절반 ex> (6, 6) => (3, 3))\n",
    "model.add(Flatten())\n",
    "model.add(Dense(128, activation='relu'))\n",
    "model.add(Dense(1, activation='sigmoid'))\n",
    "\n",
    "\n",
    "model.compile(loss='binary_crossentropy',optimizer='Adam',metrics=['accuracy'])\n",
    "\n",
    "# model.summary()"
   ]
  },
  {
   "cell_type": "code",
   "execution_count": 17,
   "metadata": {},
   "outputs": [],
   "source": [
    "from keras.preprocessing.image import ImageDataGenerator"
   ]
  },
  {
   "cell_type": "code",
   "execution_count": 18,
   "metadata": {
    "scrolled": true
   },
   "outputs": [
    {
     "name": "stdout",
     "output_type": "stream",
     "text": [
      "Found 1600 images belonging to 2 classes.\n",
      "Found 1600 images belonging to 2 classes.\n",
      "Epoch 1/30\n",
      "30/30 [==============================] - 42s 1s/step - loss: 1.0782 - acc: 0.6333 - val_loss: 0.6966 - val_acc: 0.5200\n",
      "Epoch 2/30\n",
      "30/30 [==============================] - 37s 1s/step - loss: 0.7321 - acc: 0.4333 - val_loss: 0.6881 - val_acc: 0.5400\n",
      "Epoch 3/30\n",
      "30/30 [==============================] - 46s 2s/step - loss: 0.6923 - acc: 0.4667 - val_loss: 0.6932 - val_acc: 0.5600\n",
      "Epoch 4/30\n",
      "30/30 [==============================] - 51s 2s/step - loss: 0.7038 - acc: 0.5000 - val_loss: 0.6912 - val_acc: 0.5600\n",
      "Epoch 5/30\n",
      "30/30 [==============================] - 45s 2s/step - loss: 0.6851 - acc: 0.5667 - val_loss: 0.7627 - val_acc: 0.4200\n",
      "Epoch 6/30\n",
      "30/30 [==============================] - 39s 1s/step - loss: 0.7394 - acc: 0.4333 - val_loss: 0.6892 - val_acc: 0.5000\n",
      "Epoch 7/30\n",
      "30/30 [==============================] - 42s 1s/step - loss: 0.7129 - acc: 0.5667 - val_loss: 0.6936 - val_acc: 0.4600\n",
      "Epoch 8/30\n",
      "30/30 [==============================] - 38s 1s/step - loss: 0.6997 - acc: 0.3333 - val_loss: 0.6903 - val_acc: 0.5800\n",
      "Epoch 9/30\n",
      "30/30 [==============================] - 42s 1s/step - loss: 0.6944 - acc: 0.4667 - val_loss: 0.6903 - val_acc: 0.5800\n",
      "Epoch 10/30\n",
      "30/30 [==============================] - 37s 1s/step - loss: 0.6947 - acc: 0.5667 - val_loss: 0.6922 - val_acc: 0.5200\n",
      "Epoch 11/30\n",
      "30/30 [==============================] - 45s 2s/step - loss: 0.7124 - acc: 0.6333 - val_loss: 0.6945 - val_acc: 0.4600\n",
      "Epoch 12/30\n",
      "30/30 [==============================] - 52s 2s/step - loss: 0.6979 - acc: 0.5333 - val_loss: 0.6872 - val_acc: 0.8000\n",
      "Epoch 13/30\n",
      "30/30 [==============================] - 37s 1s/step - loss: 0.6937 - acc: 0.3667 - val_loss: 0.6879 - val_acc: 0.6200\n",
      "Epoch 14/30\n",
      "30/30 [==============================] - 39s 1s/step - loss: 0.6947 - acc: 0.5000 - val_loss: 0.6926 - val_acc: 0.5000\n",
      "Epoch 15/30\n",
      "30/30 [==============================] - 38s 1s/step - loss: 0.6951 - acc: 0.5000 - val_loss: 0.6921 - val_acc: 0.5600\n",
      "Epoch 16/30\n",
      "30/30 [==============================] - 36s 1s/step - loss: 0.6899 - acc: 0.6333 - val_loss: 0.6790 - val_acc: 0.5400\n",
      "Epoch 17/30\n",
      "30/30 [==============================] - 42s 1s/step - loss: 0.7144 - acc: 0.5000 - val_loss: 0.7014 - val_acc: 0.4400\n",
      "Epoch 18/30\n",
      "30/30 [==============================] - 47s 2s/step - loss: 0.7390 - acc: 0.4333 - val_loss: 0.6890 - val_acc: 0.5800\n",
      "Epoch 19/30\n",
      "30/30 [==============================] - 53s 2s/step - loss: 0.6830 - acc: 0.6000 - val_loss: 0.7261 - val_acc: 0.4800\n",
      "Epoch 20/30\n",
      "30/30 [==============================] - 46s 2s/step - loss: 0.8699 - acc: 0.5000 - val_loss: 0.6911 - val_acc: 0.6600\n",
      "Epoch 21/30\n",
      "30/30 [==============================] - 52s 2s/step - loss: 0.6981 - acc: 0.5667 - val_loss: 0.6914 - val_acc: 0.5400\n",
      "Epoch 22/30\n",
      "30/30 [==============================] - 40s 1s/step - loss: 0.6937 - acc: 0.4667 - val_loss: 0.7018 - val_acc: 0.4000\n",
      "Epoch 23/30\n",
      "30/30 [==============================] - 35s 1s/step - loss: 0.6948 - acc: 0.5000 - val_loss: 0.6929 - val_acc: 0.5000\n",
      "Epoch 24/30\n",
      "30/30 [==============================] - 32s 1s/step - loss: 0.6898 - acc: 0.6000 - val_loss: 0.6899 - val_acc: 0.5200\n",
      "Epoch 25/30\n",
      "30/30 [==============================] - 29s 953ms/step - loss: 0.7070 - acc: 0.4333 - val_loss: 0.6909 - val_acc: 0.4800\n",
      "Epoch 26/30\n",
      "30/30 [==============================] - 27s 916ms/step - loss: 0.7013 - acc: 0.5333 - val_loss: 0.6906 - val_acc: 0.6200\n",
      "Epoch 27/30\n",
      "30/30 [==============================] - 28s 943ms/step - loss: 0.7134 - acc: 0.6000 - val_loss: 0.7086 - val_acc: 0.5000\n",
      "Epoch 28/30\n",
      "30/30 [==============================] - 25s 824ms/step - loss: 0.7029 - acc: 0.5667 - val_loss: 0.6913 - val_acc: 0.5200\n",
      "Epoch 29/30\n",
      "30/30 [==============================] - 22s 727ms/step - loss: 0.6952 - acc: 0.4333 - val_loss: 0.6901 - val_acc: 0.4800\n",
      "Epoch 30/30\n",
      "30/30 [==============================] - 22s 737ms/step - loss: 0.6966 - acc: 0.3333 - val_loss: 0.6915 - val_acc: 0.6400\n"
     ]
    },
    {
     "data": {
      "text/plain": [
       "<keras.callbacks.History at 0x201bcf4b588>"
      ]
     },
     "execution_count": 18,
     "metadata": {},
     "output_type": "execute_result"
    }
   ],
   "source": [
    "train_data = ImageDataGenerator(rescale=1./255, \n",
    "                                shear_range=0.2,\n",
    "                                zoom_range=0.2,\n",
    "                                horizontal_flip=True)\n",
    "test_data = ImageDataGenerator(rescale=1./255)\n",
    "train_set = train_data.flow_from_directory('C:/Users/User/Desktop/dataset/train',\n",
    "                                           target_size=(100,100),\n",
    "                                           batch_size=1,\n",
    "                                           class_mode='binary')\n",
    "\n",
    "test_set = test_data.flow_from_directory('C:/Users/User/Desktop/dataset/train',\n",
    "                                           target_size=(100,100),\n",
    "                                           batch_size=1,\n",
    "                                           class_mode='binary')\n",
    "\n",
    "model.fit_generator(train_set,\n",
    "                    steps_per_epoch=30,\n",
    "                    epochs=30,\n",
    "                    validation_data=test_set,\n",
    "                   validation_steps=50)"
   ]
  },
  {
   "cell_type": "code",
   "execution_count": 19,
   "metadata": {},
   "outputs": [],
   "source": [
    "output = model.predict_generator(test_set, steps=5)\n"
   ]
  },
  {
   "cell_type": "code",
   "execution_count": null,
   "metadata": {},
   "outputs": [],
   "source": []
  }
 ],
 "metadata": {
  "kernelspec": {
   "display_name": "Python 3",
   "language": "python",
   "name": "python3"
  },
  "language_info": {
   "codemirror_mode": {
    "name": "ipython",
    "version": 3
   },
   "file_extension": ".py",
   "mimetype": "text/x-python",
   "name": "python",
   "nbconvert_exporter": "python",
   "pygments_lexer": "ipython3",
   "version": "3.7.3"
  }
 },
 "nbformat": 4,
 "nbformat_minor": 2
}
