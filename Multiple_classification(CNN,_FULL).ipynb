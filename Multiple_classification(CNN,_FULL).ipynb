{
  "nbformat": 4,
  "nbformat_minor": 0,
  "metadata": {
    "colab": {
      "name": "Multiple classification(CNN, FULL)",
      "provenance": [],
      "collapsed_sections": [],
      "toc_visible": true,
      "mount_file_id": "1g6HlBrgua292c0kvQIPBVhIMphP1DKY3",
      "authorship_tag": "ABX9TyOMeuegfOYWuiawyqzXfgov",
      "include_colab_link": true
    },
    "kernelspec": {
      "name": "python3",
      "display_name": "Python 3"
    },
    "accelerator": "GPU"
  },
  "cells": [
    {
      "cell_type": "markdown",
      "metadata": {
        "id": "view-in-github",
        "colab_type": "text"
      },
      "source": [
        "<a href=\"https://colab.research.google.com/github/WinterBlue16/MultcampusAI_FinalProject/blob/master/Multiple_classification(CNN%2C_FULL).ipynb\" target=\"_parent\"><img src=\"https://colab.research.google.com/assets/colab-badge.svg\" alt=\"Open In Colab\"/></a>"
      ]
    },
    {
      "cell_type": "code",
      "metadata": {
        "id": "J9PWadNLDx9t",
        "colab_type": "code",
        "colab": {}
      },
      "source": [
        "!unzip -uq \"/content/drive/My Drive/roi.zip\" -d \"/content/drive/My Drive/roi_sample\""
      ],
      "execution_count": 0,
      "outputs": []
    },
    {
      "cell_type": "code",
      "metadata": {
        "id": "o2QLiM-BKD5l",
        "colab_type": "code",
        "outputId": "8f790579-b436-4c48-e546-84df71cc4d33",
        "colab": {
          "base_uri": "https://localhost:8080/",
          "height": 99
        }
      },
      "source": [
        "import sys\n",
        "import tensorflow as tf\n",
        "import keras\n",
        "from keras.models import Sequential\n",
        "from keras.layers import Dense, Dropout, Flatten,  GlobalAveragePooling2D\n",
        "from keras.layers.convolutional import Conv2D, MaxPooling2D\n",
        "import numpy as np\n",
        "\n",
        "import cv2\n",
        "import os\n",
        "import glob"
      ],
      "execution_count": 2,
      "outputs": [
        {
          "output_type": "display_data",
          "data": {
            "text/html": [
              "<p style=\"color: red;\">\n",
              "The default version of TensorFlow in Colab will soon switch to TensorFlow 2.x.<br>\n",
              "We recommend you <a href=\"https://www.tensorflow.org/guide/migrate\" target=\"_blank\">upgrade</a> now \n",
              "or ensure your notebook will continue to use TensorFlow 1.x via the <code>%tensorflow_version 1.x</code> magic:\n",
              "<a href=\"https://colab.research.google.com/notebooks/tensorflow_version.ipynb\" target=\"_blank\">more info</a>.</p>\n"
            ],
            "text/plain": [
              "<IPython.core.display.HTML object>"
            ]
          },
          "metadata": {
            "tags": []
          }
        },
        {
          "output_type": "stream",
          "text": [
            "Using TensorFlow backend.\n"
          ],
          "name": "stderr"
        }
      ]
    },
    {
      "cell_type": "code",
      "metadata": {
        "id": "P_hgSH91KYAv",
        "colab_type": "code",
        "outputId": "7ed00f78-c01b-449a-f5a3-bdacb4838450",
        "colab": {
          "base_uri": "https://localhost:8080/",
          "height": 71
        }
      },
      "source": [
        "path_plus='/content/drive/My Drive/roi_sample/E01' # 무표정\n",
        "path_zero='/content/drive/My Drive/roi_sample/E02' # 웃음\n",
        "path_minus='/content/drive/My Drive/roi_sample/E03' # 찡그림\n",
        "# path_unkno='image/unknown'\n",
        "\n",
        "la=len(os.listdir(path_zero))\n",
        "lb=len(os.listdir(path_plus))\n",
        "lc=len(os.listdir(path_minus))\n",
        "# lc=len(os.listdir(path_unkno)) \n",
        "\n",
        "print('zero 경로에 저장된 파일의 개수:'+str(la))\n",
        "print('plus 경로에 저장된 파일의 개수:'+str(lb))\n",
        "print('minus 경로에 저장된 파일의 개수:'+str(lc))"
      ],
      "execution_count": 25,
      "outputs": [
        {
          "output_type": "stream",
          "text": [
            "zero 경로에 저장된 파일의 개수:2880\n",
            "plus 경로에 저장된 파일의 개수:2880\n",
            "minus 경로에 저장된 파일의 개수:2880\n"
          ],
          "name": "stdout"
        }
      ]
    },
    {
      "cell_type": "code",
      "metadata": {
        "id": "nMQmzc5pLH65",
        "colab_type": "code",
        "colab": {}
      },
      "source": [
        "xsize=200\n",
        "ysize=200"
      ],
      "execution_count": 0,
      "outputs": []
    },
    {
      "cell_type": "code",
      "metadata": {
        "id": "n09d4btxLtti",
        "colab_type": "code",
        "colab": {}
      },
      "source": [
        "x=[]\n",
        "y=[]\n",
        "\n",
        "from keras.preprocessing import image\n",
        "import numpy as np\n",
        "\n",
        "def read_dir(path, label):\n",
        "    \n",
        "    files = glob.glob(path + \"/*.jpg\")\n",
        "    if bool(files) == False:\n",
        "        files = glob.glob(path + \"/*.png\") \n",
        "     \n",
        "    for f in files:\n",
        "\n",
        "        try:\n",
        "            img = image.load_img(f, target_size=(xsize,ysize))\n",
        "            img_tr= image.img_to_array(img)        \n",
        "            img_tr /= 255.\n",
        "            \n",
        "            y.append(label)\n",
        "            x.append(img_tr)\n",
        "        except:\n",
        "            pass"
      ],
      "execution_count": 0,
      "outputs": []
    },
    {
      "cell_type": "code",
      "metadata": {
        "id": "KL-ucbH1L5Wc",
        "colab_type": "code",
        "colab": {}
      },
      "source": [
        "read_dir(path_zero, 0) #'plus emotion')\n",
        "read_dir(path_plus, 1) #'zero emotion')\n",
        "read_dir(path_minus, 2) #'minus emotion')"
      ],
      "execution_count": 0,
      "outputs": []
    },
    {
      "cell_type": "code",
      "metadata": {
        "id": "4gi6jWhsMKbU",
        "colab_type": "code",
        "colab": {}
      },
      "source": [
        "x=np.array(x)\n",
        "y=np.array(y)"
      ],
      "execution_count": 0,
      "outputs": []
    },
    {
      "cell_type": "code",
      "metadata": {
        "id": "XdV3CnMvM21M",
        "colab_type": "code",
        "outputId": "727a058e-e16e-48ba-d634-0b9f093f514b",
        "colab": {
          "base_uri": "https://localhost:8080/",
          "height": 35
        }
      },
      "source": [
        "print(x.shape)"
      ],
      "execution_count": 8,
      "outputs": [
        {
          "output_type": "stream",
          "text": [
            "(8640, 200, 200, 3)\n"
          ],
          "name": "stdout"
        }
      ]
    },
    {
      "cell_type": "code",
      "metadata": {
        "id": "_beqHoaCMQ6J",
        "colab_type": "code",
        "colab": {}
      },
      "source": [
        "from sklearn.model_selection import train_test_split\n",
        "x_train, x_test, y_train, y_test = train_test_split(x, y, test_size=0.1)\n",
        "\n",
        "input_shape = (xsize,ysize, 3)\n",
        "\n",
        "batch_size = 32\n",
        "num_classes = 2\n",
        "epochs = 15"
      ],
      "execution_count": 0,
      "outputs": []
    },
    {
      "cell_type": "code",
      "metadata": {
        "id": "Co6u22N1MpmJ",
        "colab_type": "code",
        "outputId": "075c8c3b-9d96-4c54-c43e-dc03515433b7",
        "colab": {
          "base_uri": "https://localhost:8080/",
          "height": 53
        }
      },
      "source": [
        "print(x_test.shape)\n",
        "print(y_test.shape)"
      ],
      "execution_count": 10,
      "outputs": [
        {
          "output_type": "stream",
          "text": [
            "(864, 200, 200, 3)\n",
            "(864,)\n"
          ],
          "name": "stdout"
        }
      ]
    },
    {
      "cell_type": "code",
      "metadata": {
        "id": "Yau5rgOQOz9s",
        "colab_type": "code",
        "colab": {}
      },
      "source": [
        "y_train = keras.utils.to_categorical(y_train)\n",
        "y_test = keras.utils.to_categorical(y_test)"
      ],
      "execution_count": 0,
      "outputs": []
    },
    {
      "cell_type": "code",
      "metadata": {
        "id": "poHl5czmPBL1",
        "colab_type": "code",
        "outputId": "b28aab06-35a6-414c-8d4b-92a2f8b88129",
        "colab": {
          "base_uri": "https://localhost:8080/",
          "height": 613
        }
      },
      "source": [
        "from keras.models import Sequential, Model\n",
        "from keras.layers import Dense, Conv2D, MaxPooling2D, Flatten\n",
        "\n",
        "model = Sequential()\n",
        "model.add(Conv2D(32, (2, 2), padding='same', \n",
        "                 input_shape=(200, 200, 3), strides=2, activation='relu')) # stride가 이미지 크기와 맞아떨어지지 않을 경우 맞는 부분만 계산(ex> (5, 5) => (2, 2))\n",
        "model.add(Conv2D(128, (2, 2), activation='relu')) # Kernel의 크기는 input의 크기보다 작아야 한다!(같으면 안됨)\n",
        "model.add(MaxPooling2D(2, 2))# MaxPooling은 최댓값이 겹치지 않도록(중요) stride를 알아서 조절해 데이터를 축소한다!(통상적으로 절반 ex> (6, 6) => (3, 3))\n",
        "model.add(Flatten())\n",
        "model.add(Dense(128, activation='relu'))\n",
        "model.add(Dense(3, activation='softmax'))\n",
        "\n",
        "\n",
        "model.compile(loss='categorical_crossentropy',optimizer='Adam',metrics=['accuracy'])\n",
        "\n",
        "model.summary()"
      ],
      "execution_count": 12,
      "outputs": [
        {
          "output_type": "stream",
          "text": [
            "WARNING:tensorflow:From /usr/local/lib/python3.6/dist-packages/keras/backend/tensorflow_backend.py:66: The name tf.get_default_graph is deprecated. Please use tf.compat.v1.get_default_graph instead.\n",
            "\n",
            "WARNING:tensorflow:From /usr/local/lib/python3.6/dist-packages/keras/backend/tensorflow_backend.py:541: The name tf.placeholder is deprecated. Please use tf.compat.v1.placeholder instead.\n",
            "\n",
            "WARNING:tensorflow:From /usr/local/lib/python3.6/dist-packages/keras/backend/tensorflow_backend.py:4432: The name tf.random_uniform is deprecated. Please use tf.random.uniform instead.\n",
            "\n",
            "WARNING:tensorflow:From /usr/local/lib/python3.6/dist-packages/keras/backend/tensorflow_backend.py:4267: The name tf.nn.max_pool is deprecated. Please use tf.nn.max_pool2d instead.\n",
            "\n",
            "WARNING:tensorflow:From /usr/local/lib/python3.6/dist-packages/keras/optimizers.py:793: The name tf.train.Optimizer is deprecated. Please use tf.compat.v1.train.Optimizer instead.\n",
            "\n",
            "WARNING:tensorflow:From /usr/local/lib/python3.6/dist-packages/keras/backend/tensorflow_backend.py:3576: The name tf.log is deprecated. Please use tf.math.log instead.\n",
            "\n",
            "Model: \"sequential_1\"\n",
            "_________________________________________________________________\n",
            "Layer (type)                 Output Shape              Param #   \n",
            "=================================================================\n",
            "conv2d_1 (Conv2D)            (None, 100, 100, 32)      416       \n",
            "_________________________________________________________________\n",
            "conv2d_2 (Conv2D)            (None, 99, 99, 128)       16512     \n",
            "_________________________________________________________________\n",
            "max_pooling2d_1 (MaxPooling2 (None, 49, 49, 128)       0         \n",
            "_________________________________________________________________\n",
            "flatten_1 (Flatten)          (None, 307328)            0         \n",
            "_________________________________________________________________\n",
            "dense_1 (Dense)              (None, 128)               39338112  \n",
            "_________________________________________________________________\n",
            "dense_2 (Dense)              (None, 3)                 387       \n",
            "=================================================================\n",
            "Total params: 39,355,427\n",
            "Trainable params: 39,355,427\n",
            "Non-trainable params: 0\n",
            "_________________________________________________________________\n"
          ],
          "name": "stdout"
        }
      ]
    },
    {
      "cell_type": "code",
      "metadata": {
        "id": "uJTed-KsPQ2r",
        "colab_type": "code",
        "outputId": "86121350-c920-4a08-924e-8e4577ec58be",
        "colab": {
          "base_uri": "https://localhost:8080/",
          "height": 793
        }
      },
      "source": [
        "model.fit(x_train, y_train, validation_split=0.2, \n",
        "          epochs=10, batch_size=10, verbose=1)\n",
        "\n",
        "acc = model.evaluate(x_test, y_test)\n",
        "print(acc)"
      ],
      "execution_count": 13,
      "outputs": [
        {
          "output_type": "stream",
          "text": [
            "WARNING:tensorflow:From /tensorflow-1.15.0/python3.6/tensorflow_core/python/ops/math_grad.py:1424: where (from tensorflow.python.ops.array_ops) is deprecated and will be removed in a future version.\n",
            "Instructions for updating:\n",
            "Use tf.where in 2.0, which has the same broadcast rule as np.where\n",
            "WARNING:tensorflow:From /usr/local/lib/python3.6/dist-packages/keras/backend/tensorflow_backend.py:1033: The name tf.assign_add is deprecated. Please use tf.compat.v1.assign_add instead.\n",
            "\n",
            "WARNING:tensorflow:From /usr/local/lib/python3.6/dist-packages/keras/backend/tensorflow_backend.py:1020: The name tf.assign is deprecated. Please use tf.compat.v1.assign instead.\n",
            "\n",
            "WARNING:tensorflow:From /usr/local/lib/python3.6/dist-packages/keras/backend/tensorflow_backend.py:3005: The name tf.Session is deprecated. Please use tf.compat.v1.Session instead.\n",
            "\n",
            "Train on 6220 samples, validate on 1556 samples\n",
            "Epoch 1/10\n",
            "WARNING:tensorflow:From /usr/local/lib/python3.6/dist-packages/keras/backend/tensorflow_backend.py:190: The name tf.get_default_session is deprecated. Please use tf.compat.v1.get_default_session instead.\n",
            "\n",
            "WARNING:tensorflow:From /usr/local/lib/python3.6/dist-packages/keras/backend/tensorflow_backend.py:197: The name tf.ConfigProto is deprecated. Please use tf.compat.v1.ConfigProto instead.\n",
            "\n",
            "WARNING:tensorflow:From /usr/local/lib/python3.6/dist-packages/keras/backend/tensorflow_backend.py:207: The name tf.global_variables is deprecated. Please use tf.compat.v1.global_variables instead.\n",
            "\n",
            "WARNING:tensorflow:From /usr/local/lib/python3.6/dist-packages/keras/backend/tensorflow_backend.py:216: The name tf.is_variable_initialized is deprecated. Please use tf.compat.v1.is_variable_initialized instead.\n",
            "\n",
            "WARNING:tensorflow:From /usr/local/lib/python3.6/dist-packages/keras/backend/tensorflow_backend.py:223: The name tf.variables_initializer is deprecated. Please use tf.compat.v1.variables_initializer instead.\n",
            "\n",
            "6220/6220 [==============================] - 56s 9ms/step - loss: 0.7327 - acc: 0.6957 - val_loss: 0.2410 - val_acc: 0.9113\n",
            "Epoch 2/10\n",
            "6220/6220 [==============================] - 41s 7ms/step - loss: 0.1331 - acc: 0.9550 - val_loss: 0.1904 - val_acc: 0.9325\n",
            "Epoch 3/10\n",
            "6220/6220 [==============================] - 41s 7ms/step - loss: 0.0582 - acc: 0.9834 - val_loss: 0.1381 - val_acc: 0.9537\n",
            "Epoch 4/10\n",
            "6220/6220 [==============================] - 41s 7ms/step - loss: 0.0265 - acc: 0.9926 - val_loss: 0.1398 - val_acc: 0.9544\n",
            "Epoch 5/10\n",
            "6220/6220 [==============================] - 41s 7ms/step - loss: 0.0161 - acc: 0.9953 - val_loss: 0.2522 - val_acc: 0.9299\n",
            "Epoch 6/10\n",
            "6220/6220 [==============================] - 41s 7ms/step - loss: 0.0314 - acc: 0.9921 - val_loss: 0.1446 - val_acc: 0.9524\n",
            "Epoch 7/10\n",
            "6220/6220 [==============================] - 41s 7ms/step - loss: 0.0052 - acc: 0.9984 - val_loss: 0.1944 - val_acc: 0.9467\n",
            "Epoch 8/10\n",
            "6220/6220 [==============================] - 42s 7ms/step - loss: 0.0406 - acc: 0.9889 - val_loss: 0.1733 - val_acc: 0.9550\n",
            "Epoch 9/10\n",
            "6220/6220 [==============================] - 41s 7ms/step - loss: 0.0146 - acc: 0.9950 - val_loss: 0.2146 - val_acc: 0.9518\n",
            "Epoch 10/10\n",
            "6220/6220 [==============================] - 41s 7ms/step - loss: 0.0114 - acc: 0.9960 - val_loss: 0.1636 - val_acc: 0.9595\n",
            "864/864 [==============================] - 1s 760us/step\n",
            "[0.18448219094770374, 0.9490740740740741]\n"
          ],
          "name": "stdout"
        }
      ]
    },
    {
      "cell_type": "code",
      "metadata": {
        "id": "nVddSc6nQeND",
        "colab_type": "code",
        "colab": {}
      },
      "source": [
        "test_path = \"/content/drive/My Drive/Colab Notebooks/test_set\" # 기쁨만 모인 test set\n",
        "test_path2 = \"/content/drive/My Drive/Colab Notebooks/test_set2\" # 무표정만 모인 test set \n",
        "\n",
        "X=[]\n",
        "\n",
        "def read_dir1(path):\n",
        "    \n",
        "    files = glob.glob(path + \"/*.jpg\")\n",
        "    if bool(files) == False:\n",
        "        files = glob.glob(path + \"/*.png\") \n",
        "     \n",
        "    for f in files:\n",
        "\n",
        "        try:\n",
        "            img = image.load_img(f, target_size=(xsize,ysize))\n",
        "            img_tr= image.img_to_array(img)        \n",
        "            img_tr /= 255.\n",
        "            X.append(img_tr)\n",
        "        except:\n",
        "          pass"
      ],
      "execution_count": 0,
      "outputs": []
    },
    {
      "cell_type": "code",
      "metadata": {
        "id": "-uzScQd3be-h",
        "colab_type": "code",
        "colab": {
          "base_uri": "https://localhost:8080/",
          "height": 1000
        },
        "outputId": "9ae320d9-f05f-4c17-b8c4-491918f53210"
      },
      "source": [
        "# test set 기쁨\n",
        "read_dir1(test_path)\n",
        "X = np.array(X)\n",
        "pred = model.predict(X)"
      ],
      "execution_count": 22,
      "outputs": [
        {
          "output_type": "stream",
          "text": [
            "2\n",
            "1\n",
            "1\n",
            "1\n",
            "1\n",
            "1\n",
            "1\n",
            "1\n",
            "1\n",
            "1\n",
            "1\n",
            "1\n",
            "1\n",
            "1\n",
            "1\n",
            "1\n",
            "1\n",
            "0\n",
            "1\n",
            "1\n",
            "1\n",
            "1\n",
            "1\n",
            "1\n",
            "1\n",
            "1\n",
            "1\n",
            "1\n",
            "1\n",
            "1\n",
            "1\n",
            "1\n",
            "1\n",
            "1\n",
            "1\n",
            "1\n",
            "1\n",
            "1\n",
            "1\n",
            "1\n",
            "1\n",
            "1\n",
            "1\n",
            "2\n",
            "1\n",
            "2\n",
            "1\n",
            "1\n",
            "1\n",
            "1\n",
            "1\n",
            "1\n",
            "1\n",
            "1\n",
            "1\n",
            "1\n",
            "1\n",
            "1\n",
            "1\n",
            "1\n",
            "1\n",
            "1\n",
            "1\n",
            "1\n",
            "1\n",
            "1\n",
            "1\n",
            "2\n",
            "1\n",
            "1\n",
            "1\n",
            "1\n",
            "1\n",
            "1\n",
            "1\n",
            "1\n",
            "1\n",
            "0\n",
            "1\n",
            "2\n",
            "0\n",
            "1\n",
            "0\n",
            "1\n",
            "1\n",
            "1\n",
            "1\n",
            "1\n",
            "1\n",
            "1\n",
            "1\n",
            "1\n",
            "1\n",
            "1\n",
            "1\n",
            "1\n",
            "1\n",
            "1\n",
            "2\n",
            "1\n"
          ],
          "name": "stdout"
        }
      ]
    },
    {
      "cell_type": "code",
      "metadata": {
        "id": "L7whqfq-fHpt",
        "colab_type": "code",
        "colab": {}
      },
      "source": [
        "# test set(무표정)\n",
        "read_dir1(test_path2)\n",
        "X = np.array(X)\n",
        "pred = model.predict(X)"
      ],
      "execution_count": 0,
      "outputs": []
    },
    {
      "cell_type": "code",
      "metadata": {
        "id": "bAPwPmZPcJoU",
        "colab_type": "code",
        "colab": {
          "base_uri": "https://localhost:8080/",
          "height": 53
        },
        "outputId": "74a70d9b-8466-47a1-c450-6fbebcb136a1"
      },
      "source": [
        "# 예측(test set 기쁨)\n",
        "co=0\n",
        "for i in range(100):\n",
        "  print(np.argmax(pred[i]),end='')\n",
        "  tmp=np.argmax(pred[i])\n",
        "\n",
        "  if tmp == 1:\n",
        "    co+=1\n",
        "\n",
        "print('\\n',co/100.)\n"
      ],
      "execution_count": 27,
      "outputs": [
        {
          "output_type": "stream",
          "text": [
            "2111111111111111101111111111111111111111111212111111111111111111111211111111101201011111111111111121\n",
            " 0.9\n"
          ],
          "name": "stdout"
        }
      ]
    },
    {
      "cell_type": "code",
      "metadata": {
        "id": "Y2jnzovrdp9d",
        "colab_type": "code",
        "colab": {
          "base_uri": "https://localhost:8080/",
          "height": 53
        },
        "outputId": "5c3de284-7ee3-4e33-f227-84bf7361b53a"
      },
      "source": [
        "# 예측(test set 무표정)\n",
        "co=0\n",
        "for i in range(100):\n",
        "  print(np.argmax(pred[i]),end='')\n",
        "  tmp=np.argmax(pred[i])\n",
        "\n",
        "  if tmp == 0:\n",
        "    co+=1\n",
        "\n",
        "print('\\n',co/100.)"
      ],
      "execution_count": 30,
      "outputs": [
        {
          "output_type": "stream",
          "text": [
            "1101110112110111110111201121111111111111011200011111122100100111021001101111011011210122112111121111\n",
            " 0.2\n"
          ],
          "name": "stdout"
        }
      ]
    },
    {
      "cell_type": "code",
      "metadata": {
        "id": "pqsfX7LKhqyj",
        "colab_type": "code",
        "colab": {}
      },
      "source": [
        ""
      ],
      "execution_count": 0,
      "outputs": []
    }
  ]
}