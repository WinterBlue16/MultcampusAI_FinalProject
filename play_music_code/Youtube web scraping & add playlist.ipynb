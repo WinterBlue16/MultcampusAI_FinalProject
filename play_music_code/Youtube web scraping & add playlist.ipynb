{
 "cells": [
  {
   "cell_type": "markdown",
   "metadata": {},
   "source": [
    "# Youtube Playlist 갱신을 위한 곡 insert 코드\n",
    "> 다음 코드는 음악 추천 알고리즘에 따라 추출된 곡 제목을 Youtube에서 검색하여, 해당 영상을 playlist에 추가하기 위한 것이다. 과정은 다음과 같다. \n",
    "\n",
    "1. 음악 추천 알고리즘에서 output으로 나온 추천곡 id를 데이터셋에서 검색하여 제목을 찾아낸다.\n",
    "2. 찾아낸 제목으로 youtube 검색, 추가할 곡 video의 id를 찾는다.\n",
    "3. video id를 youtube api를 활용해 playlist에 추가한다. \n",
    "4. (1-3까지의 코드가 오류 없이 실행되면)웹페이지에서 playlist가 전체 반복될 때마다 새로운 곡이 추가되도록 한다. \n",
    "\n",
    " - 참고 : https://developers.google.com/youtube/v3/docs/playlists/insert , https://stackoverflow.com/questions/21228815/adding-youtube-video-to-playlist-using-python            "
   ]
  },
  {
   "cell_type": "markdown",
   "metadata": {},
   "source": [
    "# 1. Selenium으로 Youtube 검색기 만들기\n",
    "> Selenium을 활용해 youtube 홈페이지에서 원하는 곡을 검색하고, 해당 곡 영상의 video ID를 얻어낸다.\n",
    "<br>\n",
    "<br>\n",
    "<br>\n",
    "## 0. 라이브러리 불러오기\n",
    "- 중요 라이브러리\n",
    "    - selenium\n",
    "    - BeautifulSoup"
   ]
  },
  {
   "cell_type": "code",
   "execution_count": 70,
   "metadata": {},
   "outputs": [],
   "source": [
    "from selenium import webdriver\n",
    "import time\n",
    "from selenium.webdriver.common.keys import Keys\n",
    "from bs4 import BeautifulSoup"
   ]
  },
  {
   "cell_type": "markdown",
   "metadata": {},
   "source": [
    "## 1. Youtube 크롤링\n",
    "> 서버에서 막혀 실패"
   ]
  },
  {
   "cell_type": "code",
   "execution_count": 66,
   "metadata": {},
   "outputs": [],
   "source": [
    "from seleniumwire import webdriver\n",
    "import time\n",
    "from selenium.webdriver.common.keys import Keys\n",
    "\n",
    "driver = webdriver.Chrome('C:/Users/user/Desktop/(driver) chromedriver.exe')\n",
    "driver.header_overrides = {\n",
    "    'User-Agent':'Mozilla/5.0 (Windows NT 6.3; Win64; x64) AppleWebKit/537.36 (KHTML, like Gecko) Chrome/63.0.3239.132 Safari/537.36'\n",
    "}\n",
    "driver.get('https://www.google.com/')\n",
    "\n",
    "time.sleep(6)\n",
    "driver.close()"
   ]
  },
  {
   "cell_type": "markdown",
   "metadata": {},
   "source": [
    "## 2. Google 크롤링\n",
    "> 제대로 크롤링이 될까 걱정했으나 생각보다 오랜 시간이 걸리지 않았고, 비교적 간단했다. 연속적인 크롤링으로 서버를 차단당하는 일이 없도록 주의한다. time.sleep()을 빼먹지 않도록!"
   ]
  },
  {
   "cell_type": "code",
   "execution_count": 121,
   "metadata": {
    "scrolled": true
   },
   "outputs": [
    {
     "name": "stdout",
     "output_type": "stream",
     "text": [
      "https://www.youtube.com/watch?v=qGh0jk-f6to\n",
      "31\n",
      "['q', 'G', 'h', '0', 'j', 'k', '-', 'f', '6', 't', 'o']\n",
      "qGh0jk-f6to\n"
     ]
    }
   ],
   "source": [
    "# 구글 크롤링(완료) \n",
    "\n",
    "from selenium import webdriver\n",
    "import time\n",
    "from selenium.webdriver.common.keys import Keys\n",
    "\n",
    "artist_name = \"오반\"\n",
    "song_name = \"행복\"\n",
    "\n",
    "driver = webdriver.Chrome('C:/Users/user/Desktop/(driver) chromedriver.exe')\n",
    "driver.get('https://www.google.com')\n",
    "\n",
    "time.sleep(5)\n",
    "\n",
    "# assert 'Youtube' in driver.title\n",
    "#//*[@id=\"query\"]\n",
    "\n",
    "search = driver.find_element_by_xpath(\"//*[@id='tsf']/div[2]/div[1]/div[1]/div/div[2]/input\")\n",
    "\n",
    "search.send_keys(artist_name+' '+song_name)\n",
    "search.send_keys(Keys.ENTER)\n",
    "\n",
    "time.sleep(10)\n",
    "\n",
    "# beautifulsoup \n",
    "html = driver.page_source\n",
    "soup = BeautifulSoup(html, 'html.parser')\n",
    "\n",
    "time.sleep(5)\n",
    "\n",
    "for href in soup.find('div', {'class' : 'FGpTBd'}).find_all('a'):\n",
    "    url = href.get('href')\n",
    "    print(url)\n",
    "    \n",
    "    li = list(url)\n",
    "    print(li.index('=')) #idx=31\n",
    "    song_id = li[32:]\n",
    "    print(song_id)\n",
    "    song_id = ''.join(song_id) # list를 문자열로 변경\n",
    "    print(song_id)\n",
    "    \n",
    "driver.close()"
   ]
  },
  {
   "cell_type": "markdown",
   "metadata": {},
   "source": [
    "## 3. 네이버 크롤링\n",
    "> 처음에는 구글 대신 사용하려고 하였으나 이하의 단점으로 선택하지 않았다.\n",
    "    1. 검색 시 동영상 탭, 검색 조건 탭, 영상 소스 탭 등 선택해야 하는 요소가 많다.\n",
    "    2. Youtube에 있는 모든 동영상 중 일부만 검색된다. 개중에는 노래와 상관없는 영상도 많다."
   ]
  },
  {
   "cell_type": "code",
   "execution_count": 87,
   "metadata": {},
   "outputs": [
    {
     "name": "stdout",
     "output_type": "stream",
     "text": [
      "https://www.youtube.com/watch?v=gn4m-HLgQOo\n",
      "https://www.youtube.com/watch?v=5JsHAWuCdTM\n",
      "https://tv.naver.com/v/987136\n",
      "https://www.youtube.com/watch?v=c0zJrHvW8K0\n",
      "https://www.youtube.com/watch?v=iu9cjTE6m7I\n",
      "https://www.youtube.com/watch?v=zZOojGpt-DA\n",
      "https://www.youtube.com/watch?v=R-H3tcywlOA\n",
      "https://www.youtube.com/watch?v=RnWaNg_Kxek\n",
      "https://www.youtube.com/watch?v=mNZvtYajjuE\n",
      "https://www.youtube.com/watch?v=sYBW6Cx2DEM\n",
      "https://www.youtube.com/watch?v=Lboznwv_Fhg\n",
      "https://www.youtube.com/watch?v=0A-VMJasTSw\n",
      "https://tv.naver.com/v/20873\n",
      "https://www.youtube.com/watch?v=V5S2Vbsq5vs\n",
      "https://tv.naver.com/v/1029444\n",
      "https://tv.naver.com/v/764190\n"
     ]
    }
   ],
   "source": [
    "# 네이버 크롤링 \n",
    "\n",
    "q = \"버즈+가시\"\n",
    "\n",
    "\n",
    "driver = webdriver.Chrome('C:/Users/user/Desktop/(driver) chromedriver.exe')\n",
    "driver.get('https://www.naver.com/')\n",
    "\n",
    "time.sleep(5)\n",
    "\n",
    "# assert 'Youtube' in driver.title\n",
    "#//*[@id=\"tsf\"]/div[2]/div[1]/div[1]/div/div[2]/input\n",
    "\n",
    "search = driver.find_element_by_xpath(\"//*[@id='query']\")\n",
    "\n",
    "search.send_keys(q)\n",
    "search.send_keys(Keys.ENTER)\n",
    "\n",
    "time.sleep(5)\n",
    "# //*[@id=\"lnb\"]/div/div[1]/ul/li[2]/a\n",
    "\n",
    "video = driver.find_element_by_xpath(\"//*[@id='lnb']/div/div[1]/ul/li[6]/a\")\n",
    "video.click()\n",
    "\n",
    "search_options = driver.find_element_by_xpath(\"//*[@id='_search_option_btn']\")\n",
    "search_options.click()\n",
    "\n",
    "select = driver.find_element_by_xpath('//*[@id=\"snb\"]/div/ul/li[1]/a')\n",
    "select.click()\n",
    "\n",
    "watch_views = driver.find_element_by_xpath('//*[@id=\"snb\"]/div/ul/li[1]/div/ul/li[3]/a')\n",
    "watch_views.click()\n",
    "\n",
    "# beautifulsoup \n",
    "html = driver.page_source\n",
    "soup = BeautifulSoup(html, 'html.parser')\n",
    "\n",
    "time.sleep(5)\n",
    "\n",
    "for link in soup.find_all('a', {'class' : 'title'}):\n",
    "    song_id = link.attrs['href']\n",
    "    print(song_id)\n",
    "    \n",
    "\n",
    "driver.close()"
   ]
  },
  {
   "cell_type": "code",
   "execution_count": 43,
   "metadata": {},
   "outputs": [
    {
     "data": {
      "text/plain": [
       "'3.14.1'"
      ]
     },
     "execution_count": 43,
     "metadata": {},
     "output_type": "execute_result"
    }
   ],
   "source": [
    "webdriver.__version__"
   ]
  },
  {
   "cell_type": "markdown",
   "metadata": {},
   "source": [
    "# 2. Youtube API로 playlist에 곡 추가하기"
   ]
  },
  {
   "cell_type": "code",
   "execution_count": 25,
   "metadata": {},
   "outputs": [],
   "source": [
    "# 라이브러리 불러오기\n",
    "\n",
    "import httplib2\n",
    "import os\n",
    "import sys\n",
    "\n",
    "from googleapiclient import discovery\n",
    "from googleapiclient import errors\n",
    "from oauth2client.client import flow_from_clientsecrets\n",
    "from oauth2client.file import Storage\n",
    "from oauth2client import tools"
   ]
  },
  {
   "cell_type": "code",
   "execution_count": null,
   "metadata": {},
   "outputs": [],
   "source": []
  }
 ],
 "metadata": {
  "kernelspec": {
   "display_name": "Python 3",
   "language": "python",
   "name": "python3"
  },
  "language_info": {
   "codemirror_mode": {
    "name": "ipython",
    "version": 3
   },
   "file_extension": ".py",
   "mimetype": "text/x-python",
   "name": "python",
   "nbconvert_exporter": "python",
   "pygments_lexer": "ipython3",
   "version": "3.7.3"
  }
 },
 "nbformat": 4,
 "nbformat_minor": 2
}
