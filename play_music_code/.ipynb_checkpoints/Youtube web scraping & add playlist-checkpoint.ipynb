{
 "cells": [
  {
   "cell_type": "markdown",
   "metadata": {},
   "source": [
    "# Youtube Playlist 갱신을 위한 곡 insert 코드\n",
    "> 다음 코드는 음악 추천 알고리즘에 따라 추출된 곡 제목을 Youtube에서 검색하여, 해당 영상을 playlist에 추가하기 위한 것이다. 과정은 다음과 같다. \n",
    "\n",
    "1. 음악 추천 알고리즘에서 output으로 나온 추천곡 id를 데이터셋에서 검색하여 제목을 찾아낸다.\n",
    "2. 찾아낸 제목으로 youtube 검색, 추가할 곡 video의 id를 찾는다.\n",
    "3. video id를 youtube api를 활용해 playlist에 추가한다. \n",
    "4. (1-3까지의 코드가 오류 없이 실행되면)웹페이지에서 playlist가 전체 반복될 때마다 새로운 곡이 추가되도록 한다. \n",
    "\n",
    " - 참고 : https://developers.google.com/youtube/v3/docs/playlists/insert , https://stackoverflow.com/questions/21228815/adding-youtube-video-to-playlist-using-python            "
   ]
  },
  {
   "cell_type": "markdown",
   "metadata": {},
   "source": [
    "# 1. Selenium으로 Youtube 검색기 만들기\n",
    "> Selenium을 활용해 youtube 홈페이지에서 원하는 곡을 검색하고, 해당 곡 영상의 video ID를 얻어낸다.\n",
    "<br>\n",
    "<br>\n",
    "<br>\n",
    "## 0. 라이브러리 불러오기\n",
    "- 중요 라이브러리\n",
    "    - selenium\n",
    "    - BeautifulSoup"
   ]
  },
  {
   "cell_type": "code",
   "execution_count": 1,
   "metadata": {},
   "outputs": [],
   "source": [
    "from selenium import webdriver\n",
    "import time\n",
    "from selenium.webdriver.common.keys import Keys\n",
    "from bs4 import BeautifulSoup"
   ]
  },
  {
   "cell_type": "markdown",
   "metadata": {},
   "source": [
    "## 1. Youtube 크롤링\n",
    "> 서버에서 막혀 실패"
   ]
  },
  {
   "cell_type": "code",
   "execution_count": 66,
   "metadata": {},
   "outputs": [],
   "source": [
    "from seleniumwire import webdriver\n",
    "import time\n",
    "from selenium.webdriver.common.keys import Keys\n",
    "\n",
    "driver = webdriver.Chrome('C:/Users/user/Desktop/(driver) chromedriver.exe')\n",
    "driver.header_overrides = {\n",
    "    'User-Agent':'Mozilla/5.0 (Windows NT 6.3; Win64; x64) AppleWebKit/537.36 (KHTML, like Gecko) Chrome/63.0.3239.132 Safari/537.36'\n",
    "}\n",
    "driver.get('https://www.google.com/')\n",
    "\n",
    "time.sleep(6)\n",
    "driver.close()"
   ]
  },
  {
   "cell_type": "markdown",
   "metadata": {},
   "source": [
    "## 2. Google 크롤링\n",
    "> 제대로 크롤링이 될까 걱정했으나 생각보다 오랜 시간이 걸리지 않았고, 비교적 간단했다. 연속적인 크롤링으로 서버를 차단당하는 일이 없도록 주의한다. time.sleep()을 빼먹지 않도록!"
   ]
  },
  {
   "cell_type": "code",
   "execution_count": 10,
   "metadata": {
    "scrolled": true
   },
   "outputs": [
    {
     "name": "stdout",
     "output_type": "stream",
     "text": [
      "https://www.youtube.com/watch?v=3xdfBwFb2DU\n",
      "31\n",
      "['3', 'x', 'd', 'f', 'B', 'w', 'F', 'b', '2', 'D', 'U']\n",
      "3xdfBwFb2DU\n"
     ]
    }
   ],
   "source": [
    "# 구글 크롤링(완료) \n",
    "# 성인 인증이 필요한 곡들, 대표 동영상이 나오지 않는 곡\n",
    "\n",
    "from selenium import webdriver\n",
    "import time\n",
    "from selenium.webdriver.common.keys import Keys\n",
    "\n",
    "artist_name = \"허각\"\n",
    "song_name = \"Hello\"\n",
    "\n",
    "driver = webdriver.Chrome(\"C:/Users/user/Desktop/MultcampusAI_FinalProject/play_music_code/(driver) chromedriver.exe\")\n",
    "driver.get('https://www.google.com')\n",
    "\n",
    "time.sleep(5)\n",
    "\n",
    "# assert 'Youtube' in driver.title\n",
    "#//*[@id=\"query\"]\n",
    "\n",
    "search = driver.find_element_by_xpath(\"//*[@id='tsf']/div[2]/div[1]/div[1]/div/div[2]/input\")\n",
    "\n",
    "search.send_keys(artist_name+' '+song_name)\n",
    "search.send_keys(Keys.ENTER)\n",
    "\n",
    "time.sleep(10)\n",
    "\n",
    "# beautifulsoup \n",
    "html = driver.page_source\n",
    "soup = BeautifulSoup(html, 'html.parser')\n",
    "\n",
    "time.sleep(5)\n",
    "\n",
    "for href in soup.find('div', {'class' : 'FGpTBd'}).find_all('a'):\n",
    "    url = href.get('href')\n",
    "    print(url)\n",
    "    \n",
    "    li = list(url)\n",
    "    print(li.index('=')) #idx=31\n",
    "    song_id = li[32:]\n",
    "    print(song_id)\n",
    "    song_id = ''.join(song_id) # list를 문자열로 변경\n",
    "    print(song_id)\n",
    "    \n",
    "driver.close()"
   ]
  },
  {
   "cell_type": "markdown",
   "metadata": {},
   "source": [
    "## 3. 네이버 크롤링\n",
    "> 처음에는 구글 대신 사용하려고 하였으나 이하의 단점으로 선택하지 않았다.\n",
    "    1. 검색 시 동영상 탭, 검색 조건 탭, 영상 소스 탭 등 선택해야 하는 요소가 많다.\n",
    "    2. Youtube에 있는 모든 동영상 중 일부만 검색된다. 개중에는 노래와 상관없는 영상도 많다."
   ]
  },
  {
   "cell_type": "code",
   "execution_count": 87,
   "metadata": {},
   "outputs": [
    {
     "name": "stdout",
     "output_type": "stream",
     "text": [
      "https://www.youtube.com/watch?v=gn4m-HLgQOo\n",
      "https://www.youtube.com/watch?v=5JsHAWuCdTM\n",
      "https://tv.naver.com/v/987136\n",
      "https://www.youtube.com/watch?v=c0zJrHvW8K0\n",
      "https://www.youtube.com/watch?v=iu9cjTE6m7I\n",
      "https://www.youtube.com/watch?v=zZOojGpt-DA\n",
      "https://www.youtube.com/watch?v=R-H3tcywlOA\n",
      "https://www.youtube.com/watch?v=RnWaNg_Kxek\n",
      "https://www.youtube.com/watch?v=mNZvtYajjuE\n",
      "https://www.youtube.com/watch?v=sYBW6Cx2DEM\n",
      "https://www.youtube.com/watch?v=Lboznwv_Fhg\n",
      "https://www.youtube.com/watch?v=0A-VMJasTSw\n",
      "https://tv.naver.com/v/20873\n",
      "https://www.youtube.com/watch?v=V5S2Vbsq5vs\n",
      "https://tv.naver.com/v/1029444\n",
      "https://tv.naver.com/v/764190\n"
     ]
    }
   ],
   "source": [
    "# 네이버 크롤링 \n",
    "\n",
    "q = \"버즈+가시\"\n",
    "\n",
    "\n",
    "driver = webdriver.Chrome('C:/Users/user/Desktop/(driver) chromedriver.exe')\n",
    "driver.get('https://www.naver.com/')\n",
    "\n",
    "time.sleep(5)\n",
    "\n",
    "# assert 'Youtube' in driver.title\n",
    "#//*[@id=\"tsf\"]/div[2]/div[1]/div[1]/div/div[2]/input\n",
    "\n",
    "search = driver.find_element_by_xpath(\"//*[@id='query']\")\n",
    "\n",
    "search.send_keys(q)\n",
    "search.send_keys(Keys.ENTER)\n",
    "\n",
    "time.sleep(5)\n",
    "# //*[@id=\"lnb\"]/div/div[1]/ul/li[2]/a\n",
    "\n",
    "video = driver.find_element_by_xpath(\"//*[@id='lnb']/div/div[1]/ul/li[6]/a\")\n",
    "video.click()\n",
    "\n",
    "search_options = driver.find_element_by_xpath(\"//*[@id='_search_option_btn']\")\n",
    "search_options.click()\n",
    "\n",
    "select = driver.find_element_by_xpath('//*[@id=\"snb\"]/div/ul/li[1]/a')\n",
    "select.click()\n",
    "\n",
    "watch_views = driver.find_element_by_xpath('//*[@id=\"snb\"]/div/ul/li[1]/div/ul/li[3]/a')\n",
    "watch_views.click()\n",
    "\n",
    "# beautifulsoup \n",
    "html = driver.page_source\n",
    "soup = BeautifulSoup(html, 'html.parser')\n",
    "\n",
    "time.sleep(5)\n",
    "\n",
    "for link in soup.find_all('a', {'class' : 'title'}):\n",
    "    song_id = link.attrs['href']\n",
    "    print(song_id)\n",
    "    \n",
    "\n",
    "driver.close()"
   ]
  },
  {
   "cell_type": "code",
   "execution_count": 43,
   "metadata": {},
   "outputs": [
    {
     "data": {
      "text/plain": [
       "'3.14.1'"
      ]
     },
     "execution_count": 43,
     "metadata": {},
     "output_type": "execute_result"
    }
   ],
   "source": [
    "webdriver.__version__"
   ]
  },
  {
   "cell_type": "markdown",
   "metadata": {},
   "source": [
    "# 2. Youtube API로 playlist에 곡 추가하기"
   ]
  },
  {
   "cell_type": "code",
   "execution_count": 1,
   "metadata": {},
   "outputs": [],
   "source": [
    "# 라이브러리 불러오기\n",
    "\n",
    "import httplib2\n",
    "import os\n",
    "import sys\n",
    "\n",
    "from googleapiclient import discovery\n",
    "from googleapiclient import errors\n",
    "from oauth2client.client import flow_from_clientsecrets\n",
    "from oauth2client.file import Storage\n",
    "from oauth2client import tools"
   ]
  },
  {
   "cell_type": "code",
   "execution_count": 4,
   "metadata": {},
   "outputs": [
    {
     "name": "stdout",
     "output_type": "stream",
     "text": [
      "Please visit this URL to authorize this application: https://accounts.google.com/o/oauth2/auth?response_type=code&client_id=464132347803-m45iu8qagtuc4gluj4os9t1il0vfhb7b.apps.googleusercontent.com&redirect_uri=urn%3Aietf%3Awg%3Aoauth%3A2.0%3Aoob&scope=https%3A%2F%2Fwww.googleapis.com%2Fauth%2Fyoutube.force-ssl&state=fQI9kon8HJSAryDTm3VCW9mQLUtRl1&prompt=consent&access_type=offline\n",
      "Enter the authorization code: 4/0AH4ahHeoyucGrxnNOtAfSAhEYBm55kTkfoKziuVarD_Sexica5Nb6s\n"
     ]
    },
    {
     "ename": "TypeError",
     "evalue": "Missing required parameter \"part\"",
     "output_type": "error",
     "traceback": [
      "\u001b[1;31m---------------------------------------------------------------------------\u001b[0m",
      "\u001b[1;31mTypeError\u001b[0m                                 Traceback (most recent call last)",
      "\u001b[1;32m<ipython-input-4-fe020e3aa41c>\u001b[0m in \u001b[0;36m<module>\u001b[1;34m\u001b[0m\n\u001b[0;32m    109\u001b[0m         \u001b[1;34m'snippet.resourceId.kind'\u001b[0m\u001b[1;33m:\u001b[0m \u001b[1;34m'youtube#video'\u001b[0m\u001b[1;33m,\u001b[0m\u001b[1;33m\u001b[0m\u001b[1;33m\u001b[0m\u001b[0m\n\u001b[0;32m    110\u001b[0m         \u001b[1;34m'snippet.resourceId.videoId'\u001b[0m\u001b[1;33m:\u001b[0m \u001b[1;34m'3xdfBwFb2DU'\u001b[0m\u001b[1;33m,\u001b[0m\u001b[1;33m\u001b[0m\u001b[1;33m\u001b[0m\u001b[0m\n\u001b[1;32m--> 111\u001b[1;33m         'snippet.position': ''}) \n\u001b[0m\u001b[0;32m    112\u001b[0m \u001b[1;31m#         part='snippet')\u001b[0m\u001b[1;33m\u001b[0m\u001b[1;33m\u001b[0m\u001b[1;33m\u001b[0m\u001b[0m\n\u001b[0;32m    113\u001b[0m \u001b[1;31m#         onBehalfOfContentOwner='')\u001b[0m\u001b[1;33m\u001b[0m\u001b[1;33m\u001b[0m\u001b[1;33m\u001b[0m\u001b[0m\n",
      "\u001b[1;32m<ipython-input-4-fe020e3aa41c>\u001b[0m in \u001b[0;36mplaylist_items_insert\u001b[1;34m(client, properties, **kwargs)\u001b[0m\n\u001b[0;32m     92\u001b[0m     \u001b[0mkwargs\u001b[0m \u001b[1;33m=\u001b[0m \u001b[0mremove_empty_kwargs\u001b[0m\u001b[1;33m(\u001b[0m\u001b[1;33m**\u001b[0m\u001b[0mkwargs\u001b[0m\u001b[1;33m)\u001b[0m\u001b[1;33m\u001b[0m\u001b[1;33m\u001b[0m\u001b[0m\n\u001b[0;32m     93\u001b[0m     response = client.playlistItems().insert( \n\u001b[1;32m---> 94\u001b[1;33m         body=resource,**kwargs).execute() \n\u001b[0m\u001b[0;32m     95\u001b[0m \u001b[1;33m\u001b[0m\u001b[0m\n\u001b[0;32m     96\u001b[0m     \u001b[1;32mreturn\u001b[0m \u001b[0mprint_response\u001b[0m\u001b[1;33m(\u001b[0m\u001b[0mresponse\u001b[0m\u001b[1;33m)\u001b[0m\u001b[1;33m\u001b[0m\u001b[1;33m\u001b[0m\u001b[0m\n",
      "\u001b[1;32m~\\Anaconda3\\lib\\site-packages\\googleapiclient\\discovery.py\u001b[0m in \u001b[0;36mmethod\u001b[1;34m(self, **kwargs)\u001b[0m\n\u001b[0;32m    768\u001b[0m                     \u001b[0m_methodProperties\u001b[0m\u001b[1;33m(\u001b[0m\u001b[0mmethodDesc\u001b[0m\u001b[1;33m,\u001b[0m \u001b[0mschema\u001b[0m\u001b[1;33m,\u001b[0m \u001b[1;34m\"response\"\u001b[0m\u001b[1;33m)\u001b[0m\u001b[1;33m\u001b[0m\u001b[1;33m\u001b[0m\u001b[0m\n\u001b[0;32m    769\u001b[0m                 ):\n\u001b[1;32m--> 770\u001b[1;33m                     \u001b[1;32mraise\u001b[0m \u001b[0mTypeError\u001b[0m\u001b[1;33m(\u001b[0m\u001b[1;34m'Missing required parameter \"%s\"'\u001b[0m \u001b[1;33m%\u001b[0m \u001b[0mname\u001b[0m\u001b[1;33m)\u001b[0m\u001b[1;33m\u001b[0m\u001b[1;33m\u001b[0m\u001b[0m\n\u001b[0m\u001b[0;32m    771\u001b[0m \u001b[1;33m\u001b[0m\u001b[0m\n\u001b[0;32m    772\u001b[0m         \u001b[1;32mfor\u001b[0m \u001b[0mname\u001b[0m\u001b[1;33m,\u001b[0m \u001b[0mregex\u001b[0m \u001b[1;32min\u001b[0m \u001b[0msix\u001b[0m\u001b[1;33m.\u001b[0m\u001b[0miteritems\u001b[0m\u001b[1;33m(\u001b[0m\u001b[0mparameters\u001b[0m\u001b[1;33m.\u001b[0m\u001b[0mpattern_params\u001b[0m\u001b[1;33m)\u001b[0m\u001b[1;33m:\u001b[0m\u001b[1;33m\u001b[0m\u001b[1;33m\u001b[0m\u001b[0m\n",
      "\u001b[1;31mTypeError\u001b[0m: Missing required parameter \"part\""
     ]
    }
   ],
   "source": [
    "import os \n",
    "import google.oauth2.credentials \n",
    "import google_auth_oauthlib.flow \n",
    "from googleapiclient.discovery import build \n",
    "from googleapiclient.errors import HttpError \n",
    "from google_auth_oauthlib.flow import InstalledAppFlow \n",
    "  \n",
    "# The CLIENT_SECRETS_FILE variable specifies  \n",
    "# the name of a file that contains \n",
    "# client_id and client_secret. \n",
    "CLIENT_SECRETS_FILE = \"client_secrets.json\"\n",
    "  \n",
    "# This scope allows for full read/write access \n",
    "# to the authenticated user's account and requires \n",
    "# requests to use an SSL connection. \n",
    "SCOPES = ['https://www.googleapis.com/auth/youtube.force-ssl'] \n",
    "API_SERVICE_NAME = 'youtube'\n",
    "API_VERSION = 'v3'\n",
    "  \n",
    "def get_authenticated_service(): \n",
    "    flow = InstalledAppFlow.from_client_secrets_file( \n",
    "                         CLIENT_SECRETS_FILE, SCOPES) \n",
    "                           \n",
    "    credentials = flow.run_console() \n",
    "    return build(API_SERVICE_NAME, API_VERSION, credentials = credentials) \n",
    "  \n",
    "def print_response(response): \n",
    "    print(response) \n",
    "  \n",
    "\n",
    " #  Build a resource based on a list of properties  \n",
    "# given as key-value pairs. Leave properties with \n",
    "# empty values out of the inserted resource. \n",
    "\n",
    "def build_resource(properties): \n",
    "    resource = {} \n",
    "    for p in properties: \n",
    "        # Given a key like \"snippet.title\", split into  \n",
    "        # \"snippet\" and \"title\", where \"snippet\" will be \n",
    "        # an object and \"title\" will be a property in that object. \n",
    "        prop_array = p.split('.') \n",
    "        ref = resource \n",
    "        for pa in range(0, len(prop_array)): \n",
    "            is_array = False\n",
    "            key = prop_array[pa] \n",
    "      \n",
    "        # For properties that have array values, \n",
    "        # convert a name like \"snippet.tags[]\" to  \n",
    "        # snippet.tags, and set a flag to handle \n",
    "        # the value as an array. \n",
    "        if key[-2:] == '[]': \n",
    "            key = key[0:len(key)-2:] \n",
    "            is_array = True\n",
    "      \n",
    "        if pa == (len(prop_array) - 1): \n",
    "            # Leave properties without values  \n",
    "            # out of inserted resource. \n",
    "            if properties[p]: \n",
    "                if is_array: \n",
    "                    ref[key] = properties[p].split(',') \n",
    "            else: \n",
    "                ref[key] = properties[p] \n",
    "        elif key not in ref: \n",
    "            # For example, the property is \"snippet.title\", \n",
    "            # but the resource does not yet have a \"snippet\" \n",
    "            # object. Create the snippet object here. \n",
    "            # Setting \"ref = ref[key]\" means that in the next \n",
    "            # time through the \"for pa in range ...\" loop, we \n",
    "            # will be setting a property in the \n",
    "            # resource's \"snippet\" object. \n",
    "            ref[key] = {} \n",
    "            ref = ref[key] \n",
    "        else: \n",
    "            # For example, the property is \"snippet.description\", \n",
    "            # and the resource already has a \"snippet\" object. \n",
    "            ref = ref[key] \n",
    "    return resource \n",
    "  \n",
    "# Remove keyword arguments that are not set \n",
    "def remove_empty_kwargs(**kwargs): \n",
    "    good_kwargs = {} \n",
    "    if kwargs is not None: \n",
    "        for key, value in kwargs.items(): \n",
    "            if value: \n",
    "                good_kwargs[key] = value \n",
    "\n",
    "    return good_kwargs \n",
    "      \n",
    "\n",
    "def playlist_items_insert(client, properties, **kwargs): \n",
    "    resource = build_resource(properties) \n",
    "    kwargs = remove_empty_kwargs(**kwargs) \n",
    "    response = client.playlistItems().insert( \n",
    "        body=resource,**kwargs).execute() \n",
    "\n",
    "    return print_response(response) \n",
    "\n",
    "  \n",
    "if __name__ == '__main__': \n",
    "      \n",
    "    # When running locally, disable OAuthlib's HTTPs \n",
    "    # verification. When running in production *do not*  \n",
    "    # leave this option enabled. \n",
    "    os.environ['OAUTHLIB_INSECURE_TRANSPORT'] = '1'\n",
    "    client = get_authenticated_service() \n",
    "      \n",
    "    playlist_items_insert(client,  \n",
    "        {'snippet.playlistId': 'PLPKZ6FAxaaf-FG89RDpcj93J5_kCy6VIk', \n",
    "        'snippet.resourceId.kind': 'youtube#video', \n",
    "        'snippet.resourceId.videoId': '3xdfBwFb2DU', \n",
    "        'snippet.position': ''},\n",
    "        part='snippet',\n",
    "        onBehalfOfContentOwner='') \n",
    "\n",
    "#     add_video_to_playlist(youtube, '3xdfBwFb2DU', 'PLPKZ6FAxaaf-FG89RDpcj93J5_kCy6VIk')"
   ]
  },
  {
   "cell_type": "code",
   "execution_count": 3,
   "metadata": {},
   "outputs": [
    {
     "data": {
      "text/plain": [
       "['BackgroundBrowser',\n",
       " 'BaseBrowser',\n",
       " 'Chrome',\n",
       " 'Chromium',\n",
       " 'Elinks',\n",
       " 'Error',\n",
       " 'Galeon',\n",
       " 'GenericBrowser',\n",
       " 'Grail',\n",
       " 'Konqueror',\n",
       " 'Mozilla',\n",
       " 'Netscape',\n",
       " 'Opera',\n",
       " 'UnixBrowser',\n",
       " 'WindowsDefault',\n",
       " '__all__',\n",
       " '__builtins__',\n",
       " '__cached__',\n",
       " '__doc__',\n",
       " '__file__',\n",
       " '__loader__',\n",
       " '__name__',\n",
       " '__package__',\n",
       " '__spec__',\n",
       " '_browsers',\n",
       " '_lock',\n",
       " '_os_preferred_browser',\n",
       " '_synthesize',\n",
       " '_tryorder',\n",
       " 'get',\n",
       " 'main',\n",
       " 'open',\n",
       " 'open_new',\n",
       " 'open_new_tab',\n",
       " 'os',\n",
       " 'register',\n",
       " 'register_X_browsers',\n",
       " 'register_standard_browsers',\n",
       " 'shlex',\n",
       " 'shutil',\n",
       " 'subprocess',\n",
       " 'sys',\n",
       " 'threading']"
      ]
     },
     "execution_count": 3,
     "metadata": {},
     "output_type": "execute_result"
    }
   ],
   "source": [
    "import google_auth_oauthlib.flow\n",
    "dir(google_auth_oauthlib.flow.webbrowser)"
   ]
  },
  {
   "cell_type": "markdown",
   "metadata": {},
   "source": [
    "# 3. 플레이리스트 loop 종료 시마다 playlist에 곡 추가하기\n",
    "> 미리 DB에 저장해놓고 추가하는 방법도 있음"
   ]
  },
  {
   "cell_type": "code",
   "execution_count": null,
   "metadata": {},
   "outputs": [],
   "source": []
  }
 ],
 "metadata": {
  "kernelspec": {
   "display_name": "Python 3",
   "language": "python",
   "name": "python3"
  },
  "language_info": {
   "codemirror_mode": {
    "name": "ipython",
    "version": 3
   },
   "file_extension": ".py",
   "mimetype": "text/x-python",
   "name": "python",
   "nbconvert_exporter": "python",
   "pygments_lexer": "ipython3",
   "version": "3.7.3"
  }
 },
 "nbformat": 4,
 "nbformat_minor": 2
}
