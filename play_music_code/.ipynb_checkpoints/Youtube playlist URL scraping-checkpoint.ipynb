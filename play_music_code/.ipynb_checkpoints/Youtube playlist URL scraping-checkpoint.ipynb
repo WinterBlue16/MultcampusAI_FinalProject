{
 "cells": [
  {
   "cell_type": "markdown",
   "metadata": {},
   "source": [
    "# 감정별 음악 랜덤 재생을 위한 playlist scraping\n",
    "- modeling에서 얼굴 사진들을 세 가지 감정으로 분류하였다.\n",
    "- 분류된 감정에 알맞은 음악을 추천하기 위해 Youtube의 playlist를 활용하기로 하였다.\n",
    "- 구축된 playlist별 리스트 만드는 과정을 자동화하기 위해 이하의 코드를 사용하였다.\n",
    "<br>\n",
    "\n",
    "- url 추출 시 class에 여러 개의 아이템이 들어 있다. 깔끔하게 뽑히는 아이템도 있지만, 아이템에 따라 영상 url 일부가 누락되는 상황도 생기므로 반드시 playlist의 곡 갯수와 대조해 보아야 한다. "
   ]
  },
  {
   "cell_type": "code",
   "execution_count": null,
   "metadata": {},
   "outputs": [],
   "source": [
    "# 0. 라이브러리 불러오기\n",
    "from bs4 import BeautifulSoup\n",
    "from urllib.request import urlopen\n",
    "\n",
    "# 1. Youtube playlist 불러오기\n",
    "# URL 분석\n",
    "\n",
    "url = https://www.youtube.com/watch?v=Ubj5N2hHHPg  \n",
    "    &list=PLPKZ6FAxaaf-FG89RDpcj93J5_kCy6VIk # 플레이리스트명\n",
    "    &index=3 # 인덱스명\n",
    "    \n",
    "# 2. Playlist 주소 뽑아내기\n",
    "# 비공개로 표시되어 있을 경우 link 자체가 scraping 되지 않는다!!\n",
    "\n",
    "def geturllink(url): # url을 뽑아내기 위한 함수 만들기\n",
    "    html=urlopen(url)\n",
    "    response=html.read()\n",
    "    soup=BeautifulSoup(response)\n",
    "# print(soup)\n",
    "    res =soup.find_all('a', {'class': 'spf-link'}) # 첫 번째 영상 url이 누락되지 않도록 주의!\n",
    "# print(res)\n",
    "    url_list = []\n",
    "    for l in res:\n",
    "        link = l.get('href')\n",
    "        music_url = 'http://youtube.com'+link\n",
    "        if \"/watch?\" in music_url:\n",
    "            # print(music_url)\n",
    "            url_list.append(music_url)\n",
    "\n",
    "    final_list = list(set(url_list))\n",
    "    return final_list\n",
    "\n",
    "# 짧게 활용할 수 있는 코드 : matching = [s for s in some_list if \"abc\" in s] "
   ]
  }
 ],
 "metadata": {
  "kernelspec": {
   "display_name": "Python 3",
   "language": "python",
   "name": "python3"
  },
  "language_info": {
   "codemirror_mode": {
    "name": "ipython",
    "version": 3
   },
   "file_extension": ".py",
   "mimetype": "text/x-python",
   "name": "python",
   "nbconvert_exporter": "python",
   "pygments_lexer": "ipython3",
   "version": "3.7.3"
  }
 },
 "nbformat": 4,
 "nbformat_minor": 2
}
